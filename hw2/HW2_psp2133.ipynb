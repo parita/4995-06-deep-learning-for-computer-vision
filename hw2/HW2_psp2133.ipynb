{
 "cells": [
  {
   "cell_type": "markdown",
   "metadata": {},
   "source": [
    "# Deep Learning for Computer Vision:  Assignment 2\n"
   ]
  },
  {
   "cell_type": "markdown",
   "metadata": {},
   "source": [
    "## Computer Science: COMS W 4995 004\n"
   ]
  },
  {
   "cell_type": "markdown",
   "metadata": {},
   "source": [
    "## Due: February 27, 2018"
   ]
  },
  {
   "cell_type": "markdown",
   "metadata": {},
   "source": [
    "#### Problem"
   ]
  },
  {
   "cell_type": "markdown",
   "metadata": {},
   "source": [
    "You are given the noisy XOR data generated for you below. Your task is to implement a multi-layer perceptron binary classifier with one hidden layer. For the activiation function of the hidden units use ReLu or leaky ReLu. For the loss function use a softplus on a linear output layer as we did in class.\n",
    "\n",
    "a) Implement each layer of the network as a separate function with both forward propagation and backpropagation. \n",
    "\n",
    "b) Train the network using stochastic gradient descent with mini-batches.  \n",
    "\n",
    "c) Show the decision regions of the trained classifier by densely generating points in the plane and color coding these points with the binary labels. \n",
    "\n",
    "d) Repeat (b) and (c) varying the number of hidden units: 3, 16, 512. Discuss how the number of hidden units affects the solution.\n",
    "\n",
    "e) Try choosing your own loss function (without asking me or the TAs what you should choose), repeating (d).\n",
    "\n",
    "f) Now try with three inputs, generating your own training and validation data. (For this XOR the output should be a 1 if and only if exactly one of the inputs is 1. But make the training data noisey as before.) Use softplus loss. Do not try to show the decision regions, instead generate a validation set in the same manner as the training set, classify the samples, and compute the classification accuracy.\n",
    "\n",
    "If you are struggling to get the network to converge, experiment with different learning rates.\n",
    "\n",
    "Grading: a-d = 85%, e=10%, f=5%. \n",
    "\n",
    "#### NOTE:  Do not to use keras, tensorflow, pytorch, sklearn, etc. to do this.  You must build the machine learning components from scratch.\n",
    "\n"
   ]
  },
  {
   "cell_type": "markdown",
   "metadata": {},
   "source": [
    "Let's start by importing some libraries."
   ]
  },
  {
   "cell_type": "code",
   "execution_count": 1,
   "metadata": {},
   "outputs": [],
   "source": [
    "import numpy as np\n",
    "import random\n",
    "import pandas as pd\n",
    "import matplotlib.pyplot as plt\n",
    "from tqdm import tqdm"
   ]
  },
  {
   "cell_type": "markdown",
   "metadata": {},
   "source": [
    "Let's make up some noisy XOR data."
   ]
  },
  {
   "cell_type": "code",
   "execution_count": 2,
   "metadata": {},
   "outputs": [
    {
     "data": {
      "text/html": [
       "<div>\n",
       "<style scoped>\n",
       "    .dataframe tbody tr th:only-of-type {\n",
       "        vertical-align: middle;\n",
       "    }\n",
       "\n",
       "    .dataframe tbody tr th {\n",
       "        vertical-align: top;\n",
       "    }\n",
       "\n",
       "    .dataframe thead th {\n",
       "        text-align: right;\n",
       "    }\n",
       "</style>\n",
       "<table border=\"1\" class=\"dataframe\">\n",
       "  <thead>\n",
       "    <tr style=\"text-align: right;\">\n",
       "      <th></th>\n",
       "      <th>x1</th>\n",
       "      <th>x2</th>\n",
       "      <th>y</th>\n",
       "    </tr>\n",
       "  </thead>\n",
       "  <tbody>\n",
       "    <tr>\n",
       "      <th>0</th>\n",
       "      <td>1.237878</td>\n",
       "      <td>-0.099275</td>\n",
       "      <td>1.0</td>\n",
       "    </tr>\n",
       "    <tr>\n",
       "      <th>1</th>\n",
       "      <td>0.183164</td>\n",
       "      <td>0.394355</td>\n",
       "      <td>0.0</td>\n",
       "    </tr>\n",
       "    <tr>\n",
       "      <th>2</th>\n",
       "      <td>0.105153</td>\n",
       "      <td>0.850634</td>\n",
       "      <td>1.0</td>\n",
       "    </tr>\n",
       "    <tr>\n",
       "      <th>3</th>\n",
       "      <td>0.079044</td>\n",
       "      <td>1.157975</td>\n",
       "      <td>1.0</td>\n",
       "    </tr>\n",
       "    <tr>\n",
       "      <th>4</th>\n",
       "      <td>-0.049224</td>\n",
       "      <td>0.811017</td>\n",
       "      <td>1.0</td>\n",
       "    </tr>\n",
       "  </tbody>\n",
       "</table>\n",
       "</div>"
      ],
      "text/plain": [
       "         x1        x2    y\n",
       "0  1.237878 -0.099275  1.0\n",
       "1  0.183164  0.394355  0.0\n",
       "2  0.105153  0.850634  1.0\n",
       "3  0.079044  1.157975  1.0\n",
       "4 -0.049224  0.811017  1.0"
      ]
     },
     "execution_count": 2,
     "metadata": {},
     "output_type": "execute_result"
    }
   ],
   "source": [
    "data = pd.DataFrame(np.zeros((5000, 3)), columns=['x1', 'x2', 'y'])\n",
    "\n",
    "# Let's make up some noisy XOR data to use to build our binary classifier\n",
    "for i in range(len(data.index)):\n",
    "    x1 = 1.0 * random.randint(0,1)\n",
    "    x2 = 1.0 * random.randint(0,1)\n",
    "    y = 1.0 * np.logical_xor(x1==1,x2==1)\n",
    "    x1 = x1 + 0.15 * np.random.normal()\n",
    "    x2 = x2 + 0.15 * np.random.normal()\n",
    "    data.iloc[i,0] = x1\n",
    "    data.iloc[i,1] = x2\n",
    "    data.iloc[i,2] = y\n",
    "        \n",
    "data.head()"
   ]
  },
  {
   "cell_type": "markdown",
   "metadata": {},
   "source": [
    "Let's message this data into a numpy format."
   ]
  },
  {
   "cell_type": "code",
   "execution_count": 3,
   "metadata": {},
   "outputs": [],
   "source": [
    "# set X (training data) and y (target variable)\n",
    "cols = data.shape[1]\n",
    "X = data.iloc[:,0:cols-1]\n",
    "y = data.iloc[:,cols-1:cols]\n",
    "\n",
    "# The cost function is expecting numpy matrices so we need to convert X and y before we can use them.  \n",
    "X = np.matrix(X.values)\n",
    "y = np.matrix(y.values)"
   ]
  },
  {
   "cell_type": "markdown",
   "metadata": {},
   "source": [
    "Let's make a sloppy plotting function for our binary data."
   ]
  },
  {
   "cell_type": "code",
   "execution_count": 4,
   "metadata": {},
   "outputs": [],
   "source": [
    "# Sloppy function for plotting our data\n",
    "def plot_data(X, y_prob):\n",
    "    \n",
    "    fig, ax = plt.subplots(figsize=(12,8))\n",
    "    ax.margins(0.05) # Optional, just adds 5% padding to the autoscaling\n",
    "\n",
    "    y_predict = y_prob > 0.5\n",
    "    indices_0 = [k for k in range(0, X.shape[0]) if not y_predict[k]]\n",
    "    indices_1 = [k for k in range(0, X.shape[0]) if y_predict[k]]\n",
    "\n",
    "    ax.plot(X[indices_0, 0], X[indices_0,1], marker='o', linestyle='', ms=5, label='0')\n",
    "    ax.plot(X[indices_1, 0], X[indices_1,1], marker='o', linestyle='', ms=5, label='1')\n",
    "\n",
    "    ax.legend()\n",
    "    ax.legend(loc=2)\n",
    "    ax.set_xlabel('x1')\n",
    "    ax.set_ylabel('x2')\n",
    "    ax.set_title('Noisy XOR')\n",
    "    plt.show()"
   ]
  },
  {
   "cell_type": "markdown",
   "metadata": {},
   "source": [
    "Now let's plot it."
   ]
  },
  {
   "cell_type": "code",
   "execution_count": 77,
   "metadata": {},
   "outputs": [
    {
     "data": {
      "image/png": "[encoded data removed]",
      "text/plain": [
       "<matplotlib.figure.Figure at 0x1156f8f60>"
      ]
     },
     "metadata": {},
     "output_type": "display_data"
    }
   ],
   "source": [
    "plot_data(X, y)"
   ]
  },
  {
   "cell_type": "markdown",
   "metadata": {},
   "source": [
    "Now let's create functions for forward and backward prop through the layers and we are off..."
   ]
  },
  {
   "cell_type": "code",
   "execution_count": 5,
   "metadata": {},
   "outputs": [],
   "source": [
    "# Add a dimension for the bias\n",
    "# X = np.c_[X, np.ones(X.shape[0])]"
   ]
  },
  {
   "cell_type": "code",
   "execution_count": 6,
   "metadata": {},
   "outputs": [],
   "source": [
    "def next_batch(X, y, batch_size = 100):\n",
    "    n = X.shape[0]\n",
    "    idx = np.arange(n)\n",
    "    np.random.shuffle(idx)\n",
    "    idx = idx[:batch_size]\n",
    "    return X[idx, :], y[idx, :]"
   ]
  },
  {
   "cell_type": "code",
   "execution_count": 7,
   "metadata": {},
   "outputs": [],
   "source": [
    "def relu(a):\n",
    "    a[a < 0] = 0\n",
    "    return a\n",
    "\n",
    "def leaky_relu(a, eps):\n",
    "    a[np.where(a < 0)] *= eps\n",
    "    return a"
   ]
  },
  {
   "cell_type": "code",
   "execution_count": 8,
   "metadata": {},
   "outputs": [],
   "source": [
    "def sigmoid(z):\n",
    "    return 1.0/(1.0 + np.exp(-z))"
   ]
  },
  {
   "cell_type": "code",
   "execution_count": 9,
   "metadata": {},
   "outputs": [],
   "source": [
    "def softplus(data, labels, a):\n",
    "    loss = np.multiply(1 - 2*labels, a)\n",
    "    loss = np.log(1 + np.exp(loss))\n",
    "    return loss"
   ]
  },
  {
   "cell_type": "code",
   "execution_count": 28,
   "metadata": {},
   "outputs": [],
   "source": [
    "class Network():\n",
    "    def __init__(self, hidden_units = 3, lr = 0.1,\n",
    "                 batch_size = 100, debug = False):\n",
    "\n",
    "        # Network specifications\n",
    "        self.hidden_units = hidden_units\n",
    "        self.batch_size = batch_size\n",
    "        self.lr = lr\n",
    "        self.debug = debug\n",
    "        \n",
    "        # Initialize network parameters\n",
    "        w1 = np.random.rand(hidden_units, X.shape[1]) - 0.5\n",
    "        w2 = np.random.rand(y.shape[1], hidden_units) - 0.5\n",
    "        b1 = np.zeros((hidden_units, 1))\n",
    "        b2 = np.zeros((y.shape[1], 1))\n",
    "        \n",
    "        self.weights = [w1, w2]\n",
    "        self.bias = [b1, b2]\n",
    "        \n",
    "        # Initialize batchwise layer outputs as empty\n",
    "        self.linear1 = []\n",
    "        self.relu1 = []\n",
    "        self.eps = 0.01\n",
    "        self.linear2 = []\n",
    "        \n",
    "        # Initialize batchwise gradients as empty\n",
    "        self.allgrad_weight1 = []\n",
    "        self.allgrad_weight2 = []\n",
    "        self.allgrad_bias1 = []\n",
    "        self.allgrad_bias2 = []\n",
    "    \n",
    "    # Feedforward for entire batch\n",
    "    def forward(self, data):\n",
    "        self.linear1 = []\n",
    "        self.relu1 = []\n",
    "        self.linear2 = []\n",
    "        for idx in range(data.shape[0]):\n",
    "            x = data[idx, ::].T\n",
    "            self._forward(x, idx)\n",
    "        return np.array(self.linear2)\n",
    "    \n",
    "    # Feedforward for a single data point\n",
    "    def _forward(self, x, idx):\n",
    "        linear1 = np.dot(self.weights[0], x) + self.bias[0]\n",
    "        relu1 = leaky_relu(linear1, self.eps)\n",
    "        linear2 = np.dot(self.weights[1], relu1) + self.bias[1]\n",
    "        \n",
    "        self.linear1.append(linear1)\n",
    "        self.relu1.append(relu1)\n",
    "        self.linear2.append(linear2)\n",
    "        \n",
    "        if self.debug and idx == 0:\n",
    "            print(\"\\n---- PRINT FORWARD DATA ----\\n\")\n",
    "            print(\"linear1 = \", linear1)\n",
    "            print(\"relu1 = \", relu1)\n",
    "            print(\"linear2 = \", linear2)\n",
    "        \n",
    "        return linear2\n",
    "        \n",
    "    # Backprop for entire batch\n",
    "    def backward(self, L, data, labels):\n",
    "        if (data.shape[0] != labels.shape[0]):\n",
    "            print(\"Data and labels shapes mismatch\")\n",
    "            return None\n",
    "        \n",
    "        self.allgrad_weight1 = []\n",
    "        self.allgrad_weight2 = []\n",
    "        self.allgrad_bias1 = []\n",
    "        self.allgrad_bias2 = []\n",
    "        for idx in range(data.shape[0]):\n",
    "            x = data[idx, ::].T\n",
    "            y = labels[idx]\n",
    "            self._backward(L, x, y, idx)\n",
    "\n",
    "        self.grad_weights = [np.mean(self.allgrad_weight1),\n",
    "                             np.mean(self.allgrad_weight2)]\n",
    "        self.grad_bias = [np.mean(self.allgrad_bias1),\n",
    "                          np.mean(self.allgrad_bias2)]\n",
    "        \n",
    "    # Backprop for a single data point\n",
    "    def _backward(self, L, x, y, idx):\n",
    "        r = 1.0 - 2*y\n",
    "        grad_bias2 = sigmoid(r * self.linear2[idx]) * r\n",
    "        grad_weight2 = np.multiply(grad_bias2, self.relu1[idx])\n",
    "        grad_relu1 = grad_bias2 * self.weights[1]\n",
    "        grad_linear1 = grad_relu1.T\n",
    "        grad_linear1[np.where(self.relu1[idx] <= 0)] *= self.eps\n",
    "        grad_weight1 = np.dot(grad_linear1, x.T)\n",
    "        grad_bias1 = grad_linear1\n",
    "            \n",
    "        self.allgrad_weight1.append(grad_weight1)\n",
    "        self.allgrad_weight2.append(grad_weight2)\n",
    "        self.allgrad_bias1.append(grad_bias1)\n",
    "        self.allgrad_bias2.append(grad_bias2)\n",
    "        \n",
    "        if (self.debug and idx == 0):\n",
    "            print(\"\\n---- PRINT BACKWARD DATA ----\\n\")\n",
    "            print(\"linear2 = \", self.linear2[idx])\n",
    "            print(\"r:\", r, \"y:\", y)\n",
    "            print(\"weight2:\", self.weights[1])\n",
    "            print(\"grad_bias2:\", grad_bias2)\n",
    "            print(\"grad_weight2:\", grad_weight2)\n",
    "            print(\"weight1:\", self.weights[0])\n",
    "            print(\"grad_relu1:\", grad_relu1)\n",
    "            print(\"grad_linear1:\", grad_linear1)\n",
    "            print(\"grad_weight1:\", grad_weight1)\n",
    "            print(\"grad_bias1:\", grad_bias1)\n",
    "    \n",
    "    # Update mini batch weights\n",
    "    def update_weights(self):\n",
    "        self.weights[0] -= (self.lr * self.grad_weights[0])\n",
    "        self.weights[1] -= (self.lr * self.grad_weights[1])\n",
    "        self.bias[0] -= (self.lr * self.grad_bias[0])\n",
    "        self.bias[1] -= (self.lr * self.grad_bias[1])\n",
    "        \n",
    "    # Predict labels\n",
    "    def predict(self, data):\n",
    "        out = self.forward(data)\n",
    "        out[out >= 0] = 1\n",
    "        out[out < 0] = 0\n",
    "        return out\n",
    "    \n",
    "    # Compute accuracy\n",
    "    def accuracy(self, data, labels):\n",
    "        predicted_labels = self.predict(data).reshape(-1, 1)\n",
    "        matches = np.where(predicted_labels == labels)\n",
    "        return np.sum(labels == predicted_labels) / labels.shape[0] * 100.0"
   ]
  },
  {
   "cell_type": "code",
   "execution_count": 23,
   "metadata": {},
   "outputs": [],
   "source": [
    "# Split indexes for training and testing\n",
    "def split_data():\n",
    "    train_n = X.shape[0]\n",
    "    test_n = batch_size * 5\n",
    "    train_n = train_n - test_n\n",
    "    train_idx = np.arange(train_n)\n",
    "    test_idx = np.arange(train_n, train_n + test_n)\n",
    "    print(\"Split (train/test): (%d/%d)\" %(train_n, test_n))\n",
    "    data, labels = X[train_idx, ::], y[train_idx, ::]\n",
    "    test_data, test_labels = X[test_idx, ::], y[test_idx, ::]\n",
    "    return data, labels, test_data, test_labels"
   ]
  },
  {
   "cell_type": "code",
   "execution_count": 29,
   "metadata": {},
   "outputs": [],
   "source": [
    "# Train an epoch\n",
    "def train(net, epoch, data, labels):\n",
    "    train_n = data.shape[0]\n",
    "    train_idx = np.arange(train_n)\n",
    "    np.random.shuffle(train_idx)\n",
    "    \n",
    "    train_loss = []\n",
    "    train_acc = []\n",
    "    for i in tqdm(range(0, train_n, batch_size)):\n",
    "        batch_idx = train_idx[i:i + batch_size]\n",
    "        batch_X = data[batch_idx, :]\n",
    "        batch_y = labels[batch_idx, ::]\n",
    "        \n",
    "        # Feedforward\n",
    "        a = net.forward(batch_X)\n",
    "        loss = softplus(batch_X, batch_y, a.reshape(batch_size, 1))\n",
    "        train_loss.append(loss)\n",
    "        acc = net.accuracy(batch_X, batch_y)\n",
    "        train_acc.append(acc)\n",
    "        net.backward(loss, batch_X, batch_y)\n",
    "        net.update_weights()\n",
    "    \n",
    "    print(\"Epoch %d, Train loss: %.4f\" %(epoch, np.mean(train_loss)))\n",
    "    print(\"Epoch %d, Train Accuracy: %.4f\" %(epoch, np.mean(train_acc)))"
   ]
  },
  {
   "cell_type": "code",
   "execution_count": 30,
   "metadata": {},
   "outputs": [],
   "source": [
    "# Test validation data\n",
    "def test(net, test_data, test_labels):\n",
    "    test_n = test_data.shape[0]\n",
    "    test_idx = np.arange(test_n)\n",
    "    test_loss = []\n",
    "    test_acc = []\n",
    "    for i in tqdm(range(0, test_n, batch_size)):\n",
    "        batch_idx = test_idx[i:i + batch_size]\n",
    "        batch_X = test_data[batch_idx, :]\n",
    "        test_labels = y[batch_idx, ::]\n",
    "        a = net.forward(batch_X)\n",
    "        loss = softplus(batch_X, batch_y, a.reshape(batch_size, 1))\n",
    "        test_loss.append(loss)\n",
    "        acc = net3.accuracy(batch_X, batch_y)\n",
    "        test_acc.append(acc)\n",
    "        print(\"Batch %d: %d/%d Accuracy: %f\" %(i/batch_size, i, test_n, acc))    \n",
    "\n",
    "    print(\"Test loss:\", np.mean(test_loss))\n",
    "    print(\"Accuracy:\", np.mean(test_acc))"
   ]
  },
  {
   "cell_type": "markdown",
   "metadata": {},
   "source": [
    "Network with 3 hidden units, Accuracy: 91.6%"
   ]
  },
  {
   "cell_type": "code",
   "execution_count": null,
   "metadata": {
    "scrolled": true
   },
   "outputs": [
    {
     "name": "stderr",
     "output_type": "stream",
     "text": [
      "  7%|▋         | 7/95 [00:00<00:01, 69.25it/s]"
     ]
    },
    {
     "name": "stdout",
     "output_type": "stream",
     "text": [
      "Random seed: 7930\n",
      "Split (train/test): (4750/250)\n"
     ]
    },
    {
     "name": "stderr",
     "output_type": "stream",
     "text": [
      "100%|██████████| 95/95 [00:01<00:00, 76.40it/s]\n",
      "  7%|▋         | 7/95 [00:00<00:01, 65.09it/s]"
     ]
    },
    {
     "name": "stdout",
     "output_type": "stream",
     "text": [
      "Epoch 0, Train loss: 0.6953\n",
      "Epoch 0, Train Accuracy: 66.5263\n"
     ]
    },
    {
     "name": "stderr",
     "output_type": "stream",
     "text": [
      "100%|██████████| 95/95 [00:01<00:00, 69.75it/s]\n",
      "  5%|▌         | 5/95 [00:00<00:02, 38.79it/s]"
     ]
    },
    {
     "name": "stdout",
     "output_type": "stream",
     "text": [
      "Epoch 1, Train loss: 0.6949\n",
      "Epoch 1, Train Accuracy: 67.8526\n"
     ]
    },
    {
     "name": "stderr",
     "output_type": "stream",
     "text": [
      "100%|██████████| 95/95 [00:01<00:00, 57.67it/s]\n",
      "  8%|▊         | 8/95 [00:00<00:01, 73.62it/s]"
     ]
    },
    {
     "name": "stdout",
     "output_type": "stream",
     "text": [
      "Epoch 2, Train loss: 0.6946\n",
      "Epoch 2, Train Accuracy: 70.1895\n"
     ]
    },
    {
     "name": "stderr",
     "output_type": "stream",
     "text": [
      "100%|██████████| 95/95 [00:01<00:00, 68.10it/s]\n",
      "  8%|▊         | 8/95 [00:00<00:01, 76.94it/s]"
     ]
    },
    {
     "name": "stdout",
     "output_type": "stream",
     "text": [
      "Epoch 3, Train loss: 0.6942\n",
      "Epoch 3, Train Accuracy: 72.7579\n"
     ]
    },
    {
     "name": "stderr",
     "output_type": "stream",
     "text": [
      "100%|██████████| 95/95 [00:01<00:00, 66.95it/s]\n",
      "  7%|▋         | 7/95 [00:00<00:01, 61.24it/s]"
     ]
    },
    {
     "name": "stdout",
     "output_type": "stream",
     "text": [
      "Epoch 4, Train loss: 0.6939\n",
      "Epoch 4, Train Accuracy: 73.9579\n"
     ]
    },
    {
     "name": "stderr",
     "output_type": "stream",
     "text": [
      "100%|██████████| 95/95 [00:01<00:00, 47.83it/s]\n",
      "  9%|▉         | 9/95 [00:00<00:00, 88.92it/s]"
     ]
    },
    {
     "name": "stdout",
     "output_type": "stream",
     "text": [
      "Epoch 5, Train loss: 0.6937\n",
      "Epoch 5, Train Accuracy: 73.9789\n"
     ]
    },
    {
     "name": "stderr",
     "output_type": "stream",
     "text": [
      "100%|██████████| 95/95 [00:01<00:00, 93.89it/s]\n",
      "  8%|▊         | 8/95 [00:00<00:01, 76.13it/s]"
     ]
    },
    {
     "name": "stdout",
     "output_type": "stream",
     "text": [
      "Epoch 6, Train loss: 0.6934\n",
      "Epoch 6, Train Accuracy: 74.1053\n"
     ]
    },
    {
     "name": "stderr",
     "output_type": "stream",
     "text": [
      "100%|██████████| 95/95 [00:01<00:00, 87.31it/s]\n",
      "  8%|▊         | 8/95 [00:00<00:01, 74.59it/s]"
     ]
    },
    {
     "name": "stdout",
     "output_type": "stream",
     "text": [
      "Epoch 7, Train loss: 0.6933\n",
      "Epoch 7, Train Accuracy: 74.1263\n"
     ]
    },
    {
     "name": "stderr",
     "output_type": "stream",
     "text": [
      "100%|██████████| 95/95 [00:01<00:00, 83.45it/s]\n",
      "  8%|▊         | 8/95 [00:00<00:01, 79.24it/s]"
     ]
    },
    {
     "name": "stdout",
     "output_type": "stream",
     "text": [
      "Epoch 8, Train loss: 0.6931\n",
      "Epoch 8, Train Accuracy: 74.2316\n"
     ]
    },
    {
     "name": "stderr",
     "output_type": "stream",
     "text": [
      "100%|██████████| 95/95 [00:01<00:00, 80.05it/s]\n",
      "  9%|▉         | 9/95 [00:00<00:01, 82.31it/s]"
     ]
    },
    {
     "name": "stdout",
     "output_type": "stream",
     "text": [
      "Epoch 9, Train loss: 0.6929\n",
      "Epoch 9, Train Accuracy: 74.2316\n"
     ]
    },
    {
     "name": "stderr",
     "output_type": "stream",
     "text": [
      "100%|██████████| 95/95 [00:01<00:00, 77.43it/s]\n",
      "  9%|▉         | 9/95 [00:00<00:00, 88.22it/s]"
     ]
    },
    {
     "name": "stdout",
     "output_type": "stream",
     "text": [
      "Epoch 10, Train loss: 0.6928\n",
      "Epoch 10, Train Accuracy: 74.2105\n"
     ]
    },
    {
     "name": "stderr",
     "output_type": "stream",
     "text": [
      "100%|██████████| 95/95 [00:01<00:00, 91.34it/s]\n",
      "  9%|▉         | 9/95 [00:00<00:00, 89.79it/s]"
     ]
    },
    {
     "name": "stdout",
     "output_type": "stream",
     "text": [
      "Epoch 11, Train loss: 0.6926\n",
      "Epoch 11, Train Accuracy: 74.3579\n"
     ]
    },
    {
     "name": "stderr",
     "output_type": "stream",
     "text": [
      "100%|██████████| 95/95 [00:01<00:00, 86.44it/s]\n",
      " 11%|█         | 10/95 [00:00<00:00, 93.04it/s]"
     ]
    },
    {
     "name": "stdout",
     "output_type": "stream",
     "text": [
      "Epoch 12, Train loss: 0.6925\n",
      "Epoch 12, Train Accuracy: 74.3789\n"
     ]
    },
    {
     "name": "stderr",
     "output_type": "stream",
     "text": [
      "100%|██████████| 95/95 [00:01<00:00, 75.43it/s]\n",
      "  9%|▉         | 9/95 [00:00<00:01, 82.85it/s]"
     ]
    },
    {
     "name": "stdout",
     "output_type": "stream",
     "text": [
      "Epoch 13, Train loss: 0.6924\n",
      "Epoch 13, Train Accuracy: 74.2737\n"
     ]
    },
    {
     "name": "stderr",
     "output_type": "stream",
     "text": [
      "100%|██████████| 95/95 [00:01<00:00, 69.98it/s]\n",
      "  6%|▋         | 6/95 [00:00<00:01, 53.74it/s]"
     ]
    },
    {
     "name": "stdout",
     "output_type": "stream",
     "text": [
      "Epoch 14, Train loss: 0.6923\n",
      "Epoch 14, Train Accuracy: 74.3368\n"
     ]
    },
    {
     "name": "stderr",
     "output_type": "stream",
     "text": [
      "100%|██████████| 95/95 [00:01<00:00, 59.80it/s]\n",
      "  7%|▋         | 7/95 [00:00<00:01, 63.59it/s]"
     ]
    },
    {
     "name": "stdout",
     "output_type": "stream",
     "text": [
      "Epoch 15, Train loss: 0.6921\n",
      "Epoch 15, Train Accuracy: 73.8316\n"
     ]
    },
    {
     "name": "stderr",
     "output_type": "stream",
     "text": [
      "100%|██████████| 95/95 [00:01<00:00, 63.85it/s]\n",
      "  7%|▋         | 7/95 [00:00<00:01, 68.97it/s]"
     ]
    },
    {
     "name": "stdout",
     "output_type": "stream",
     "text": [
      "Epoch 16, Train loss: 0.6920\n",
      "Epoch 16, Train Accuracy: 74.3158\n"
     ]
    },
    {
     "name": "stderr",
     "output_type": "stream",
     "text": [
      "100%|██████████| 95/95 [00:01<00:00, 57.88it/s]\n",
      "  7%|▋         | 7/95 [00:00<00:01, 65.16it/s]"
     ]
    },
    {
     "name": "stdout",
     "output_type": "stream",
     "text": [
      "Epoch 17, Train loss: 0.6919\n",
      "Epoch 17, Train Accuracy: 74.3368\n"
     ]
    },
    {
     "name": "stderr",
     "output_type": "stream",
     "text": [
      "100%|██████████| 95/95 [00:01<00:00, 56.94it/s]\n",
      "  7%|▋         | 7/95 [00:00<00:01, 62.30it/s]"
     ]
    },
    {
     "name": "stdout",
     "output_type": "stream",
     "text": [
      "Epoch 18, Train loss: 0.6918\n",
      "Epoch 18, Train Accuracy: 74.3158\n"
     ]
    },
    {
     "name": "stderr",
     "output_type": "stream",
     "text": [
      "100%|██████████| 95/95 [00:01<00:00, 61.08it/s]\n",
      "  6%|▋         | 6/95 [00:00<00:01, 58.50it/s]"
     ]
    },
    {
     "name": "stdout",
     "output_type": "stream",
     "text": [
      "Epoch 19, Train loss: 0.6917\n",
      "Epoch 19, Train Accuracy: 74.2105\n"
     ]
    },
    {
     "name": "stderr",
     "output_type": "stream",
     "text": [
      "100%|██████████| 95/95 [00:01<00:00, 51.52it/s]\n",
      "  7%|▋         | 7/95 [00:00<00:01, 60.11it/s]"
     ]
    },
    {
     "name": "stdout",
     "output_type": "stream",
     "text": [
      "Epoch 20, Train loss: 0.6915\n",
      "Epoch 20, Train Accuracy: 74.1263\n"
     ]
    },
    {
     "name": "stderr",
     "output_type": "stream",
     "text": [
      "100%|██████████| 95/95 [00:01<00:00, 63.01it/s]\n",
      "  7%|▋         | 7/95 [00:00<00:01, 68.90it/s]"
     ]
    },
    {
     "name": "stdout",
     "output_type": "stream",
     "text": [
      "Epoch 21, Train loss: 0.6914\n",
      "Epoch 21, Train Accuracy: 74.2526\n"
     ]
    },
    {
     "name": "stderr",
     "output_type": "stream",
     "text": [
      "100%|██████████| 95/95 [00:01<00:00, 66.42it/s]\n",
      "  7%|▋         | 7/95 [00:00<00:01, 67.99it/s]"
     ]
    },
    {
     "name": "stdout",
     "output_type": "stream",
     "text": [
      "Epoch 22, Train loss: 0.6913\n",
      "Epoch 22, Train Accuracy: 74.2316\n"
     ]
    },
    {
     "name": "stderr",
     "output_type": "stream",
     "text": [
      "100%|██████████| 95/95 [00:01<00:00, 63.62it/s]\n",
      "  8%|▊         | 8/95 [00:00<00:01, 73.10it/s]"
     ]
    },
    {
     "name": "stdout",
     "output_type": "stream",
     "text": [
      "Epoch 23, Train loss: 0.6912\n",
      "Epoch 23, Train Accuracy: 74.2526\n"
     ]
    },
    {
     "name": "stderr",
     "output_type": "stream",
     "text": [
      "100%|██████████| 95/95 [00:01<00:00, 67.87it/s]\n",
      "  5%|▌         | 5/95 [00:00<00:02, 41.41it/s]"
     ]
    },
    {
     "name": "stdout",
     "output_type": "stream",
     "text": [
      "Epoch 24, Train loss: 0.6911\n",
      "Epoch 24, Train Accuracy: 74.2316\n"
     ]
    },
    {
     "name": "stderr",
     "output_type": "stream",
     "text": [
      "100%|██████████| 95/95 [00:01<00:00, 63.55it/s]\n",
      "  7%|▋         | 7/95 [00:00<00:01, 68.85it/s]"
     ]
    },
    {
     "name": "stdout",
     "output_type": "stream",
     "text": [
      "Epoch 25, Train loss: 0.6909\n",
      "Epoch 25, Train Accuracy: 74.2105\n"
     ]
    },
    {
     "name": "stderr",
     "output_type": "stream",
     "text": [
      "100%|██████████| 95/95 [00:01<00:00, 67.19it/s]\n",
      "  7%|▋         | 7/95 [00:00<00:01, 66.56it/s]"
     ]
    },
    {
     "name": "stdout",
     "output_type": "stream",
     "text": [
      "Epoch 26, Train loss: 0.6908\n",
      "Epoch 26, Train Accuracy: 74.2105\n"
     ]
    },
    {
     "name": "stderr",
     "output_type": "stream",
     "text": [
      "100%|██████████| 95/95 [00:01<00:00, 66.39it/s]\n",
      "  7%|▋         | 7/95 [00:00<00:01, 65.35it/s]"
     ]
    },
    {
     "name": "stdout",
     "output_type": "stream",
     "text": [
      "Epoch 27, Train loss: 0.6907\n",
      "Epoch 27, Train Accuracy: 74.0211\n"
     ]
    },
    {
     "name": "stderr",
     "output_type": "stream",
     "text": [
      "100%|██████████| 95/95 [00:01<00:00, 68.92it/s]\n",
      "  8%|▊         | 8/95 [00:00<00:01, 72.53it/s]"
     ]
    },
    {
     "name": "stdout",
     "output_type": "stream",
     "text": [
      "Epoch 28, Train loss: 0.6906\n",
      "Epoch 28, Train Accuracy: 74.0000\n"
     ]
    },
    {
     "name": "stderr",
     "output_type": "stream",
     "text": [
      "100%|██████████| 95/95 [00:01<00:00, 62.35it/s]\n",
      "  7%|▋         | 7/95 [00:00<00:01, 66.20it/s]"
     ]
    },
    {
     "name": "stdout",
     "output_type": "stream",
     "text": [
      "Epoch 29, Train loss: 0.6905\n",
      "Epoch 29, Train Accuracy: 74.1263\n"
     ]
    },
    {
     "name": "stderr",
     "output_type": "stream",
     "text": [
      "100%|██████████| 95/95 [00:01<00:00, 66.21it/s]\n",
      "  7%|▋         | 7/95 [00:00<00:01, 67.07it/s]"
     ]
    },
    {
     "name": "stdout",
     "output_type": "stream",
     "text": [
      "Epoch 30, Train loss: 0.6904\n",
      "Epoch 30, Train Accuracy: 74.1263\n"
     ]
    },
    {
     "name": "stderr",
     "output_type": "stream",
     "text": [
      "100%|██████████| 95/95 [00:01<00:00, 64.61it/s]\n",
      "  5%|▌         | 5/95 [00:00<00:01, 45.69it/s]"
     ]
    },
    {
     "name": "stdout",
     "output_type": "stream",
     "text": [
      "Epoch 31, Train loss: 0.6902\n",
      "Epoch 31, Train Accuracy: 74.0000\n"
     ]
    },
    {
     "name": "stderr",
     "output_type": "stream",
     "text": [
      "100%|██████████| 95/95 [00:01<00:00, 66.62it/s]\n",
      "  8%|▊         | 8/95 [00:00<00:01, 71.35it/s]"
     ]
    },
    {
     "name": "stdout",
     "output_type": "stream",
     "text": [
      "Epoch 32, Train loss: 0.6901\n",
      "Epoch 32, Train Accuracy: 73.8316\n"
     ]
    },
    {
     "name": "stderr",
     "output_type": "stream",
     "text": [
      "100%|██████████| 95/95 [00:01<00:00, 70.19it/s]\n",
      "  7%|▋         | 7/95 [00:00<00:01, 63.55it/s]"
     ]
    },
    {
     "name": "stdout",
     "output_type": "stream",
     "text": [
      "Epoch 33, Train loss: 0.6900\n",
      "Epoch 33, Train Accuracy: 73.8316\n"
     ]
    },
    {
     "name": "stderr",
     "output_type": "stream",
     "text": [
      "100%|██████████| 95/95 [00:01<00:00, 67.23it/s]\n",
      "  7%|▋         | 7/95 [00:00<00:01, 66.87it/s]"
     ]
    },
    {
     "name": "stdout",
     "output_type": "stream",
     "text": [
      "Epoch 34, Train loss: 0.6899\n",
      "Epoch 34, Train Accuracy: 74.1263\n"
     ]
    },
    {
     "name": "stderr",
     "output_type": "stream",
     "text": [
      "100%|██████████| 95/95 [00:01<00:00, 67.19it/s]\n",
      "  7%|▋         | 7/95 [00:00<00:01, 67.96it/s]"
     ]
    },
    {
     "name": "stdout",
     "output_type": "stream",
     "text": [
      "Epoch 35, Train loss: 0.6898\n",
      "Epoch 35, Train Accuracy: 73.8947\n"
     ]
    },
    {
     "name": "stderr",
     "output_type": "stream",
     "text": [
      "100%|██████████| 95/95 [00:01<00:00, 67.49it/s]\n",
      "  5%|▌         | 5/95 [00:00<00:01, 49.94it/s]"
     ]
    },
    {
     "name": "stdout",
     "output_type": "stream",
     "text": [
      "Epoch 36, Train loss: 0.6896\n",
      "Epoch 36, Train Accuracy: 73.4737\n"
     ]
    },
    {
     "name": "stderr",
     "output_type": "stream",
     "text": [
      "100%|██████████| 95/95 [00:01<00:00, 73.99it/s]\n",
      " 11%|█         | 10/95 [00:00<00:00, 95.88it/s]"
     ]
    },
    {
     "name": "stdout",
     "output_type": "stream",
     "text": [
      "Epoch 37, Train loss: 0.6895\n",
      "Epoch 37, Train Accuracy: 73.7053\n"
     ]
    },
    {
     "name": "stderr",
     "output_type": "stream",
     "text": [
      "100%|██████████| 95/95 [00:00<00:00, 95.18it/s]\n",
      " 11%|█         | 10/95 [00:00<00:00, 93.46it/s]"
     ]
    },
    {
     "name": "stdout",
     "output_type": "stream",
     "text": [
      "Epoch 38, Train loss: 0.6894\n",
      "Epoch 38, Train Accuracy: 73.6421\n"
     ]
    },
    {
     "name": "stderr",
     "output_type": "stream",
     "text": [
      "100%|██████████| 95/95 [00:01<00:00, 93.07it/s]\n",
      " 11%|█         | 10/95 [00:00<00:00, 91.87it/s]"
     ]
    },
    {
     "name": "stdout",
     "output_type": "stream",
     "text": [
      "Epoch 39, Train loss: 0.6893\n",
      "Epoch 39, Train Accuracy: 73.2632\n"
     ]
    },
    {
     "name": "stderr",
     "output_type": "stream",
     "text": [
      "100%|██████████| 95/95 [00:01<00:00, 93.41it/s]\n",
      " 11%|█         | 10/95 [00:00<00:00, 90.65it/s]"
     ]
    },
    {
     "name": "stdout",
     "output_type": "stream",
     "text": [
      "Epoch 40, Train loss: 0.6892\n",
      "Epoch 40, Train Accuracy: 73.0947\n"
     ]
    },
    {
     "name": "stderr",
     "output_type": "stream",
     "text": [
      "100%|██████████| 95/95 [00:01<00:00, 93.19it/s]\n",
      " 11%|█         | 10/95 [00:00<00:00, 92.48it/s]"
     ]
    },
    {
     "name": "stdout",
     "output_type": "stream",
     "text": [
      "Epoch 41, Train loss: 0.6890\n",
      "Epoch 41, Train Accuracy: 73.3053\n"
     ]
    },
    {
     "name": "stderr",
     "output_type": "stream",
     "text": [
      "100%|██████████| 95/95 [00:01<00:00, 94.54it/s]\n",
      " 11%|█         | 10/95 [00:00<00:00, 91.79it/s]"
     ]
    },
    {
     "name": "stdout",
     "output_type": "stream",
     "text": [
      "Epoch 42, Train loss: 0.6889\n",
      "Epoch 42, Train Accuracy: 73.7263\n"
     ]
    },
    {
     "name": "stderr",
     "output_type": "stream",
     "text": [
      "100%|██████████| 95/95 [00:01<00:00, 93.66it/s]\n",
      " 11%|█         | 10/95 [00:00<00:00, 95.96it/s]"
     ]
    },
    {
     "name": "stdout",
     "output_type": "stream",
     "text": [
      "Epoch 43, Train loss: 0.6888\n",
      "Epoch 43, Train Accuracy: 72.9053\n"
     ]
    },
    {
     "name": "stderr",
     "output_type": "stream",
     "text": [
      "100%|██████████| 95/95 [00:01<00:00, 93.64it/s]\n",
      " 12%|█▏        | 11/95 [00:00<00:00, 101.27it/s]"
     ]
    },
    {
     "name": "stdout",
     "output_type": "stream",
     "text": [
      "Epoch 44, Train loss: 0.6887\n",
      "Epoch 44, Train Accuracy: 72.8000\n"
     ]
    },
    {
     "name": "stderr",
     "output_type": "stream",
     "text": [
      "100%|██████████| 95/95 [00:01<00:00, 91.69it/s] \n",
      " 11%|█         | 10/95 [00:00<00:00, 93.03it/s]"
     ]
    },
    {
     "name": "stdout",
     "output_type": "stream",
     "text": [
      "Epoch 45, Train loss: 0.6886\n",
      "Epoch 45, Train Accuracy: 72.8211\n"
     ]
    },
    {
     "name": "stderr",
     "output_type": "stream",
     "text": [
      "100%|██████████| 95/95 [00:01<00:00, 94.04it/s]\n",
      " 11%|█         | 10/95 [00:00<00:00, 93.23it/s]"
     ]
    },
    {
     "name": "stdout",
     "output_type": "stream",
     "text": [
      "Epoch 46, Train loss: 0.6884\n",
      "Epoch 46, Train Accuracy: 72.7368\n"
     ]
    },
    {
     "name": "stderr",
     "output_type": "stream",
     "text": [
      "100%|██████████| 95/95 [00:01<00:00, 94.75it/s]\n",
      "  9%|▉         | 9/95 [00:00<00:00, 89.43it/s]"
     ]
    },
    {
     "name": "stdout",
     "output_type": "stream",
     "text": [
      "Epoch 47, Train loss: 0.6883\n",
      "Epoch 47, Train Accuracy: 72.6947\n"
     ]
    },
    {
     "name": "stderr",
     "output_type": "stream",
     "text": [
      "100%|██████████| 95/95 [00:01<00:00, 93.79it/s]\n",
      " 11%|█         | 10/95 [00:00<00:00, 97.15it/s]"
     ]
    },
    {
     "name": "stdout",
     "output_type": "stream",
     "text": [
      "Epoch 48, Train loss: 0.6882\n",
      "Epoch 48, Train Accuracy: 72.9684\n"
     ]
    },
    {
     "name": "stderr",
     "output_type": "stream",
     "text": [
      "100%|██████████| 95/95 [00:01<00:00, 87.80it/s]\n",
      " 11%|█         | 10/95 [00:00<00:00, 92.76it/s]"
     ]
    },
    {
     "name": "stdout",
     "output_type": "stream",
     "text": [
      "Epoch 49, Train loss: 0.6881\n",
      "Epoch 49, Train Accuracy: 72.8421\n"
     ]
    },
    {
     "name": "stderr",
     "output_type": "stream",
     "text": [
      "100%|██████████| 95/95 [00:01<00:00, 94.28it/s]\n",
      "  9%|▉         | 9/95 [00:00<00:00, 87.66it/s]"
     ]
    },
    {
     "name": "stdout",
     "output_type": "stream",
     "text": [
      "Epoch 50, Train loss: 0.6880\n",
      "Epoch 50, Train Accuracy: 72.4632\n"
     ]
    },
    {
     "name": "stderr",
     "output_type": "stream",
     "text": [
      "100%|██████████| 95/95 [00:01<00:00, 89.73it/s]\n",
      " 11%|█         | 10/95 [00:00<00:00, 91.45it/s]"
     ]
    },
    {
     "name": "stdout",
     "output_type": "stream",
     "text": [
      "Epoch 51, Train loss: 0.6879\n",
      "Epoch 51, Train Accuracy: 73.0737\n"
     ]
    },
    {
     "name": "stderr",
     "output_type": "stream",
     "text": [
      "100%|██████████| 95/95 [00:01<00:00, 94.58it/s]\n",
      " 11%|█         | 10/95 [00:00<00:00, 98.43it/s]"
     ]
    },
    {
     "name": "stdout",
     "output_type": "stream",
     "text": [
      "Epoch 52, Train loss: 0.6877\n",
      "Epoch 52, Train Accuracy: 72.8421\n"
     ]
    },
    {
     "name": "stderr",
     "output_type": "stream",
     "text": [
      "100%|██████████| 95/95 [00:01<00:00, 94.43it/s]\n",
      " 11%|█         | 10/95 [00:00<00:00, 91.27it/s]"
     ]
    },
    {
     "name": "stdout",
     "output_type": "stream",
     "text": [
      "Epoch 53, Train loss: 0.6876\n",
      "Epoch 53, Train Accuracy: 71.7474\n"
     ]
    },
    {
     "name": "stderr",
     "output_type": "stream",
     "text": [
      "100%|██████████| 95/95 [00:01<00:00, 92.63it/s]\n",
      " 11%|█         | 10/95 [00:00<00:00, 95.43it/s]"
     ]
    },
    {
     "name": "stdout",
     "output_type": "stream",
     "text": [
      "Epoch 54, Train loss: 0.6875\n",
      "Epoch 54, Train Accuracy: 72.4842\n"
     ]
    },
    {
     "name": "stderr",
     "output_type": "stream",
     "text": [
      "100%|██████████| 95/95 [00:01<00:00, 91.86it/s]\n",
      "  9%|▉         | 9/95 [00:00<00:01, 84.65it/s]"
     ]
    },
    {
     "name": "stdout",
     "output_type": "stream",
     "text": [
      "Epoch 55, Train loss: 0.6874\n",
      "Epoch 55, Train Accuracy: 71.9158\n"
     ]
    },
    {
     "name": "stderr",
     "output_type": "stream",
     "text": [
      "100%|██████████| 95/95 [00:01<00:00, 86.91it/s]\n",
      "  9%|▉         | 9/95 [00:00<00:01, 82.15it/s]"
     ]
    },
    {
     "name": "stdout",
     "output_type": "stream",
     "text": [
      "Epoch 56, Train loss: 0.6873\n",
      "Epoch 56, Train Accuracy: 71.3895\n"
     ]
    },
    {
     "name": "stderr",
     "output_type": "stream",
     "text": [
      "100%|██████████| 95/95 [00:01<00:00, 89.74it/s]\n",
      " 11%|█         | 10/95 [00:00<00:00, 89.59it/s]"
     ]
    },
    {
     "name": "stdout",
     "output_type": "stream",
     "text": [
      "Epoch 57, Train loss: 0.6871\n",
      "Epoch 57, Train Accuracy: 71.2000\n"
     ]
    },
    {
     "name": "stderr",
     "output_type": "stream",
     "text": [
      "100%|██████████| 95/95 [00:01<00:00, 92.40it/s]\n",
      " 11%|█         | 10/95 [00:00<00:00, 96.36it/s]"
     ]
    },
    {
     "name": "stdout",
     "output_type": "stream",
     "text": [
      "Epoch 58, Train loss: 0.6870\n",
      "Epoch 58, Train Accuracy: 71.8737\n"
     ]
    },
    {
     "name": "stderr",
     "output_type": "stream",
     "text": [
      "100%|██████████| 95/95 [00:01<00:00, 82.69it/s]\n",
      " 11%|█         | 10/95 [00:00<00:00, 92.36it/s]"
     ]
    },
    {
     "name": "stdout",
     "output_type": "stream",
     "text": [
      "Epoch 59, Train loss: 0.6869\n",
      "Epoch 59, Train Accuracy: 71.8316\n"
     ]
    },
    {
     "name": "stderr",
     "output_type": "stream",
     "text": [
      "100%|██████████| 95/95 [00:01<00:00, 91.07it/s]\n",
      "  9%|▉         | 9/95 [00:00<00:00, 88.31it/s]"
     ]
    },
    {
     "name": "stdout",
     "output_type": "stream",
     "text": [
      "Epoch 60, Train loss: 0.6868\n",
      "Epoch 60, Train Accuracy: 71.3684\n"
     ]
    },
    {
     "name": "stderr",
     "output_type": "stream",
     "text": [
      "100%|██████████| 95/95 [00:01<00:00, 86.71it/s]\n",
      " 11%|█         | 10/95 [00:00<00:00, 99.02it/s]"
     ]
    },
    {
     "name": "stdout",
     "output_type": "stream",
     "text": [
      "Epoch 61, Train loss: 0.6867\n",
      "Epoch 61, Train Accuracy: 71.9789\n"
     ]
    },
    {
     "name": "stderr",
     "output_type": "stream",
     "text": [
      "100%|██████████| 95/95 [00:01<00:00, 93.90it/s]\n",
      " 11%|█         | 10/95 [00:00<00:00, 94.65it/s]"
     ]
    },
    {
     "name": "stdout",
     "output_type": "stream",
     "text": [
      "Epoch 62, Train loss: 0.6866\n",
      "Epoch 62, Train Accuracy: 71.7263\n"
     ]
    },
    {
     "name": "stderr",
     "output_type": "stream",
     "text": [
      "100%|██████████| 95/95 [00:01<00:00, 93.17it/s]\n",
      " 11%|█         | 10/95 [00:00<00:00, 91.02it/s]"
     ]
    },
    {
     "name": "stdout",
     "output_type": "stream",
     "text": [
      "Epoch 63, Train loss: 0.6864\n",
      "Epoch 63, Train Accuracy: 71.3895\n"
     ]
    },
    {
     "name": "stderr",
     "output_type": "stream",
     "text": [
      "100%|██████████| 95/95 [00:01<00:00, 92.82it/s]\n",
      " 11%|█         | 10/95 [00:00<00:00, 92.78it/s]"
     ]
    },
    {
     "name": "stdout",
     "output_type": "stream",
     "text": [
      "Epoch 64, Train loss: 0.6863\n",
      "Epoch 64, Train Accuracy: 71.5368\n"
     ]
    },
    {
     "name": "stderr",
     "output_type": "stream",
     "text": [
      "100%|██████████| 95/95 [00:01<00:00, 67.08it/s]\n",
      "  8%|▊         | 8/95 [00:00<00:01, 77.74it/s]"
     ]
    },
    {
     "name": "stdout",
     "output_type": "stream",
     "text": [
      "Epoch 65, Train loss: 0.6862\n",
      "Epoch 65, Train Accuracy: 69.0526\n"
     ]
    },
    {
     "name": "stderr",
     "output_type": "stream",
     "text": [
      "100%|██████████| 95/95 [00:01<00:00, 63.12it/s]\n",
      "  7%|▋         | 7/95 [00:00<00:01, 64.42it/s]"
     ]
    },
    {
     "name": "stdout",
     "output_type": "stream",
     "text": [
      "Epoch 66, Train loss: 0.6861\n",
      "Epoch 66, Train Accuracy: 71.0737\n"
     ]
    },
    {
     "name": "stderr",
     "output_type": "stream",
     "text": [
      "100%|██████████| 95/95 [00:01<00:00, 66.12it/s]\n",
      "  6%|▋         | 6/95 [00:00<00:01, 55.94it/s]"
     ]
    },
    {
     "name": "stdout",
     "output_type": "stream",
     "text": [
      "Epoch 67, Train loss: 0.6860\n",
      "Epoch 67, Train Accuracy: 69.1158\n"
     ]
    },
    {
     "name": "stderr",
     "output_type": "stream",
     "text": [
      "100%|██████████| 95/95 [00:01<00:00, 53.21it/s]\n",
      "  7%|▋         | 7/95 [00:00<00:01, 68.25it/s]"
     ]
    },
    {
     "name": "stdout",
     "output_type": "stream",
     "text": [
      "Epoch 68, Train loss: 0.6858\n",
      "Epoch 68, Train Accuracy: 68.7368\n"
     ]
    },
    {
     "name": "stderr",
     "output_type": "stream",
     "text": [
      "100%|██████████| 95/95 [00:01<00:00, 58.30it/s]\n",
      "  6%|▋         | 6/95 [00:00<00:01, 58.31it/s]"
     ]
    },
    {
     "name": "stdout",
     "output_type": "stream",
     "text": [
      "Epoch 69, Train loss: 0.6857\n",
      "Epoch 69, Train Accuracy: 71.1789\n"
     ]
    },
    {
     "name": "stderr",
     "output_type": "stream",
     "text": [
      "100%|██████████| 95/95 [00:01<00:00, 63.44it/s]\n",
      "  8%|▊         | 8/95 [00:00<00:01, 75.11it/s]"
     ]
    },
    {
     "name": "stdout",
     "output_type": "stream",
     "text": [
      "Epoch 70, Train loss: 0.6856\n",
      "Epoch 70, Train Accuracy: 70.0211\n"
     ]
    },
    {
     "name": "stderr",
     "output_type": "stream",
     "text": [
      "100%|██████████| 95/95 [00:01<00:00, 53.83it/s]\n",
      "  7%|▋         | 7/95 [00:00<00:01, 69.79it/s]"
     ]
    },
    {
     "name": "stdout",
     "output_type": "stream",
     "text": [
      "Epoch 71, Train loss: 0.6855\n",
      "Epoch 71, Train Accuracy: 71.2211\n"
     ]
    },
    {
     "name": "stderr",
     "output_type": "stream",
     "text": [
      "100%|██████████| 95/95 [00:01<00:00, 75.15it/s]\n",
      "  7%|▋         | 7/95 [00:00<00:01, 62.82it/s]"
     ]
    },
    {
     "name": "stdout",
     "output_type": "stream",
     "text": [
      "Epoch 72, Train loss: 0.6854\n",
      "Epoch 72, Train Accuracy: 69.9579\n"
     ]
    },
    {
     "name": "stderr",
     "output_type": "stream",
     "text": [
      "100%|██████████| 95/95 [00:01<00:00, 63.09it/s]\n",
      "  8%|▊         | 8/95 [00:00<00:01, 78.03it/s]"
     ]
    },
    {
     "name": "stdout",
     "output_type": "stream",
     "text": [
      "Epoch 73, Train loss: 0.6852\n",
      "Epoch 73, Train Accuracy: 70.2105\n"
     ]
    },
    {
     "name": "stderr",
     "output_type": "stream",
     "text": [
      "100%|██████████| 95/95 [00:01<00:00, 65.20it/s]\n",
      "  8%|▊         | 8/95 [00:00<00:01, 76.72it/s]"
     ]
    },
    {
     "name": "stdout",
     "output_type": "stream",
     "text": [
      "Epoch 74, Train loss: 0.6851\n",
      "Epoch 74, Train Accuracy: 70.2316\n"
     ]
    },
    {
     "name": "stderr",
     "output_type": "stream",
     "text": [
      "100%|██████████| 95/95 [00:01<00:00, 73.55it/s]\n",
      "  4%|▍         | 4/95 [00:00<00:02, 39.69it/s]"
     ]
    },
    {
     "name": "stdout",
     "output_type": "stream",
     "text": [
      "Epoch 75, Train loss: 0.6850\n",
      "Epoch 75, Train Accuracy: 68.0632\n"
     ]
    },
    {
     "name": "stderr",
     "output_type": "stream",
     "text": [
      "100%|██████████| 95/95 [00:01<00:00, 70.35it/s]\n",
      "  5%|▌         | 5/95 [00:00<00:01, 46.07it/s]"
     ]
    },
    {
     "name": "stdout",
     "output_type": "stream",
     "text": [
      "Epoch 76, Train loss: 0.6849\n",
      "Epoch 76, Train Accuracy: 70.2105\n"
     ]
    },
    {
     "name": "stderr",
     "output_type": "stream",
     "text": [
      "100%|██████████| 95/95 [00:01<00:00, 80.53it/s]\n",
      "  7%|▋         | 7/95 [00:00<00:01, 69.47it/s]"
     ]
    },
    {
     "name": "stdout",
     "output_type": "stream",
     "text": [
      "Epoch 77, Train loss: 0.6848\n",
      "Epoch 77, Train Accuracy: 69.7053\n"
     ]
    },
    {
     "name": "stderr",
     "output_type": "stream",
     "text": [
      "100%|██████████| 95/95 [00:01<00:00, 59.68it/s]\n",
      "  7%|▋         | 7/95 [00:00<00:01, 65.88it/s]"
     ]
    },
    {
     "name": "stdout",
     "output_type": "stream",
     "text": [
      "Epoch 78, Train loss: 0.6847\n",
      "Epoch 78, Train Accuracy: 69.3263\n"
     ]
    },
    {
     "name": "stderr",
     "output_type": "stream",
     "text": [
      "100%|██████████| 95/95 [00:01<00:00, 74.83it/s]\n",
      "  7%|▋         | 7/95 [00:00<00:01, 67.23it/s]"
     ]
    },
    {
     "name": "stdout",
     "output_type": "stream",
     "text": [
      "Epoch 79, Train loss: 0.6845\n",
      "Epoch 79, Train Accuracy: 69.2632\n"
     ]
    },
    {
     "name": "stderr",
     "output_type": "stream",
     "text": [
      "100%|██████████| 95/95 [00:01<00:00, 65.45it/s]\n",
      "  7%|▋         | 7/95 [00:00<00:01, 69.41it/s]"
     ]
    },
    {
     "name": "stdout",
     "output_type": "stream",
     "text": [
      "Epoch 80, Train loss: 0.6844\n",
      "Epoch 80, Train Accuracy: 70.0632\n"
     ]
    },
    {
     "name": "stderr",
     "output_type": "stream",
     "text": [
      "100%|██████████| 95/95 [00:01<00:00, 68.07it/s]\n",
      "  6%|▋         | 6/95 [00:00<00:01, 56.08it/s]"
     ]
    },
    {
     "name": "stdout",
     "output_type": "stream",
     "text": [
      "Epoch 81, Train loss: 0.6843\n",
      "Epoch 81, Train Accuracy: 67.2842\n"
     ]
    },
    {
     "name": "stderr",
     "output_type": "stream",
     "text": [
      "100%|██████████| 95/95 [00:01<00:00, 59.77it/s]\n",
      "  7%|▋         | 7/95 [00:00<00:01, 67.25it/s]"
     ]
    },
    {
     "name": "stdout",
     "output_type": "stream",
     "text": [
      "Epoch 82, Train loss: 0.6842\n",
      "Epoch 82, Train Accuracy: 68.4000\n"
     ]
    },
    {
     "name": "stderr",
     "output_type": "stream",
     "text": [
      "100%|██████████| 95/95 [00:01<00:00, 80.74it/s]\n",
      "  8%|▊         | 8/95 [00:00<00:01, 71.96it/s]"
     ]
    },
    {
     "name": "stdout",
     "output_type": "stream",
     "text": [
      "Epoch 83, Train loss: 0.6841\n",
      "Epoch 83, Train Accuracy: 69.0105\n"
     ]
    },
    {
     "name": "stderr",
     "output_type": "stream",
     "text": [
      "100%|██████████| 95/95 [00:01<00:00, 78.45it/s]\n",
      "  8%|▊         | 8/95 [00:00<00:01, 74.98it/s]"
     ]
    },
    {
     "name": "stdout",
     "output_type": "stream",
     "text": [
      "Epoch 84, Train loss: 0.6840\n",
      "Epoch 84, Train Accuracy: 67.8737\n"
     ]
    },
    {
     "name": "stderr",
     "output_type": "stream",
     "text": [
      "100%|██████████| 95/95 [00:01<00:00, 68.82it/s]\n",
      "  6%|▋         | 6/95 [00:00<00:01, 58.59it/s]"
     ]
    },
    {
     "name": "stdout",
     "output_type": "stream",
     "text": [
      "Epoch 85, Train loss: 0.6838\n",
      "Epoch 85, Train Accuracy: 68.6105\n"
     ]
    },
    {
     "name": "stderr",
     "output_type": "stream",
     "text": [
      "100%|██████████| 95/95 [00:01<00:00, 59.71it/s]\n",
      "  7%|▋         | 7/95 [00:00<00:01, 63.21it/s]"
     ]
    },
    {
     "name": "stdout",
     "output_type": "stream",
     "text": [
      "Epoch 86, Train loss: 0.6837\n",
      "Epoch 86, Train Accuracy: 68.9053\n"
     ]
    },
    {
     "name": "stderr",
     "output_type": "stream",
     "text": [
      "100%|██████████| 95/95 [00:01<00:00, 55.21it/s]\n",
      "  8%|▊         | 8/95 [00:00<00:01, 79.53it/s]"
     ]
    },
    {
     "name": "stdout",
     "output_type": "stream",
     "text": [
      "Epoch 87, Train loss: 0.6836\n",
      "Epoch 87, Train Accuracy: 67.0526\n"
     ]
    },
    {
     "name": "stderr",
     "output_type": "stream",
     "text": [
      "100%|██████████| 95/95 [00:01<00:00, 68.18it/s]\n",
      "  7%|▋         | 7/95 [00:00<00:01, 62.44it/s]"
     ]
    },
    {
     "name": "stdout",
     "output_type": "stream",
     "text": [
      "Epoch 88, Train loss: 0.6835\n",
      "Epoch 88, Train Accuracy: 67.5368\n"
     ]
    },
    {
     "name": "stderr",
     "output_type": "stream",
     "text": [
      "100%|██████████| 95/95 [00:01<00:00, 71.71it/s]\n",
      "  7%|▋         | 7/95 [00:00<00:01, 65.39it/s]"
     ]
    },
    {
     "name": "stdout",
     "output_type": "stream",
     "text": [
      "Epoch 89, Train loss: 0.6834\n",
      "Epoch 89, Train Accuracy: 66.5053\n"
     ]
    },
    {
     "name": "stderr",
     "output_type": "stream",
     "text": [
      "100%|██████████| 95/95 [00:01<00:00, 68.62it/s]\n",
      "  7%|▋         | 7/95 [00:00<00:01, 58.75it/s]"
     ]
    },
    {
     "name": "stdout",
     "output_type": "stream",
     "text": [
      "Epoch 90, Train loss: 0.6833\n",
      "Epoch 90, Train Accuracy: 67.3474\n"
     ]
    },
    {
     "name": "stderr",
     "output_type": "stream",
     "text": [
      "100%|██████████| 95/95 [00:01<00:00, 68.71it/s]\n",
      "  7%|▋         | 7/95 [00:00<00:01, 66.15it/s]"
     ]
    },
    {
     "name": "stdout",
     "output_type": "stream",
     "text": [
      "Epoch 91, Train loss: 0.6831\n",
      "Epoch 91, Train Accuracy: 67.6632\n"
     ]
    },
    {
     "name": "stderr",
     "output_type": "stream",
     "text": [
      "100%|██████████| 95/95 [00:01<00:00, 68.61it/s]\n",
      "  7%|▋         | 7/95 [00:00<00:01, 61.06it/s]"
     ]
    },
    {
     "name": "stdout",
     "output_type": "stream",
     "text": [
      "Epoch 92, Train loss: 0.6830\n",
      "Epoch 92, Train Accuracy: 67.0316\n"
     ]
    },
    {
     "name": "stderr",
     "output_type": "stream",
     "text": [
      "100%|██████████| 95/95 [00:01<00:00, 75.48it/s]\n",
      "  7%|▋         | 7/95 [00:00<00:01, 67.49it/s]"
     ]
    },
    {
     "name": "stdout",
     "output_type": "stream",
     "text": [
      "Epoch 93, Train loss: 0.6829\n",
      "Epoch 93, Train Accuracy: 68.2105\n"
     ]
    },
    {
     "name": "stderr",
     "output_type": "stream",
     "text": [
      "100%|██████████| 95/95 [00:01<00:00, 70.58it/s]\n",
      "  5%|▌         | 5/95 [00:00<00:01, 46.54it/s]"
     ]
    },
    {
     "name": "stdout",
     "output_type": "stream",
     "text": [
      "Epoch 94, Train loss: 0.6828\n",
      "Epoch 94, Train Accuracy: 67.6000\n"
     ]
    },
    {
     "name": "stderr",
     "output_type": "stream",
     "text": [
      " 38%|███▊      | 36/95 [00:00<00:00, 66.62it/s]"
     ]
    }
   ],
   "source": [
    "# Random initialization that works for network with 3 hidden units\n",
    "seed = 7930\n",
    "print(\"Random seed:\", seed)\n",
    "np.random.seed(seed)\n",
    "\n",
    "# Network parameters\n",
    "batch_size = 50\n",
    "num_epochs = 150\n",
    "hidden_units = 3\n",
    "\n",
    "# Initialize network\n",
    "net3 = Network(hidden_units = 3, lr = 0.01, \n",
    "              batch_size = batch_size, debug = False)\n",
    "\n",
    "# Split Data into training and test sets\n",
    "data, labels, test_data, test_labels = split_data()\n",
    "\n",
    "# Train the network for 'num_epochs'\n",
    "for epoch in range(num_epochs):\n",
    "    train(net3, epoch, data, labels)\n",
    "    \n",
    "test(net3, test_data, test_labels)"
   ]
  },
  {
   "cell_type": "code",
   "execution_count": 222,
   "metadata": {},
   "outputs": [
    {
     "name": "stderr",
     "output_type": "stream",
     "text": [
      "  9%|▉         | 4/45 [00:00<00:01, 32.75it/s]"
     ]
    },
    {
     "name": "stdout",
     "output_type": "stream",
     "text": [
      "Random seed: 4983\n",
      "4500 500\n"
     ]
    },
    {
     "name": "stderr",
     "output_type": "stream",
     "text": [
      "100%|██████████| 45/45 [00:01<00:00, 26.33it/s]\n",
      "  9%|▉         | 4/45 [00:00<00:01, 30.12it/s]"
     ]
    },
    {
     "name": "stdout",
     "output_type": "stream",
     "text": [
      "Epoch 0, Train loss: 0.6947\n",
      "Epoch 0, Train Accuracy: 56.2444\n"
     ]
    },
    {
     "name": "stderr",
     "output_type": "stream",
     "text": [
      "100%|██████████| 45/45 [00:01<00:00, 32.63it/s]\n",
      "  9%|▉         | 4/45 [00:00<00:01, 35.28it/s]"
     ]
    },
    {
     "name": "stdout",
     "output_type": "stream",
     "text": [
      "Epoch 1, Train loss: 0.6942\n",
      "Epoch 1, Train Accuracy: 57.2444\n"
     ]
    },
    {
     "name": "stderr",
     "output_type": "stream",
     "text": [
      "100%|██████████| 45/45 [00:01<00:00, 23.39it/s]\n",
      "  7%|▋         | 3/45 [00:00<00:01, 25.68it/s]"
     ]
    },
    {
     "name": "stdout",
     "output_type": "stream",
     "text": [
      "Epoch 2, Train loss: 0.6936\n",
      "Epoch 2, Train Accuracy: 58.2889\n"
     ]
    },
    {
     "name": "stderr",
     "output_type": "stream",
     "text": [
      "100%|██████████| 45/45 [00:01<00:00, 32.55it/s]\n",
      "  9%|▉         | 4/45 [00:00<00:01, 30.72it/s]"
     ]
    },
    {
     "name": "stdout",
     "output_type": "stream",
     "text": [
      "Epoch 3, Train loss: 0.6931\n",
      "Epoch 3, Train Accuracy: 59.0000\n"
     ]
    },
    {
     "name": "stderr",
     "output_type": "stream",
     "text": [
      "100%|██████████| 45/45 [00:01<00:00, 33.97it/s]\n",
      "  9%|▉         | 4/45 [00:00<00:01, 34.97it/s]"
     ]
    },
    {
     "name": "stdout",
     "output_type": "stream",
     "text": [
      "Epoch 4, Train loss: 0.6926\n",
      "Epoch 4, Train Accuracy: 59.8222\n"
     ]
    },
    {
     "name": "stderr",
     "output_type": "stream",
     "text": [
      "100%|██████████| 45/45 [00:01<00:00, 32.90it/s]\n",
      "  9%|▉         | 4/45 [00:00<00:01, 32.66it/s]"
     ]
    },
    {
     "name": "stdout",
     "output_type": "stream",
     "text": [
      "Epoch 5, Train loss: 0.6921\n",
      "Epoch 5, Train Accuracy: 60.7333\n"
     ]
    },
    {
     "name": "stderr",
     "output_type": "stream",
     "text": [
      "100%|██████████| 45/45 [00:01<00:00, 38.36it/s]\n",
      "  9%|▉         | 4/45 [00:00<00:01, 32.34it/s]"
     ]
    },
    {
     "name": "stdout",
     "output_type": "stream",
     "text": [
      "Epoch 6, Train loss: 0.6917\n",
      "Epoch 6, Train Accuracy: 61.3333\n"
     ]
    },
    {
     "name": "stderr",
     "output_type": "stream",
     "text": [
      "100%|██████████| 45/45 [00:01<00:00, 29.03it/s]\n",
      " 11%|█         | 5/45 [00:00<00:00, 40.14it/s]"
     ]
    },
    {
     "name": "stdout",
     "output_type": "stream",
     "text": [
      "Epoch 7, Train loss: 0.6912\n",
      "Epoch 7, Train Accuracy: 62.0667\n"
     ]
    },
    {
     "name": "stderr",
     "output_type": "stream",
     "text": [
      "100%|██████████| 45/45 [00:01<00:00, 32.53it/s]\n",
      " 11%|█         | 5/45 [00:00<00:00, 45.53it/s]"
     ]
    },
    {
     "name": "stdout",
     "output_type": "stream",
     "text": [
      "Epoch 8, Train loss: 0.6908\n",
      "Epoch 8, Train Accuracy: 62.7556\n"
     ]
    },
    {
     "name": "stderr",
     "output_type": "stream",
     "text": [
      "100%|██████████| 45/45 [00:01<00:00, 40.53it/s]\n",
      " 11%|█         | 5/45 [00:00<00:00, 41.66it/s]"
     ]
    },
    {
     "name": "stdout",
     "output_type": "stream",
     "text": [
      "Epoch 9, Train loss: 0.6903\n",
      "Epoch 9, Train Accuracy: 63.4222\n"
     ]
    },
    {
     "name": "stderr",
     "output_type": "stream",
     "text": [
      "100%|██████████| 45/45 [00:01<00:00, 44.81it/s]\n",
      " 11%|█         | 5/45 [00:00<00:00, 40.67it/s]"
     ]
    },
    {
     "name": "stdout",
     "output_type": "stream",
     "text": [
      "Epoch 10, Train loss: 0.6899\n",
      "Epoch 10, Train Accuracy: 64.2000\n"
     ]
    },
    {
     "name": "stderr",
     "output_type": "stream",
     "text": [
      "100%|██████████| 45/45 [00:01<00:00, 37.39it/s]\n",
      " 11%|█         | 5/45 [00:00<00:00, 45.42it/s]"
     ]
    },
    {
     "name": "stdout",
     "output_type": "stream",
     "text": [
      "Epoch 11, Train loss: 0.6895\n",
      "Epoch 11, Train Accuracy: 64.6667\n"
     ]
    },
    {
     "name": "stderr",
     "output_type": "stream",
     "text": [
      "100%|██████████| 45/45 [00:00<00:00, 45.49it/s]\n",
      " 11%|█         | 5/45 [00:00<00:00, 45.46it/s]"
     ]
    },
    {
     "name": "stdout",
     "output_type": "stream",
     "text": [
      "Epoch 12, Train loss: 0.6891\n",
      "Epoch 12, Train Accuracy: 65.3333\n"
     ]
    },
    {
     "name": "stderr",
     "output_type": "stream",
     "text": [
      "100%|██████████| 45/45 [00:01<00:00, 44.54it/s]\n",
      " 11%|█         | 5/45 [00:00<00:00, 48.18it/s]"
     ]
    },
    {
     "name": "stdout",
     "output_type": "stream",
     "text": [
      "Epoch 13, Train loss: 0.6887\n",
      "Epoch 13, Train Accuracy: 65.9333\n"
     ]
    },
    {
     "name": "stderr",
     "output_type": "stream",
     "text": [
      "100%|██████████| 45/45 [00:00<00:00, 46.19it/s]\n",
      "  9%|▉         | 4/45 [00:00<00:01, 37.43it/s]"
     ]
    },
    {
     "name": "stdout",
     "output_type": "stream",
     "text": [
      "Epoch 14, Train loss: 0.6883\n",
      "Epoch 14, Train Accuracy: 66.4667\n"
     ]
    },
    {
     "name": "stderr",
     "output_type": "stream",
     "text": [
      "100%|██████████| 45/45 [00:01<00:00, 43.06it/s]\n",
      " 11%|█         | 5/45 [00:00<00:00, 48.25it/s]"
     ]
    },
    {
     "name": "stdout",
     "output_type": "stream",
     "text": [
      "Epoch 15, Train loss: 0.6880\n",
      "Epoch 15, Train Accuracy: 67.0667\n"
     ]
    },
    {
     "name": "stderr",
     "output_type": "stream",
     "text": [
      "100%|██████████| 45/45 [00:01<00:00, 44.94it/s]\n",
      " 11%|█         | 5/45 [00:00<00:00, 45.26it/s]"
     ]
    },
    {
     "name": "stdout",
     "output_type": "stream",
     "text": [
      "Epoch 16, Train loss: 0.6876\n",
      "Epoch 16, Train Accuracy: 67.4444\n"
     ]
    },
    {
     "name": "stderr",
     "output_type": "stream",
     "text": [
      "100%|██████████| 45/45 [00:01<00:00, 44.47it/s]\n",
      " 11%|█         | 5/45 [00:00<00:00, 41.74it/s]"
     ]
    },
    {
     "name": "stdout",
     "output_type": "stream",
     "text": [
      "Epoch 17, Train loss: 0.6873\n",
      "Epoch 17, Train Accuracy: 67.8444\n"
     ]
    },
    {
     "name": "stderr",
     "output_type": "stream",
     "text": [
      "100%|██████████| 45/45 [00:01<00:00, 35.78it/s]\n",
      "  9%|▉         | 4/45 [00:00<00:01, 38.86it/s]"
     ]
    },
    {
     "name": "stdout",
     "output_type": "stream",
     "text": [
      "Epoch 18, Train loss: 0.6870\n",
      "Epoch 18, Train Accuracy: 68.2444\n"
     ]
    },
    {
     "name": "stderr",
     "output_type": "stream",
     "text": [
      "100%|██████████| 45/45 [00:01<00:00, 35.81it/s]\n",
      "  9%|▉         | 4/45 [00:00<00:01, 38.46it/s]"
     ]
    },
    {
     "name": "stdout",
     "output_type": "stream",
     "text": [
      "Epoch 19, Train loss: 0.6866\n",
      "Epoch 19, Train Accuracy: 68.5333\n"
     ]
    },
    {
     "name": "stderr",
     "output_type": "stream",
     "text": [
      "100%|██████████| 45/45 [00:01<00:00, 36.38it/s]\n",
      "  9%|▉         | 4/45 [00:00<00:01, 37.44it/s]"
     ]
    },
    {
     "name": "stdout",
     "output_type": "stream",
     "text": [
      "Epoch 20, Train loss: 0.6863\n",
      "Epoch 20, Train Accuracy: 68.9111\n"
     ]
    },
    {
     "name": "stderr",
     "output_type": "stream",
     "text": [
      "100%|██████████| 45/45 [00:01<00:00, 36.80it/s]\n",
      "  9%|▉         | 4/45 [00:00<00:01, 36.41it/s]"
     ]
    },
    {
     "name": "stdout",
     "output_type": "stream",
     "text": [
      "Epoch 21, Train loss: 0.6860\n",
      "Epoch 21, Train Accuracy: 69.1778\n"
     ]
    },
    {
     "name": "stderr",
     "output_type": "stream",
     "text": [
      "100%|██████████| 45/45 [00:01<00:00, 36.22it/s]\n",
      "  9%|▉         | 4/45 [00:00<00:01, 38.13it/s]"
     ]
    },
    {
     "name": "stdout",
     "output_type": "stream",
     "text": [
      "Epoch 22, Train loss: 0.6857\n",
      "Epoch 22, Train Accuracy: 69.4889\n"
     ]
    },
    {
     "name": "stderr",
     "output_type": "stream",
     "text": [
      "100%|██████████| 45/45 [00:01<00:00, 36.73it/s]\n",
      "  9%|▉         | 4/45 [00:00<00:01, 38.96it/s]"
     ]
    },
    {
     "name": "stdout",
     "output_type": "stream",
     "text": [
      "Epoch 23, Train loss: 0.6854\n",
      "Epoch 23, Train Accuracy: 69.6889\n"
     ]
    },
    {
     "name": "stderr",
     "output_type": "stream",
     "text": [
      "100%|██████████| 45/45 [00:01<00:00, 36.87it/s]\n",
      "  9%|▉         | 4/45 [00:00<00:01, 37.80it/s]"
     ]
    },
    {
     "name": "stdout",
     "output_type": "stream",
     "text": [
      "Epoch 24, Train loss: 0.6852\n",
      "Epoch 24, Train Accuracy: 69.9333\n"
     ]
    },
    {
     "name": "stderr",
     "output_type": "stream",
     "text": [
      "100%|██████████| 45/45 [00:01<00:00, 35.93it/s]\n",
      "  9%|▉         | 4/45 [00:00<00:01, 37.71it/s]"
     ]
    },
    {
     "name": "stdout",
     "output_type": "stream",
     "text": [
      "Epoch 25, Train loss: 0.6849\n",
      "Epoch 25, Train Accuracy: 70.1333\n"
     ]
    },
    {
     "name": "stderr",
     "output_type": "stream",
     "text": [
      "100%|██████████| 45/45 [00:01<00:00, 35.40it/s]\n",
      "  9%|▉         | 4/45 [00:00<00:01, 36.53it/s]"
     ]
    },
    {
     "name": "stdout",
     "output_type": "stream",
     "text": [
      "Epoch 26, Train loss: 0.6846\n",
      "Epoch 26, Train Accuracy: 70.2444\n"
     ]
    },
    {
     "name": "stderr",
     "output_type": "stream",
     "text": [
      "100%|██████████| 45/45 [00:01<00:00, 36.57it/s]\n",
      "  9%|▉         | 4/45 [00:00<00:01, 37.80it/s]"
     ]
    },
    {
     "name": "stdout",
     "output_type": "stream",
     "text": [
      "Epoch 27, Train loss: 0.6844\n",
      "Epoch 27, Train Accuracy: 70.3111\n"
     ]
    },
    {
     "name": "stderr",
     "output_type": "stream",
     "text": [
      "100%|██████████| 45/45 [00:01<00:00, 36.28it/s]\n",
      "  9%|▉         | 4/45 [00:00<00:01, 30.75it/s]"
     ]
    },
    {
     "name": "stdout",
     "output_type": "stream",
     "text": [
      "Epoch 28, Train loss: 0.6841\n",
      "Epoch 28, Train Accuracy: 70.5333\n"
     ]
    },
    {
     "name": "stderr",
     "output_type": "stream",
     "text": [
      "100%|██████████| 45/45 [00:01<00:00, 34.72it/s]\n",
      "  9%|▉         | 4/45 [00:00<00:01, 36.95it/s]"
     ]
    },
    {
     "name": "stdout",
     "output_type": "stream",
     "text": [
      "Epoch 29, Train loss: 0.6839\n",
      "Epoch 29, Train Accuracy: 70.6000\n"
     ]
    },
    {
     "name": "stderr",
     "output_type": "stream",
     "text": [
      "100%|██████████| 45/45 [00:01<00:00, 35.94it/s]\n",
      "  9%|▉         | 4/45 [00:00<00:01, 37.05it/s]"
     ]
    },
    {
     "name": "stdout",
     "output_type": "stream",
     "text": [
      "Epoch 30, Train loss: 0.6836\n",
      "Epoch 30, Train Accuracy: 70.6000\n"
     ]
    },
    {
     "name": "stderr",
     "output_type": "stream",
     "text": [
      "100%|██████████| 45/45 [00:01<00:00, 35.67it/s]\n",
      "  9%|▉         | 4/45 [00:00<00:01, 36.90it/s]"
     ]
    },
    {
     "name": "stdout",
     "output_type": "stream",
     "text": [
      "Epoch 31, Train loss: 0.6834\n",
      "Epoch 31, Train Accuracy: 70.7111\n"
     ]
    },
    {
     "name": "stderr",
     "output_type": "stream",
     "text": [
      "100%|██████████| 45/45 [00:01<00:00, 35.04it/s]\n",
      "  9%|▉         | 4/45 [00:00<00:01, 35.08it/s]"
     ]
    },
    {
     "name": "stdout",
     "output_type": "stream",
     "text": [
      "Epoch 32, Train loss: 0.6832\n",
      "Epoch 32, Train Accuracy: 70.5778\n"
     ]
    },
    {
     "name": "stderr",
     "output_type": "stream",
     "text": [
      "100%|██████████| 45/45 [00:01<00:00, 34.74it/s]\n",
      "  9%|▉         | 4/45 [00:00<00:01, 35.43it/s]"
     ]
    },
    {
     "name": "stdout",
     "output_type": "stream",
     "text": [
      "Epoch 33, Train loss: 0.6830\n",
      "Epoch 33, Train Accuracy: 70.3556\n"
     ]
    },
    {
     "name": "stderr",
     "output_type": "stream",
     "text": [
      "100%|██████████| 45/45 [00:01<00:00, 30.31it/s]\n",
      "  4%|▍         | 2/45 [00:00<00:02, 17.17it/s]"
     ]
    },
    {
     "name": "stdout",
     "output_type": "stream",
     "text": [
      "Epoch 34, Train loss: 0.6827\n",
      "Epoch 34, Train Accuracy: 70.1111\n"
     ]
    },
    {
     "name": "stderr",
     "output_type": "stream",
     "text": [
      "100%|██████████| 45/45 [00:01<00:00, 26.71it/s]\n",
      "  9%|▉         | 4/45 [00:00<00:01, 38.37it/s]"
     ]
    },
    {
     "name": "stdout",
     "output_type": "stream",
     "text": [
      "Epoch 35, Train loss: 0.6825\n",
      "Epoch 35, Train Accuracy: 70.0667\n"
     ]
    },
    {
     "name": "stderr",
     "output_type": "stream",
     "text": [
      "100%|██████████| 45/45 [00:01<00:00, 25.97it/s]\n",
      "  7%|▋         | 3/45 [00:00<00:01, 28.71it/s]"
     ]
    },
    {
     "name": "stdout",
     "output_type": "stream",
     "text": [
      "Epoch 36, Train loss: 0.6823\n",
      "Epoch 36, Train Accuracy: 69.9556\n"
     ]
    },
    {
     "name": "stderr",
     "output_type": "stream",
     "text": [
      "100%|██████████| 45/45 [00:01<00:00, 35.12it/s]\n",
      "  9%|▉         | 4/45 [00:00<00:01, 37.19it/s]"
     ]
    },
    {
     "name": "stdout",
     "output_type": "stream",
     "text": [
      "Epoch 37, Train loss: 0.6821\n",
      "Epoch 37, Train Accuracy: 69.7556\n"
     ]
    },
    {
     "name": "stderr",
     "output_type": "stream",
     "text": [
      "100%|██████████| 45/45 [00:01<00:00, 39.03it/s]\n",
      "  9%|▉         | 4/45 [00:00<00:01, 35.72it/s]"
     ]
    },
    {
     "name": "stdout",
     "output_type": "stream",
     "text": [
      "Epoch 38, Train loss: 0.6819\n",
      "Epoch 38, Train Accuracy: 69.4889\n"
     ]
    },
    {
     "name": "stderr",
     "output_type": "stream",
     "text": [
      "100%|██████████| 45/45 [00:01<00:00, 32.91it/s]\n",
      "  7%|▋         | 3/45 [00:00<00:01, 29.17it/s]"
     ]
    },
    {
     "name": "stdout",
     "output_type": "stream",
     "text": [
      "Epoch 39, Train loss: 0.6818\n",
      "Epoch 39, Train Accuracy: 69.4444\n"
     ]
    },
    {
     "name": "stderr",
     "output_type": "stream",
     "text": [
      "100%|██████████| 45/45 [00:01<00:00, 31.40it/s]\n",
      "  7%|▋         | 3/45 [00:00<00:01, 25.63it/s]"
     ]
    },
    {
     "name": "stdout",
     "output_type": "stream",
     "text": [
      "Epoch 40, Train loss: 0.6816\n",
      "Epoch 40, Train Accuracy: 69.2444\n"
     ]
    },
    {
     "name": "stderr",
     "output_type": "stream",
     "text": [
      "100%|██████████| 45/45 [00:01<00:00, 31.57it/s]\n",
      "  7%|▋         | 3/45 [00:00<00:01, 28.39it/s]"
     ]
    },
    {
     "name": "stdout",
     "output_type": "stream",
     "text": [
      "Epoch 41, Train loss: 0.6814\n",
      "Epoch 41, Train Accuracy: 69.1333\n"
     ]
    },
    {
     "name": "stderr",
     "output_type": "stream",
     "text": [
      "100%|██████████| 45/45 [00:01<00:00, 32.28it/s]\n",
      " 11%|█         | 5/45 [00:00<00:00, 44.82it/s]"
     ]
    },
    {
     "name": "stdout",
     "output_type": "stream",
     "text": [
      "Epoch 42, Train loss: 0.6812\n",
      "Epoch 42, Train Accuracy: 69.0000\n"
     ]
    },
    {
     "name": "stderr",
     "output_type": "stream",
     "text": [
      "100%|██████████| 45/45 [00:01<00:00, 41.11it/s]\n",
      " 11%|█         | 5/45 [00:00<00:00, 43.53it/s]"
     ]
    },
    {
     "name": "stdout",
     "output_type": "stream",
     "text": [
      "Epoch 43, Train loss: 0.6811\n",
      "Epoch 43, Train Accuracy: 68.7556\n"
     ]
    },
    {
     "name": "stderr",
     "output_type": "stream",
     "text": [
      "100%|██████████| 45/45 [00:01<00:00, 44.95it/s]\n",
      " 11%|█         | 5/45 [00:00<00:00, 44.62it/s]"
     ]
    },
    {
     "name": "stdout",
     "output_type": "stream",
     "text": [
      "Epoch 44, Train loss: 0.6809\n",
      "Epoch 44, Train Accuracy: 68.3778\n"
     ]
    },
    {
     "name": "stderr",
     "output_type": "stream",
     "text": [
      "100%|██████████| 45/45 [00:01<00:00, 41.33it/s]\n",
      " 11%|█         | 5/45 [00:00<00:00, 46.01it/s]"
     ]
    },
    {
     "name": "stdout",
     "output_type": "stream",
     "text": [
      "Epoch 45, Train loss: 0.6808\n",
      "Epoch 45, Train Accuracy: 67.9111\n"
     ]
    },
    {
     "name": "stderr",
     "output_type": "stream",
     "text": [
      "100%|██████████| 45/45 [00:00<00:00, 45.86it/s]\n",
      " 11%|█         | 5/45 [00:00<00:00, 47.87it/s]"
     ]
    },
    {
     "name": "stdout",
     "output_type": "stream",
     "text": [
      "Epoch 46, Train loss: 0.6806\n",
      "Epoch 46, Train Accuracy: 67.7778\n"
     ]
    },
    {
     "name": "stderr",
     "output_type": "stream",
     "text": [
      "100%|██████████| 45/45 [00:01<00:00, 43.43it/s]\n",
      " 11%|█         | 5/45 [00:00<00:00, 47.26it/s]"
     ]
    },
    {
     "name": "stdout",
     "output_type": "stream",
     "text": [
      "Epoch 47, Train loss: 0.6805\n",
      "Epoch 47, Train Accuracy: 67.3111\n"
     ]
    },
    {
     "name": "stderr",
     "output_type": "stream",
     "text": [
      "100%|██████████| 45/45 [00:01<00:00, 44.97it/s]\n",
      " 11%|█         | 5/45 [00:00<00:00, 49.06it/s]"
     ]
    },
    {
     "name": "stdout",
     "output_type": "stream",
     "text": [
      "Epoch 48, Train loss: 0.6803\n",
      "Epoch 48, Train Accuracy: 67.0000\n"
     ]
    },
    {
     "name": "stderr",
     "output_type": "stream",
     "text": [
      "100%|██████████| 45/45 [00:01<00:00, 44.35it/s]\n",
      " 11%|█         | 5/45 [00:00<00:00, 47.93it/s]"
     ]
    },
    {
     "name": "stdout",
     "output_type": "stream",
     "text": [
      "Epoch 49, Train loss: 0.6802\n",
      "Epoch 49, Train Accuracy: 66.5778\n"
     ]
    },
    {
     "name": "stderr",
     "output_type": "stream",
     "text": [
      "100%|██████████| 45/45 [00:01<00:00, 44.67it/s]\n",
      " 11%|█         | 5/45 [00:00<00:00, 44.92it/s]"
     ]
    },
    {
     "name": "stdout",
     "output_type": "stream",
     "text": [
      "Epoch 50, Train loss: 0.6800\n",
      "Epoch 50, Train Accuracy: 66.2000\n"
     ]
    },
    {
     "name": "stderr",
     "output_type": "stream",
     "text": [
      "100%|██████████| 45/45 [00:01<00:00, 42.84it/s]\n",
      " 11%|█         | 5/45 [00:00<00:00, 46.10it/s]"
     ]
    },
    {
     "name": "stdout",
     "output_type": "stream",
     "text": [
      "Epoch 51, Train loss: 0.6799\n",
      "Epoch 51, Train Accuracy: 65.9333\n"
     ]
    },
    {
     "name": "stderr",
     "output_type": "stream",
     "text": [
      "100%|██████████| 45/45 [00:01<00:00, 44.98it/s]\n",
      " 11%|█         | 5/45 [00:00<00:00, 46.91it/s]"
     ]
    },
    {
     "name": "stdout",
     "output_type": "stream",
     "text": [
      "Epoch 52, Train loss: 0.6798\n",
      "Epoch 52, Train Accuracy: 65.6222\n"
     ]
    },
    {
     "name": "stderr",
     "output_type": "stream",
     "text": [
      "100%|██████████| 45/45 [00:00<00:00, 45.23it/s]\n",
      " 11%|█         | 5/45 [00:00<00:00, 48.21it/s]"
     ]
    },
    {
     "name": "stdout",
     "output_type": "stream",
     "text": [
      "Epoch 53, Train loss: 0.6797\n",
      "Epoch 53, Train Accuracy: 65.6000\n"
     ]
    },
    {
     "name": "stderr",
     "output_type": "stream",
     "text": [
      "100%|██████████| 45/45 [00:01<00:00, 42.40it/s]\n",
      " 11%|█         | 5/45 [00:00<00:00, 48.66it/s]"
     ]
    },
    {
     "name": "stdout",
     "output_type": "stream",
     "text": [
      "Epoch 54, Train loss: 0.6795\n",
      "Epoch 54, Train Accuracy: 65.4000\n"
     ]
    },
    {
     "name": "stderr",
     "output_type": "stream",
     "text": [
      "100%|██████████| 45/45 [00:01<00:00, 43.45it/s]\n",
      " 11%|█         | 5/45 [00:00<00:00, 45.23it/s]"
     ]
    },
    {
     "name": "stdout",
     "output_type": "stream",
     "text": [
      "Epoch 55, Train loss: 0.6794\n",
      "Epoch 55, Train Accuracy: 65.1778\n"
     ]
    },
    {
     "name": "stderr",
     "output_type": "stream",
     "text": [
      "100%|██████████| 45/45 [00:00<00:00, 45.39it/s]\n",
      " 11%|█         | 5/45 [00:00<00:00, 48.80it/s]"
     ]
    },
    {
     "name": "stdout",
     "output_type": "stream",
     "text": [
      "Epoch 56, Train loss: 0.6793\n",
      "Epoch 56, Train Accuracy: 64.9556\n"
     ]
    },
    {
     "name": "stderr",
     "output_type": "stream",
     "text": [
      "100%|██████████| 45/45 [00:00<00:00, 46.91it/s]\n",
      " 11%|█         | 5/45 [00:00<00:00, 48.54it/s]"
     ]
    },
    {
     "name": "stdout",
     "output_type": "stream",
     "text": [
      "Epoch 57, Train loss: 0.6792\n",
      "Epoch 57, Train Accuracy: 64.6889\n"
     ]
    },
    {
     "name": "stderr",
     "output_type": "stream",
     "text": [
      "100%|██████████| 45/45 [00:00<00:00, 46.06it/s]\n",
      " 11%|█         | 5/45 [00:00<00:00, 47.70it/s]"
     ]
    },
    {
     "name": "stdout",
     "output_type": "stream",
     "text": [
      "Epoch 58, Train loss: 0.6791\n",
      "Epoch 58, Train Accuracy: 64.3333\n"
     ]
    },
    {
     "name": "stderr",
     "output_type": "stream",
     "text": [
      "100%|██████████| 45/45 [00:01<00:00, 43.09it/s]\n",
      " 11%|█         | 5/45 [00:00<00:00, 48.51it/s]"
     ]
    },
    {
     "name": "stdout",
     "output_type": "stream",
     "text": [
      "Epoch 59, Train loss: 0.6790\n",
      "Epoch 59, Train Accuracy: 63.9111\n"
     ]
    },
    {
     "name": "stderr",
     "output_type": "stream",
     "text": [
      "100%|██████████| 45/45 [00:01<00:00, 41.34it/s]\n",
      " 11%|█         | 5/45 [00:00<00:00, 45.46it/s]"
     ]
    },
    {
     "name": "stdout",
     "output_type": "stream",
     "text": [
      "Epoch 60, Train loss: 0.6789\n",
      "Epoch 60, Train Accuracy: 63.4889\n"
     ]
    },
    {
     "name": "stderr",
     "output_type": "stream",
     "text": [
      "100%|██████████| 45/45 [00:01<00:00, 43.28it/s]\n",
      " 11%|█         | 5/45 [00:00<00:00, 48.37it/s]"
     ]
    },
    {
     "name": "stdout",
     "output_type": "stream",
     "text": [
      "Epoch 61, Train loss: 0.6788\n",
      "Epoch 61, Train Accuracy: 62.9333\n"
     ]
    },
    {
     "name": "stderr",
     "output_type": "stream",
     "text": [
      "100%|██████████| 45/45 [00:00<00:00, 45.93it/s]\n",
      " 11%|█         | 5/45 [00:00<00:00, 44.51it/s]"
     ]
    },
    {
     "name": "stdout",
     "output_type": "stream",
     "text": [
      "Epoch 62, Train loss: 0.6787\n",
      "Epoch 62, Train Accuracy: 62.5778\n"
     ]
    },
    {
     "name": "stderr",
     "output_type": "stream",
     "text": [
      "100%|██████████| 45/45 [00:01<00:00, 43.98it/s]\n",
      " 11%|█         | 5/45 [00:00<00:00, 49.51it/s]"
     ]
    },
    {
     "name": "stdout",
     "output_type": "stream",
     "text": [
      "Epoch 63, Train loss: 0.6786\n",
      "Epoch 63, Train Accuracy: 62.2000\n"
     ]
    },
    {
     "name": "stderr",
     "output_type": "stream",
     "text": [
      "100%|██████████| 45/45 [00:00<00:00, 46.30it/s]\n",
      " 11%|█         | 5/45 [00:00<00:00, 46.33it/s]"
     ]
    },
    {
     "name": "stdout",
     "output_type": "stream",
     "text": [
      "Epoch 64, Train loss: 0.6785\n",
      "Epoch 64, Train Accuracy: 61.9111\n"
     ]
    },
    {
     "name": "stderr",
     "output_type": "stream",
     "text": [
      "100%|██████████| 45/45 [00:00<00:00, 45.89it/s]\n",
      " 11%|█         | 5/45 [00:00<00:00, 47.12it/s]"
     ]
    },
    {
     "name": "stdout",
     "output_type": "stream",
     "text": [
      "Epoch 65, Train loss: 0.6785\n",
      "Epoch 65, Train Accuracy: 61.6444\n"
     ]
    },
    {
     "name": "stderr",
     "output_type": "stream",
     "text": [
      "100%|██████████| 45/45 [00:00<00:00, 45.27it/s]\n",
      "  9%|▉         | 4/45 [00:00<00:01, 38.49it/s]"
     ]
    },
    {
     "name": "stdout",
     "output_type": "stream",
     "text": [
      "Epoch 66, Train loss: 0.6784\n",
      "Epoch 66, Train Accuracy: 61.2000\n"
     ]
    },
    {
     "name": "stderr",
     "output_type": "stream",
     "text": [
      "100%|██████████| 45/45 [00:01<00:00, 42.39it/s]\n",
      " 11%|█         | 5/45 [00:00<00:00, 47.75it/s]"
     ]
    },
    {
     "name": "stdout",
     "output_type": "stream",
     "text": [
      "Epoch 67, Train loss: 0.6783\n",
      "Epoch 67, Train Accuracy: 60.7556\n"
     ]
    },
    {
     "name": "stderr",
     "output_type": "stream",
     "text": [
      "100%|██████████| 45/45 [00:01<00:00, 44.54it/s]\n",
      "  9%|▉         | 4/45 [00:00<00:01, 37.42it/s]"
     ]
    },
    {
     "name": "stdout",
     "output_type": "stream",
     "text": [
      "Epoch 68, Train loss: 0.6782\n",
      "Epoch 68, Train Accuracy: 60.3111\n"
     ]
    },
    {
     "name": "stderr",
     "output_type": "stream",
     "text": [
      "100%|██████████| 45/45 [00:01<00:00, 39.19it/s]\n",
      "  9%|▉         | 4/45 [00:00<00:01, 39.02it/s]"
     ]
    },
    {
     "name": "stdout",
     "output_type": "stream",
     "text": [
      "Epoch 69, Train loss: 0.6782\n",
      "Epoch 69, Train Accuracy: 60.0667\n"
     ]
    },
    {
     "name": "stderr",
     "output_type": "stream",
     "text": [
      "100%|██████████| 45/45 [00:01<00:00, 32.80it/s]\n",
      "  9%|▉         | 4/45 [00:00<00:01, 34.68it/s]"
     ]
    },
    {
     "name": "stdout",
     "output_type": "stream",
     "text": [
      "Epoch 70, Train loss: 0.6781\n",
      "Epoch 70, Train Accuracy: 59.7778\n"
     ]
    },
    {
     "name": "stderr",
     "output_type": "stream",
     "text": [
      "100%|██████████| 45/45 [00:01<00:00, 35.83it/s]\n",
      "  9%|▉         | 4/45 [00:00<00:01, 38.82it/s]"
     ]
    },
    {
     "name": "stdout",
     "output_type": "stream",
     "text": [
      "Epoch 71, Train loss: 0.6780\n",
      "Epoch 71, Train Accuracy: 59.4444\n"
     ]
    },
    {
     "name": "stderr",
     "output_type": "stream",
     "text": [
      "100%|██████████| 45/45 [00:01<00:00, 35.95it/s]\n",
      "  9%|▉         | 4/45 [00:00<00:01, 36.67it/s]"
     ]
    },
    {
     "name": "stdout",
     "output_type": "stream",
     "text": [
      "Epoch 72, Train loss: 0.6780\n",
      "Epoch 72, Train Accuracy: 59.2222\n"
     ]
    },
    {
     "name": "stderr",
     "output_type": "stream",
     "text": [
      "100%|██████████| 45/45 [00:01<00:00, 35.77it/s]\n",
      "  9%|▉         | 4/45 [00:00<00:01, 30.69it/s]"
     ]
    },
    {
     "name": "stdout",
     "output_type": "stream",
     "text": [
      "Epoch 73, Train loss: 0.6779\n",
      "Epoch 73, Train Accuracy: 58.8222\n"
     ]
    },
    {
     "name": "stderr",
     "output_type": "stream",
     "text": [
      "100%|██████████| 45/45 [00:01<00:00, 30.32it/s]\n",
      "  7%|▋         | 3/45 [00:00<00:01, 26.26it/s]"
     ]
    },
    {
     "name": "stdout",
     "output_type": "stream",
     "text": [
      "Epoch 74, Train loss: 0.6778\n",
      "Epoch 74, Train Accuracy: 58.6444\n"
     ]
    },
    {
     "name": "stderr",
     "output_type": "stream",
     "text": [
      "100%|██████████| 45/45 [00:01<00:00, 27.86it/s]\n",
      "  7%|▋         | 3/45 [00:00<00:01, 25.35it/s]"
     ]
    },
    {
     "name": "stdout",
     "output_type": "stream",
     "text": [
      "Epoch 75, Train loss: 0.6778\n",
      "Epoch 75, Train Accuracy: 58.3333\n"
     ]
    },
    {
     "name": "stderr",
     "output_type": "stream",
     "text": [
      "100%|██████████| 45/45 [00:01<00:00, 32.61it/s]\n",
      "  9%|▉         | 4/45 [00:00<00:01, 38.31it/s]"
     ]
    },
    {
     "name": "stdout",
     "output_type": "stream",
     "text": [
      "Epoch 76, Train loss: 0.6777\n",
      "Epoch 76, Train Accuracy: 58.0222\n"
     ]
    },
    {
     "name": "stderr",
     "output_type": "stream",
     "text": [
      "100%|██████████| 45/45 [00:01<00:00, 31.54it/s]\n",
      "  7%|▋         | 3/45 [00:00<00:01, 21.13it/s]"
     ]
    },
    {
     "name": "stdout",
     "output_type": "stream",
     "text": [
      "Epoch 77, Train loss: 0.6777\n",
      "Epoch 77, Train Accuracy: 57.8222\n"
     ]
    },
    {
     "name": "stderr",
     "output_type": "stream",
     "text": [
      "100%|██████████| 45/45 [00:01<00:00, 31.05it/s]\n",
      "  7%|▋         | 3/45 [00:00<00:01, 25.28it/s]"
     ]
    },
    {
     "name": "stdout",
     "output_type": "stream",
     "text": [
      "Epoch 78, Train loss: 0.6776\n",
      "Epoch 78, Train Accuracy: 57.5778\n"
     ]
    },
    {
     "name": "stderr",
     "output_type": "stream",
     "text": [
      "100%|██████████| 45/45 [00:01<00:00, 28.10it/s]\n",
      "  9%|▉         | 4/45 [00:00<00:01, 34.70it/s]"
     ]
    },
    {
     "name": "stdout",
     "output_type": "stream",
     "text": [
      "Epoch 79, Train loss: 0.6776\n",
      "Epoch 79, Train Accuracy: 57.3778\n"
     ]
    },
    {
     "name": "stderr",
     "output_type": "stream",
     "text": [
      "100%|██████████| 45/45 [00:01<00:00, 32.82it/s]\n",
      "  7%|▋         | 3/45 [00:00<00:01, 29.13it/s]"
     ]
    },
    {
     "name": "stdout",
     "output_type": "stream",
     "text": [
      "Epoch 80, Train loss: 0.6775\n",
      "Epoch 80, Train Accuracy: 57.0889\n"
     ]
    },
    {
     "name": "stderr",
     "output_type": "stream",
     "text": [
      "100%|██████████| 45/45 [00:01<00:00, 25.30it/s]\n",
      "  9%|▉         | 4/45 [00:00<00:01, 33.19it/s]"
     ]
    },
    {
     "name": "stdout",
     "output_type": "stream",
     "text": [
      "Epoch 81, Train loss: 0.6775\n",
      "Epoch 81, Train Accuracy: 56.9333\n"
     ]
    },
    {
     "name": "stderr",
     "output_type": "stream",
     "text": [
      " 18%|█▊        | 8/45 [00:00<00:01, 36.15it/s]\n"
     ]
    },
    {
     "ename": "KeyboardInterrupt",
     "evalue": "",
     "output_type": "error",
     "traceback": [
      "\u001b[0;31m---------------------------------------------------------------------------\u001b[0m",
      "\u001b[0;31mKeyboardInterrupt\u001b[0m                         Traceback (most recent call last)",
      "\u001b[0;32m<ipython-input-222-358e20793aa1>\u001b[0m in \u001b[0;36m<module>\u001b[0;34m()\u001b[0m\n\u001b[1;32m     29\u001b[0m         \u001b[0mloss\u001b[0m \u001b[0;34m=\u001b[0m \u001b[0msoftplus\u001b[0m\u001b[0;34m(\u001b[0m\u001b[0mdata\u001b[0m\u001b[0;34m,\u001b[0m \u001b[0mlabels\u001b[0m\u001b[0;34m,\u001b[0m \u001b[0ma\u001b[0m\u001b[0;34m.\u001b[0m\u001b[0mreshape\u001b[0m\u001b[0;34m(\u001b[0m\u001b[0mbatch_size\u001b[0m\u001b[0;34m,\u001b[0m \u001b[0;36m1\u001b[0m\u001b[0;34m)\u001b[0m\u001b[0;34m)\u001b[0m\u001b[0;34m\u001b[0m\u001b[0m\n\u001b[1;32m     30\u001b[0m         \u001b[0mtrain_loss\u001b[0m\u001b[0;34m.\u001b[0m\u001b[0mappend\u001b[0m\u001b[0;34m(\u001b[0m\u001b[0mloss\u001b[0m\u001b[0;34m)\u001b[0m\u001b[0;34m\u001b[0m\u001b[0m\n\u001b[0;32m---> 31\u001b[0;31m         \u001b[0macc\u001b[0m \u001b[0;34m=\u001b[0m \u001b[0mnet\u001b[0m\u001b[0;34m.\u001b[0m\u001b[0maccuracy\u001b[0m\u001b[0;34m(\u001b[0m\u001b[0mdata\u001b[0m\u001b[0;34m,\u001b[0m \u001b[0mlabels\u001b[0m\u001b[0;34m)\u001b[0m\u001b[0;34m\u001b[0m\u001b[0m\n\u001b[0m\u001b[1;32m     32\u001b[0m         \u001b[0mtrain_acc\u001b[0m\u001b[0;34m.\u001b[0m\u001b[0mappend\u001b[0m\u001b[0;34m(\u001b[0m\u001b[0macc\u001b[0m\u001b[0;34m)\u001b[0m\u001b[0;34m\u001b[0m\u001b[0m\n\u001b[1;32m     33\u001b[0m         \u001b[0mnet\u001b[0m\u001b[0;34m.\u001b[0m\u001b[0mbackward\u001b[0m\u001b[0;34m(\u001b[0m\u001b[0mloss\u001b[0m\u001b[0;34m,\u001b[0m \u001b[0mdata\u001b[0m\u001b[0;34m,\u001b[0m \u001b[0mlabels\u001b[0m\u001b[0;34m)\u001b[0m\u001b[0;34m\u001b[0m\u001b[0m\n",
      "\u001b[0;32m<ipython-input-204-37087bfc1ada>\u001b[0m in \u001b[0;36maccuracy\u001b[0;34m(self, data, labels)\u001b[0m\n\u001b[1;32m    129\u001b[0m \u001b[0;34m\u001b[0m\u001b[0m\n\u001b[1;32m    130\u001b[0m     \u001b[0;32mdef\u001b[0m \u001b[0maccuracy\u001b[0m\u001b[0;34m(\u001b[0m\u001b[0mself\u001b[0m\u001b[0;34m,\u001b[0m \u001b[0mdata\u001b[0m\u001b[0;34m,\u001b[0m \u001b[0mlabels\u001b[0m\u001b[0;34m)\u001b[0m\u001b[0;34m:\u001b[0m\u001b[0;34m\u001b[0m\u001b[0m\n\u001b[0;32m--> 131\u001b[0;31m         \u001b[0mpredicted_labels\u001b[0m \u001b[0;34m=\u001b[0m \u001b[0mself\u001b[0m\u001b[0;34m.\u001b[0m\u001b[0mpredict\u001b[0m\u001b[0;34m(\u001b[0m\u001b[0mdata\u001b[0m\u001b[0;34m)\u001b[0m\u001b[0;34m.\u001b[0m\u001b[0mreshape\u001b[0m\u001b[0;34m(\u001b[0m\u001b[0;34m-\u001b[0m\u001b[0;36m1\u001b[0m\u001b[0;34m,\u001b[0m \u001b[0;36m1\u001b[0m\u001b[0;34m)\u001b[0m\u001b[0;34m\u001b[0m\u001b[0m\n\u001b[0m\u001b[1;32m    132\u001b[0m         \u001b[0mmatches\u001b[0m \u001b[0;34m=\u001b[0m \u001b[0mnp\u001b[0m\u001b[0;34m.\u001b[0m\u001b[0mwhere\u001b[0m\u001b[0;34m(\u001b[0m\u001b[0mpredicted_labels\u001b[0m \u001b[0;34m==\u001b[0m \u001b[0mlabels\u001b[0m\u001b[0;34m)\u001b[0m\u001b[0;34m\u001b[0m\u001b[0m\n\u001b[1;32m    133\u001b[0m         \u001b[0mconcat\u001b[0m \u001b[0;34m=\u001b[0m \u001b[0mnp\u001b[0m\u001b[0;34m.\u001b[0m\u001b[0mhstack\u001b[0m\u001b[0;34m(\u001b[0m\u001b[0;34m[\u001b[0m\u001b[0mlabels\u001b[0m\u001b[0;34m,\u001b[0m \u001b[0mpredicted_labels\u001b[0m\u001b[0;34m.\u001b[0m\u001b[0mreshape\u001b[0m\u001b[0;34m(\u001b[0m\u001b[0;34m-\u001b[0m\u001b[0;36m1\u001b[0m\u001b[0;34m,\u001b[0m \u001b[0;36m1\u001b[0m\u001b[0;34m)\u001b[0m\u001b[0;34m]\u001b[0m\u001b[0;34m)\u001b[0m\u001b[0;34m\u001b[0m\u001b[0m\n",
      "\u001b[0;32m<ipython-input-204-37087bfc1ada>\u001b[0m in \u001b[0;36mpredict\u001b[0;34m(self, data)\u001b[0m\n\u001b[1;32m    121\u001b[0m \u001b[0;34m\u001b[0m\u001b[0m\n\u001b[1;32m    122\u001b[0m     \u001b[0;32mdef\u001b[0m \u001b[0mpredict\u001b[0m\u001b[0;34m(\u001b[0m\u001b[0mself\u001b[0m\u001b[0;34m,\u001b[0m \u001b[0mdata\u001b[0m\u001b[0;34m)\u001b[0m\u001b[0;34m:\u001b[0m\u001b[0;34m\u001b[0m\u001b[0m\n\u001b[0;32m--> 123\u001b[0;31m         \u001b[0mout\u001b[0m \u001b[0;34m=\u001b[0m \u001b[0mself\u001b[0m\u001b[0;34m.\u001b[0m\u001b[0mforward\u001b[0m\u001b[0;34m(\u001b[0m\u001b[0mdata\u001b[0m\u001b[0;34m)\u001b[0m\u001b[0;34m\u001b[0m\u001b[0m\n\u001b[0m\u001b[1;32m    124\u001b[0m \u001b[0;31m#         out = sigmoid(out)\u001b[0m\u001b[0;34m\u001b[0m\u001b[0;34m\u001b[0m\u001b[0m\n\u001b[1;32m    125\u001b[0m \u001b[0;31m#         print(\"Extremes:\", np.amax(out), np.amin(out))\u001b[0m\u001b[0;34m\u001b[0m\u001b[0;34m\u001b[0m\u001b[0m\n",
      "\u001b[0;32m<ipython-input-204-37087bfc1ada>\u001b[0m in \u001b[0;36mforward\u001b[0;34m(self, data)\u001b[0m\n\u001b[1;32m     42\u001b[0m         \u001b[0;32mfor\u001b[0m \u001b[0midx\u001b[0m \u001b[0;32min\u001b[0m \u001b[0mrange\u001b[0m\u001b[0;34m(\u001b[0m\u001b[0mdata\u001b[0m\u001b[0;34m.\u001b[0m\u001b[0mshape\u001b[0m\u001b[0;34m[\u001b[0m\u001b[0;36m0\u001b[0m\u001b[0;34m]\u001b[0m\u001b[0;34m)\u001b[0m\u001b[0;34m:\u001b[0m\u001b[0;34m\u001b[0m\u001b[0m\n\u001b[1;32m     43\u001b[0m             \u001b[0mx\u001b[0m \u001b[0;34m=\u001b[0m \u001b[0mdata\u001b[0m\u001b[0;34m[\u001b[0m\u001b[0midx\u001b[0m\u001b[0;34m,\u001b[0m \u001b[0;34m:\u001b[0m\u001b[0;34m:\u001b[0m\u001b[0;34m]\u001b[0m\u001b[0;34m.\u001b[0m\u001b[0mT\u001b[0m\u001b[0;34m\u001b[0m\u001b[0m\n\u001b[0;32m---> 44\u001b[0;31m             \u001b[0mself\u001b[0m\u001b[0;34m.\u001b[0m\u001b[0mfeedforward\u001b[0m\u001b[0;34m(\u001b[0m\u001b[0mx\u001b[0m\u001b[0;34m,\u001b[0m \u001b[0midx\u001b[0m\u001b[0;34m)\u001b[0m\u001b[0;34m\u001b[0m\u001b[0m\n\u001b[0m\u001b[1;32m     45\u001b[0m         \u001b[0;32mreturn\u001b[0m \u001b[0mnp\u001b[0m\u001b[0;34m.\u001b[0m\u001b[0marray\u001b[0m\u001b[0;34m(\u001b[0m\u001b[0mself\u001b[0m\u001b[0;34m.\u001b[0m\u001b[0mlinear2\u001b[0m\u001b[0;34m)\u001b[0m\u001b[0;34m\u001b[0m\u001b[0m\n\u001b[1;32m     46\u001b[0m \u001b[0;34m\u001b[0m\u001b[0m\n",
      "\u001b[0;32m<ipython-input-204-37087bfc1ada>\u001b[0m in \u001b[0;36mfeedforward\u001b[0;34m(self, x, idx)\u001b[0m\n\u001b[1;32m     51\u001b[0m \u001b[0;34m\u001b[0m\u001b[0m\n\u001b[1;32m     52\u001b[0m         \u001b[0mself\u001b[0m\u001b[0;34m.\u001b[0m\u001b[0mlinear1\u001b[0m\u001b[0;34m.\u001b[0m\u001b[0mappend\u001b[0m\u001b[0;34m(\u001b[0m\u001b[0mlinear1\u001b[0m\u001b[0;34m)\u001b[0m\u001b[0;34m\u001b[0m\u001b[0m\n\u001b[0;32m---> 53\u001b[0;31m         \u001b[0mself\u001b[0m\u001b[0;34m.\u001b[0m\u001b[0mrelu1\u001b[0m\u001b[0;34m.\u001b[0m\u001b[0mappend\u001b[0m\u001b[0;34m(\u001b[0m\u001b[0mrelu1\u001b[0m\u001b[0;34m)\u001b[0m\u001b[0;34m\u001b[0m\u001b[0m\n\u001b[0m\u001b[1;32m     54\u001b[0m         \u001b[0mself\u001b[0m\u001b[0;34m.\u001b[0m\u001b[0mlinear2\u001b[0m\u001b[0;34m.\u001b[0m\u001b[0mappend\u001b[0m\u001b[0;34m(\u001b[0m\u001b[0mlinear2\u001b[0m\u001b[0;34m)\u001b[0m\u001b[0;34m\u001b[0m\u001b[0m\n\u001b[1;32m     55\u001b[0m \u001b[0;34m\u001b[0m\u001b[0m\n",
      "\u001b[0;31mKeyboardInterrupt\u001b[0m: "
     ]
    }
   ],
   "source": [
    "seed = int(np.random.rand(1) * 10000)\n",
    "# seed = 4983\n",
    "print(\"Random seed:\", seed)\n",
    "np.random.seed(seed)\n",
    "\n",
    "batch_size = 100\n",
    "num_epochs = 150\n",
    "net = Network(hidden_units = 16, lr = 0.001, \n",
    "              batch_size = batch_size, debug = False)\n",
    "n = X.shape[0]\n",
    "test_n = batch_size * 5\n",
    "n = n - test_n\n",
    "print(n, test_n)\n",
    "\n",
    "\n",
    "idx = np.arange(n)\n",
    "test_idx = np.arange(n, n + test_n)\n",
    "\n",
    "# Training\n",
    "for epoch in range(num_epochs):\n",
    "    np.random.shuffle(idx)\n",
    "    train_loss = []\n",
    "    train_acc = []\n",
    "    for i in tqdm(range(0, n, batch_size)):\n",
    "        batch_idx = idx[i:i + batch_size]\n",
    "        data = X[batch_idx, :]\n",
    "        labels = y[batch_idx, ::]\n",
    "        a = net.forward(data)\n",
    "        loss = softplus(data, labels, a.reshape(batch_size, 1))\n",
    "        train_loss.append(loss)\n",
    "        acc = net.accuracy(data, labels)\n",
    "        train_acc.append(acc)\n",
    "        net.backward(loss, data, labels)\n",
    "        net.update_weights()\n",
    "    print(\"Epoch %d, Train loss: %.4f\" %(epoch, np.mean(train_loss)))\n",
    "    print(\"Epoch %d, Train Accuracy: %.4f\" %(epoch, np.mean(train_acc)))\n",
    "    \n",
    "# Testing\n",
    "test_loss = []\n",
    "test_acc = []\n",
    "for i in tqdm(range(0, test_n, batch_size)):\n",
    "    batch_idx = test_idx[i:i + batch_size]\n",
    "    test_data = X[batch_idx, :]\n",
    "    test_labels = y[batch_idx, ::]\n",
    "    a = net.forward(test_data)\n",
    "    loss = softplus(test_data, test_labels, a.reshape(batch_size, 1))\n",
    "    test_loss.append(loss)\n",
    "    acc = net.accuracy(test_data, test_labels)\n",
    "    test_acc.append(acc)\n",
    "    print(\"%d/%d Accuracy: %f\" %(i, test_n, acc))\n",
    "\n",
    "\n",
    "print(\"Test loss:\", np.mean(test_loss))\n",
    "print(\"Accuracy:\", np.mean(test_acc))\n",
    "    "
   ]
  }
 ],
 "metadata": {
  "kernelspec": {
   "display_name": "Python 3",
   "language": "python",
   "name": "python3"
  },
  "language_info": {
   "codemirror_mode": {
    "name": "ipython",
    "version": 3
   },
   "file_extension": ".py",
   "mimetype": "text/x-python",
   "name": "python",
   "nbconvert_exporter": "python",
   "pygments_lexer": "ipython3",
   "version": "3.5.4"
  }
 },
 "nbformat": 4,
 "nbformat_minor": 2
}
