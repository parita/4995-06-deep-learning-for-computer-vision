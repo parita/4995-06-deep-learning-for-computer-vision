{
 "cells": [
  {
   "cell_type": "markdown",
   "metadata": {},
   "source": [
    "# Deep Learning for Computer Vision:  Assignment 2\n"
   ]
  },
  {
   "cell_type": "markdown",
   "metadata": {},
   "source": [
    "## Computer Science: COMS W 4995 004\n"
   ]
  },
  {
   "cell_type": "markdown",
   "metadata": {},
   "source": [
    "## Due: February 27, 2018"
   ]
  },
  {
   "cell_type": "markdown",
   "metadata": {},
   "source": [
    "#### Problem"
   ]
  },
  {
   "cell_type": "markdown",
   "metadata": {},
   "source": [
    "You are given the noisy XOR data generated for you below. Your task is to implement a multi-layer perceptron binary classifier with one hidden layer. For the activiation function of the hidden units use ReLu or leaky ReLu. For the loss function use a softplus on a linear output layer as we did in class.\n",
    "\n",
    "a) Implement each layer of the network as a separate function with both forward propagation and backpropagation. \n",
    "\n",
    "b) Train the network using stochastic gradient descent with mini-batches.  \n",
    "\n",
    "c) Show the decision regions of the trained classifier by densely generating points in the plane and color coding these points with the binary labels. \n",
    "\n",
    "d) Repeat (b) and (c) varying the number of hidden units: 3, 16, 512. Discuss how the number of hidden units affects the solution.\n",
    "\n",
    "e) Try choosing your own loss function (without asking me or the TAs what you should choose), repeating (d).\n",
    "\n",
    "f) Now try with three inputs, generating your own training and validation data. (For this XOR the output should be a 1 if and only if exactly one of the inputs is 1. But make the training data noisey as before.) Use softplus loss. Do not try to show the decision regions, instead generate a validation set in the same manner as the training set, classify the samples, and compute the classification accuracy.\n",
    "\n",
    "If you are struggling to get the network to converge, experiment with different learning rates.\n",
    "\n",
    "Grading: a-d = 85%, e=10%, f=5%. \n",
    "\n",
    "#### NOTE:  Do not to use keras, tensorflow, pytorch, sklearn, etc. to do this.  You must build the machine learning components from scratch.\n",
    "\n"
   ]
  },
  {
   "cell_type": "markdown",
   "metadata": {},
   "source": [
    "Let's start by importing some libraries."
   ]
  },
  {
   "cell_type": "code",
   "execution_count": 476,
   "metadata": {},
   "outputs": [],
   "source": [
    "import numpy as np\n",
    "import random\n",
    "import pandas as pd\n",
    "import matplotlib.pyplot as plt\n",
    "from tqdm import tqdm"
   ]
  },
  {
   "cell_type": "markdown",
   "metadata": {},
   "source": [
    "Let's make up some noisy XOR data."
   ]
  },
  {
   "cell_type": "code",
   "execution_count": 501,
   "metadata": {},
   "outputs": [
    {
     "data": {
      "text/html": [
       "<div>\n",
       "<style scoped>\n",
       "    .dataframe tbody tr th:only-of-type {\n",
       "        vertical-align: middle;\n",
       "    }\n",
       "\n",
       "    .dataframe tbody tr th {\n",
       "        vertical-align: top;\n",
       "    }\n",
       "\n",
       "    .dataframe thead th {\n",
       "        text-align: right;\n",
       "    }\n",
       "</style>\n",
       "<table border=\"1\" class=\"dataframe\">\n",
       "  <thead>\n",
       "    <tr style=\"text-align: right;\">\n",
       "      <th></th>\n",
       "      <th>x1</th>\n",
       "      <th>x2</th>\n",
       "      <th>y</th>\n",
       "    </tr>\n",
       "  </thead>\n",
       "  <tbody>\n",
       "    <tr>\n",
       "      <th>0</th>\n",
       "      <td>-0.225245</td>\n",
       "      <td>0.115329</td>\n",
       "      <td>0.0</td>\n",
       "    </tr>\n",
       "    <tr>\n",
       "      <th>1</th>\n",
       "      <td>0.184413</td>\n",
       "      <td>1.030207</td>\n",
       "      <td>1.0</td>\n",
       "    </tr>\n",
       "    <tr>\n",
       "      <th>2</th>\n",
       "      <td>0.914806</td>\n",
       "      <td>-0.179590</td>\n",
       "      <td>1.0</td>\n",
       "    </tr>\n",
       "    <tr>\n",
       "      <th>3</th>\n",
       "      <td>0.081391</td>\n",
       "      <td>0.877957</td>\n",
       "      <td>1.0</td>\n",
       "    </tr>\n",
       "    <tr>\n",
       "      <th>4</th>\n",
       "      <td>0.860010</td>\n",
       "      <td>0.811776</td>\n",
       "      <td>0.0</td>\n",
       "    </tr>\n",
       "  </tbody>\n",
       "</table>\n",
       "</div>"
      ],
      "text/plain": [
       "         x1        x2    y\n",
       "0 -0.225245  0.115329  0.0\n",
       "1  0.184413  1.030207  1.0\n",
       "2  0.914806 -0.179590  1.0\n",
       "3  0.081391  0.877957  1.0\n",
       "4  0.860010  0.811776  0.0"
      ]
     },
     "execution_count": 501,
     "metadata": {},
     "output_type": "execute_result"
    }
   ],
   "source": [
    "data = pd.DataFrame(np.zeros((5000, 3)), columns=['x1', 'x2', 'y'])\n",
    "\n",
    "# Let's make up some noisy XOR data to use to build our binary classifier\n",
    "for i in range(len(data.index)):\n",
    "    x1 = 1.0 * random.randint(0,1)\n",
    "    x2 = 1.0 * random.randint(0,1)\n",
    "    y = 1.0 * np.logical_xor(x1 == 1 , x2 == 1)\n",
    "    x1 = x1 + 0.18 * np.random.normal()\n",
    "    x2 = x2 + 0.18 * np.random.normal()\n",
    "    data.iloc[i,0] = x1\n",
    "    data.iloc[i,1] = x2\n",
    "    data.iloc[i,2] = y\n",
    "        \n",
    "data.head()"
   ]
  },
  {
   "cell_type": "markdown",
   "metadata": {},
   "source": [
    "Let's message this data into a numpy format."
   ]
  },
  {
   "cell_type": "code",
   "execution_count": 502,
   "metadata": {},
   "outputs": [],
   "source": [
    "# set X (training data) and y (target variable)\n",
    "cols = data.shape[1]\n",
    "X = data.iloc[:,0:cols-1]\n",
    "y = data.iloc[:,cols-1:cols]\n",
    "\n",
    "# The cost function is expecting numpy matrices so we need to convert X and y before we can use them.  \n",
    "X = np.matrix(X.values)\n",
    "y = np.matrix(y.values)"
   ]
  },
  {
   "cell_type": "markdown",
   "metadata": {},
   "source": [
    "Let's make a sloppy plotting function for our binary data."
   ]
  },
  {
   "cell_type": "code",
   "execution_count": 503,
   "metadata": {},
   "outputs": [],
   "source": [
    "# Sloppy function for plotting our data\n",
    "def plot_data(X, y_prob):\n",
    "    \n",
    "    fig, ax = plt.subplots(figsize=(12,8))\n",
    "    ax.margins(0.05) # Optional, just adds 5% padding to the autoscaling\n",
    "\n",
    "    y_predict = y_prob > 0.5\n",
    "    indices_0 = [k for k in range(0, X.shape[0]) if not y_predict[k]]\n",
    "    indices_1 = [k for k in range(0, X.shape[0]) if y_predict[k]]\n",
    "\n",
    "    ax.plot(X[indices_0, 0], X[indices_0,1], marker='o', linestyle='', ms=5, label='0')\n",
    "    ax.plot(X[indices_1, 0], X[indices_1,1], marker='o', linestyle='', ms=5, label='1')\n",
    "\n",
    "    ax.legend()\n",
    "    ax.legend(loc=2)\n",
    "    ax.set_xlabel('x1')\n",
    "    ax.set_ylabel('x2')\n",
    "    ax.set_title('Noisy XOR')\n",
    "    plt.show()"
   ]
  },
  {
   "cell_type": "markdown",
   "metadata": {},
   "source": [
    "Now let's plot it."
   ]
  },
  {
   "cell_type": "code",
   "execution_count": 504,
   "metadata": {},
   "outputs": [
    {
     "data": {
      "image/png": "[encoded data removed]",
      "text/plain": [
       "<matplotlib.figure.Figure at 0x11478fef0>"
      ]
     },
     "metadata": {},
     "output_type": "display_data"
    }
   ],
   "source": [
    "plot_data(X, y)"
   ]
  },
  {
   "cell_type": "markdown",
   "metadata": {},
   "source": [
    "Now let's create functions for forward and backward prop through the layers and we are off..."
   ]
  },
  {
   "cell_type": "code",
   "execution_count": 5,
   "metadata": {},
   "outputs": [],
   "source": [
    "# Add a dimension for the bias\n",
    "# X = np.c_[X, np.ones(X.shape[0])]"
   ]
  },
  {
   "cell_type": "code",
   "execution_count": 505,
   "metadata": {},
   "outputs": [],
   "source": [
    "def relu(a):\n",
    "    a[a < 0] = 0\n",
    "    return a\n",
    "\n",
    "def leaky_relu(a, eps):\n",
    "    a[np.where(a < 0)] *= eps\n",
    "    return a"
   ]
  },
  {
   "cell_type": "code",
   "execution_count": 506,
   "metadata": {},
   "outputs": [],
   "source": [
    "def sigmoid(z):\n",
    "    return 1.0/(1.0 + np.exp(-z))"
   ]
  },
  {
   "cell_type": "code",
   "execution_count": 507,
   "metadata": {},
   "outputs": [],
   "source": [
    "def softplus(data, labels, a):\n",
    "    loss = np.multiply(1 - 2*labels, a)\n",
    "    loss = np.log(1 + np.exp(loss))\n",
    "    return loss"
   ]
  },
  {
   "cell_type": "code",
   "execution_count": 532,
   "metadata": {},
   "outputs": [],
   "source": [
    "class Network():\n",
    "    def __init__(self, in_units = 2, hidden_units = 3, \n",
    "                 out_units = 1, lr = 0.1,\n",
    "                 batch_size = 100, debug = False):\n",
    "\n",
    "        # Network specifications\n",
    "        self.in_units = in_units\n",
    "        self.hidden_units = hidden_units\n",
    "        self.batch_size = batch_size\n",
    "        self.out_units = out_units\n",
    "        self.lr = lr\n",
    "        self.debug = debug\n",
    "        \n",
    "        # Initialize network parameters\n",
    "        w1 = np.random.rand(self.hidden_units, self.in_units) - 0.7\n",
    "        w2 = np.random.rand(self.out_units, self.hidden_units) - 0.7\n",
    "        b1 = np.zeros((hidden_units, 1))\n",
    "        b2 = np.zeros((self.out_units, 1))\n",
    "        \n",
    "        self.weights = [w1, w2]\n",
    "        self.bias = [b1, b2]\n",
    "        \n",
    "        # Initialize batchwise layer outputs as empty\n",
    "        self.linear1 = []\n",
    "        self.relu1 = []\n",
    "        self.eps = 0.001\n",
    "        self.linear2 = []\n",
    "        \n",
    "        # Initialize batchwise gradients as empty\n",
    "        self.allgrad_weight1 = []\n",
    "        self.allgrad_weight2 = []\n",
    "        self.allgrad_bias1 = []\n",
    "        self.allgrad_bias2 = []\n",
    "    \n",
    "    # Feedforward for entire batch\n",
    "    def forward(self, data, save = True):\n",
    "        self.linear1 = []\n",
    "        self.relu1 = []\n",
    "        self.linear2 = []\n",
    "        for idx in range(data.shape[0]):\n",
    "            x = data[idx, ::]\n",
    "            x = x.reshape(self.in_units, 1)\n",
    "            self._forward(x, idx, save)\n",
    "        return np.array(self.linear2)\n",
    "    \n",
    "    # Feedforward for a single data point\n",
    "    def _forward(self, x, idx, save = True):\n",
    "\n",
    "        linear1 = np.dot(self.weights[0], x) + self.bias[0]\n",
    "        relu1 = leaky_relu(linear1, self.eps)\n",
    "        linear2 = np.dot(self.weights[1], relu1) + self.bias[1]\n",
    "        \n",
    "        self.linear2.append(linear2)\n",
    "        self.linear1.append(linear1)\n",
    "        self.relu1.append(relu1)\n",
    "        \n",
    "        if self.debug and idx == 0:\n",
    "            print(\"\\n---- PRINT FORWARD DATA ----\\n\")\n",
    "            print(\"x = \", x, x.shape)\n",
    "            print(\"weights1 = \", self.weights[0], self.weights[0].shape)\n",
    "            print(\"linear1 = \", linear1, linear1.shape)\n",
    "            print(\"relu1 = \", relu1, relu1.shape)\n",
    "            print(\"weights2 = \", self.weights[1], self.weights[1].shape)\n",
    "            print(\"linear2 = \", linear2, linear2.shape)\n",
    "        \n",
    "        return linear2\n",
    "        \n",
    "    # Backprop for entire batch\n",
    "    def backward(self, L, data, labels):\n",
    "        if (data.shape[0] != labels.shape[0]):\n",
    "            print(\"Data and labels shapes mismatch\")\n",
    "            return None\n",
    "        \n",
    "        self.allgrad_weight1 = []\n",
    "        self.allgrad_weight2 = []\n",
    "        self.allgrad_bias1 = []\n",
    "        self.allgrad_bias2 = []\n",
    "        for idx in range(data.shape[0]):\n",
    "            x = data[idx, ::]\n",
    "            x = x.reshape(self.in_units, 1)\n",
    "            y = labels[idx]\n",
    "            self._backward(L, x, y, idx)\n",
    "\n",
    "        self.grad_weights = [np.mean(self.allgrad_weight1),\n",
    "                             np.mean(self.allgrad_weight2)]\n",
    "        self.grad_bias = [np.mean(self.allgrad_bias1),\n",
    "                          np.mean(self.allgrad_bias2)]\n",
    "        \n",
    "    # Backprop for a single data point\n",
    "    def _backward(self, L, x, y, idx):\n",
    "        r = 1.0 - 2*y\n",
    "        \n",
    "        grad_bias2 = sigmoid(r * self.linear2[idx]) * r\n",
    "        grad_weight2 = np.multiply(grad_bias2, self.relu1[idx])\n",
    "        grad_relu1 = grad_bias2 * self.weights[1]\n",
    "        grad_linear1 = grad_relu1.T\n",
    "        grad_linear1[np.where(self.relu1[idx] <= 0)] *= self.eps\n",
    "        grad_weight1 = np.dot(grad_linear1, x.T)\n",
    "        grad_bias1 = grad_linear1\n",
    "            \n",
    "        self.allgrad_weight1.append(grad_weight1)\n",
    "        self.allgrad_weight2.append(grad_weight2)\n",
    "        self.allgrad_bias1.append(grad_bias1)\n",
    "        self.allgrad_bias2.append(grad_bias2)\n",
    "        \n",
    "        if (self.debug and idx == 0):\n",
    "            print(\"\\n---- PRINT BACKWARD DATA ----\\n\")\n",
    "            print(\"linear2 = \", self.linear2[idx])\n",
    "            print(\"r:\", r, \"y:\", y)\n",
    "            print(\"weight2:\", self.weights[1])\n",
    "            print(\"grad_bias2:\", grad_bias2)\n",
    "            print(\"grad_weight2:\", grad_weight2)\n",
    "            print(\"weight1:\", self.weights[0])\n",
    "            print(\"grad_relu1:\", grad_relu1)\n",
    "            print(\"grad_linear1:\", grad_linear1)\n",
    "            print(\"grad_weight1:\", grad_weight1)\n",
    "            print(\"grad_bias1:\", grad_bias1)\n",
    "    \n",
    "    # Update mini batch weights\n",
    "    def update_weights(self, lr = None):\n",
    "        if (lr):\n",
    "            self.lr = lr\n",
    "        self.weights[0] -= (self.lr * self.grad_weights[0])\n",
    "        self.weights[1] -= (self.lr * self.grad_weights[1])\n",
    "        self.bias[0] -= (self.lr * self.grad_bias[0])\n",
    "        self.bias[1] -= (self.lr * self.grad_bias[1])\n",
    "        \n",
    "    # Predict labels\n",
    "    def predict(self, data):\n",
    "        out = self.forward(data, save = False)\n",
    "        out[out >= 0] = 1\n",
    "        out[out < 0] = 0\n",
    "        return out\n",
    "    \n",
    "    # Compute accuracy\n",
    "    def accuracy(self, data, labels):\n",
    "        predicted_labels = self.predict(data).reshape(-1, 1)\n",
    "        matches = np.where(predicted_labels == labels)\n",
    "        return np.sum(labels == predicted_labels) / labels.shape[0] * 100.0"
   ]
  },
  {
   "cell_type": "code",
   "execution_count": 509,
   "metadata": {},
   "outputs": [],
   "source": [
    "# Split indexes for training and testing\n",
    "def split_data(data_X, data_y, test_split = 5):\n",
    "    train_n = data_X.shape[0]\n",
    "    test_n = batch_size * test_split\n",
    "    train_n = train_n - test_n\n",
    "    train_idx = np.arange(train_n)\n",
    "    test_idx = np.arange(train_n, train_n + test_n)\n",
    "    print(\"Split (train/test): (%d/%d)\" %(train_n, test_n))\n",
    "    data, labels = data_X[train_idx, ::], data_y[train_idx, ::]\n",
    "    test_data, test_labels = data_X[test_idx, ::], data_y[test_idx, ::]\n",
    "    return data, labels, test_data, test_labels"
   ]
  },
  {
   "cell_type": "code",
   "execution_count": 540,
   "metadata": {},
   "outputs": [],
   "source": [
    "# Train an epoch\n",
    "def train(net, epoch, data, labels, batch_size, \n",
    "          adaptive_lr = False, debug = False):\n",
    "    train_n = data.shape[0]\n",
    "    train_idx = np.arange(train_n)\n",
    "    np.random.shuffle(train_idx)\n",
    "    \n",
    "    train_loss = []\n",
    "    train_acc = []\n",
    "    for i in range(0, train_n, batch_size):\n",
    "        batch_idx = train_idx[i:i + batch_size]\n",
    "        batch_X = data[batch_idx, ::]\n",
    "        batch_y = labels[batch_idx, ::]\n",
    "        \n",
    "        # Feedforward\n",
    "        a = net.forward(batch_X)\n",
    "        loss = softplus(batch_X, batch_y, a.reshape(batch_size, 1))\n",
    "        train_loss.append(loss)\n",
    "        acc = net.accuracy(batch_X, batch_y)\n",
    "        train_acc.append(acc)\n",
    "        net.backward(loss, batch_X, batch_y)\n",
    "        if adaptive_lr:\n",
    "            lr = np.exp(-epoch * 0.01)\n",
    "        else:\n",
    "            lr = None\n",
    "        net.update_weights(lr)\n",
    "    \n",
    "    if debug:\n",
    "        print(\"Epoch %d, Train loss: %.4f\" %(epoch, np.mean(train_loss)))\n",
    "        print(\"Epoch %d, Train Accuracy: %.4f\" %(epoch, np.mean(train_acc)))"
   ]
  },
  {
   "cell_type": "code",
   "execution_count": 528,
   "metadata": {},
   "outputs": [],
   "source": [
    "# Test validation data\n",
    "def test(net, test_data, test_labels, batch_size, debug = True):\n",
    "    test_n = test_data.shape[0]\n",
    "    test_idx = np.arange(test_n)\n",
    "    test_loss = []\n",
    "    test_acc = []\n",
    "    for i in range(0, test_n, batch_size):\n",
    "        batch_idx = test_idx[i:i + batch_size]\n",
    "        batch_X = test_data[batch_idx, :]\n",
    "        batch_y = test_labels[batch_idx, ::]\n",
    "        a = net.forward(batch_X)\n",
    "        loss = softplus(batch_X, batch_y, a.reshape(batch_size, 1))\n",
    "        test_loss.append(loss)\n",
    "        acc = net.accuracy(batch_X, batch_y)\n",
    "        test_acc.append(acc)\n",
    "        if debug:\n",
    "            pass\n",
    "#             print(\"Batch %d: %d/%d Accuracy: %f\" %(i/batch_size, i, test_n, acc)) \n",
    "\n",
    "    if debug:\n",
    "        print(\"Test loss:\", np.mean(test_loss))\n",
    "        print(\"Accuracy:\", np.mean(test_acc))"
   ]
  },
  {
   "cell_type": "code",
   "execution_count": 541,
   "metadata": {},
   "outputs": [],
   "source": [
    "# Define decision boundary\n",
    "def plot_boundary(X, y_prob):\n",
    "    \n",
    "    fig, ax = plt.subplots(figsize=(12,8))\n",
    "    ax.margins(0.05) # Optional, just adds 5% padding to the autoscaling\n",
    "\n",
    "#     indices_0 = np.where(y_prob <= 0.5)\n",
    "#     indices_1 = np.where(y_prob > 0.5)\n",
    "#     print(y_prob.shape)\n",
    "    indices_0 = [k for k in range(0, X.shape[0]) if y_prob[k, ::] <= 0.5]\n",
    "    indices_1 = [k for k in range(0, X.shape[0]) if y_prob[k, ::] > 0.5]\n",
    "\n",
    "    ax.plot(X[indices_0, 0], X[indices_0,1], 'b', marker='o', linestyle='', ms=5, label='0')\n",
    "    ax.plot(X[indices_1, 0], X[indices_1,1], 'y', marker='o', linestyle='', ms=5, label='1')\n",
    "\n",
    "    ax.legend()\n",
    "    ax.legend(loc=2)\n",
    "    ax.set_xlabel('x1')\n",
    "    ax.set_ylabel('x2')\n",
    "    ax.set_title('Decision Boundary')\n",
    "    plt.show()"
   ]
  },
  {
   "cell_type": "markdown",
   "metadata": {},
   "source": [
    "Network with 3 hidden units, Accuracy: 91.6%"
   ]
  },
  {
   "cell_type": "code",
   "execution_count": 544,
   "metadata": {
    "scrolled": false
   },
   "outputs": [
    {
     "name": "stdout",
     "output_type": "stream",
     "text": [
      "Random seed: 6524\n",
      "Split (train/test): (4750/250)\n",
      "Test loss: 0.6077122491597403\n",
      "Accuracy: 94.4\n"
     ]
    }
   ],
   "source": [
    "# Random initialization that works for network with 3 hidden units\n",
    "seed = int(np.random.rand(1) * 10000)\n",
    "seed = 6524\n",
    "print(\"Random seed:\", seed)\n",
    "np.random.seed(seed)\n",
    "\n",
    "# Network parameters\n",
    "batch_size = 50\n",
    "num_epochs = 10\n",
    "hidden_units = 3\n",
    "\n",
    "# Initialize network\n",
    "net3 = Network(in_units = 2, hidden_units = hidden_units, lr = 0.1, \n",
    "              batch_size = batch_size, debug = False)\n",
    "\n",
    "# Split Data into training and test sets\n",
    "data, labels, test_data, test_labels = split_data(X, y)\n",
    "\n",
    "# Train the network for 'num_epochs'\n",
    "for epoch in range(num_epochs):\n",
    "    train(net3, epoch, data, labels, batch_size, \n",
    "          adaptive_lr = False, debug = False)\n",
    "    \n",
    "test(net3, test_data, test_labels, batch_size, debug = True)"
   ]
  },
  {
   "cell_type": "code",
   "execution_count": 545,
   "metadata": {},
   "outputs": [
    {
     "data": {
      "image/png": "[encoded data removed]",
      "text/plain": [
       "<matplotlib.figure.Figure at 0x120e77e10>"
      ]
     },
     "metadata": {},
     "output_type": "display_data"
    }
   ],
   "source": [
    "n = 500\n",
    "idx = np.linspace(-0.5, 1.5, n)\n",
    "x1, x2 = np.meshgrid(idx, idx)\n",
    "new_X = np.zeros((n*n, 2))\n",
    "new_X[:, 0] = x1.flatten()\n",
    "new_X[:, 1] = x2.flatten()\n",
    "\n",
    "new_y = net3.predict(new_X)\n",
    "\n",
    "plot_boundary(new_X, new_y)"
   ]
  },
  {
   "cell_type": "code",
   "execution_count": 516,
   "metadata": {
    "scrolled": false
   },
   "outputs": [
    {
     "name": "stdout",
     "output_type": "stream",
     "text": [
      "Random seed: 3581\n",
      "Split (train/test): (4750/250)\n",
      "Test loss: 0.5903963463066276\n",
      "Accuracy: 89.6\n"
     ]
    }
   ],
   "source": [
    "# Random initialization that works for network with 3 hidden units\n",
    "seed = int(np.random.rand(1) * 10000)\n",
    "# seed = 8879\n",
    "seed = 3581\n",
    "print(\"Random seed:\", seed)\n",
    "np.random.seed(seed)\n",
    "\n",
    "# Network parameters\n",
    "batch_size = 50\n",
    "num_epochs = 10\n",
    "hidden_units = 16\n",
    "\n",
    "# Initialize network\n",
    "net16 = Network(hidden_units = hidden_units, lr = 0.1, \n",
    "              batch_size = batch_size, debug = False)\n",
    "\n",
    "# Split Data into training and test sets\n",
    "data, labels, test_data, test_labels = split_data(X, y)\n",
    "\n",
    "# Train the network for 'num_epochs'\n",
    "for epoch in range(num_epochs):\n",
    "    train(net16, epoch, data, labels, batch_size, debug = False)\n",
    "    \n",
    "test(net16, test_data, test_labels, batch_size, debug = True)"
   ]
  },
  {
   "cell_type": "code",
   "execution_count": 518,
   "metadata": {},
   "outputs": [
    {
     "data": {
      "image/png": "[encoded data removed]",
      "text/plain": [
       "<matplotlib.figure.Figure at 0x129e43400>"
      ]
     },
     "metadata": {},
     "output_type": "display_data"
    }
   ],
   "source": [
    "n = 500\n",
    "idx = np.linspace(-0.5, 1.5, n)\n",
    "x1, x2 = np.meshgrid(idx, idx)\n",
    "new_X = np.zeros((n*n, 2))\n",
    "new_X[:, 0] = x1.flatten()\n",
    "new_X[:, 1] = x2.flatten()\n",
    "\n",
    "new_y = net16.predict(new_X)\n",
    "\n",
    "new_labels = net16.predict(test_data)\n",
    "plot_boundary(new_X, new_y)"
   ]
  },
  {
   "cell_type": "code",
   "execution_count": 524,
   "metadata": {},
   "outputs": [
    {
     "name": "stdout",
     "output_type": "stream",
     "text": [
      "Random seed: 2013\n",
      "Split (train/test): (4750/250)\n",
      "Epoch 0, Train loss: 1.0056\n",
      "Epoch 0, Train Accuracy: 42.9263\n",
      "Test loss: 0.795700550761356\n",
      "Accuracy: 49.6\n",
      "Epoch 1, Train loss: 0.7551\n",
      "Epoch 1, Train Accuracy: 50.2947\n",
      "Test loss: 0.7250057342578592\n",
      "Accuracy: 60.0\n",
      "Epoch 2, Train loss: 0.7064\n",
      "Epoch 2, Train Accuracy: 60.2105\n",
      "Test loss: 0.6917715864985279\n",
      "Accuracy: 65.2\n",
      "Epoch 3, Train loss: 0.6803\n",
      "Epoch 3, Train Accuracy: 65.4947\n",
      "Test loss: 0.6701244332289027\n",
      "Accuracy: 67.2\n",
      "Epoch 4, Train loss: 0.6588\n",
      "Epoch 4, Train Accuracy: 68.0421\n",
      "Test loss: 0.6495824310495654\n",
      "Accuracy: 64.8\n",
      "Epoch 5, Train loss: 0.6335\n",
      "Epoch 5, Train Accuracy: 69.4947\n",
      "Test loss: 0.6256714420666654\n",
      "Accuracy: 80.0\n",
      "Epoch 6, Train loss: 0.6032\n",
      "Epoch 6, Train Accuracy: 85.3684\n",
      "Test loss: 0.6017938368027894\n",
      "Accuracy: 83.2\n",
      "Epoch 7, Train loss: 0.5745\n",
      "Epoch 7, Train Accuracy: 86.9684\n",
      "Test loss: 0.5836357621823175\n",
      "Accuracy: 82.0\n",
      "Epoch 8, Train loss: 0.5532\n",
      "Epoch 8, Train Accuracy: 86.1263\n",
      "Test loss: 0.5701127159421283\n",
      "Accuracy: 83.2\n",
      "Epoch 9, Train loss: 0.5387\n",
      "Epoch 9, Train Accuracy: 86.3368\n",
      "Test loss: 0.561547638858382\n",
      "Accuracy: 83.2\n",
      "Test loss: 0.561547638858382\n",
      "Accuracy: 83.2\n"
     ]
    }
   ],
   "source": [
    "# Random initialization that works for network with 3 hidden units\n",
    "seed = int(np.random.rand(1) * 10000)\n",
    "seed = 2013\n",
    "print(\"Random seed:\", seed)\n",
    "np.random.seed(seed)\n",
    "\n",
    "# Network parameters\n",
    "batch_size = 50\n",
    "num_epochs = 10\n",
    "hidden_units = 512\n",
    "\n",
    "# Initialize network\n",
    "net512 = Network(hidden_units = hidden_units, lr = 0.15, \n",
    "              batch_size = batch_size, debug = False)\n",
    "\n",
    "# Split Data into training and test sets\n",
    "data, labels, test_data, test_labels = split_data(X, y)\n",
    "\n",
    "# Train the network for 'num_epochs'\n",
    "for epoch in range(num_epochs):\n",
    "    train(net512, epoch, data, labels, batch_size, debug = True)\n",
    "    test(net512, test_data, test_labels, batch_size, debug = True)\n",
    "    \n",
    "test(net512, test_data, test_labels, batch_size, debug = True)"
   ]
  },
  {
   "cell_type": "code",
   "execution_count": 525,
   "metadata": {
    "scrolled": false
   },
   "outputs": [
    {
     "data": {
      "image/png": "[encoded data removed]",
      "text/plain": [
       "<matplotlib.figure.Figure at 0x129e436d8>"
      ]
     },
     "metadata": {},
     "output_type": "display_data"
    }
   ],
   "source": [
    "n = 500\n",
    "idx = np.linspace(-0.5, 1.5, n)\n",
    "x1, x2 = np.meshgrid(idx, idx)\n",
    "new_X = np.zeros((n*n, 2))\n",
    "new_X[:, 0] = x1.flatten()\n",
    "new_X[:, 1] = x2.flatten()\n",
    "\n",
    "new_y = net512.predict(new_X)\n",
    "\n",
    "plot_boundary(new_X, new_y)"
   ]
  },
  {
   "cell_type": "code",
   "execution_count": 547,
   "metadata": {},
   "outputs": [],
   "source": [
    "class Network_cce():\n",
    "    def __init__(self, in_units = 2, out_units = 1, \n",
    "                 hidden_units = 3, lr = 0.1,\n",
    "                 batch_size = 100, debug = False):\n",
    "\n",
    "        # Network specifications\n",
    "        self.in_units = in_units\n",
    "        self.hidden_units = hidden_units\n",
    "        self.out_units = out_units\n",
    "        self.batch_size = batch_size\n",
    "        self.lr = lr\n",
    "        self.debug = debug\n",
    "        \n",
    "        # Initialize network parameters\n",
    "        w1 = np.random.rand(hidden_units, self.in_units) - 0.5\n",
    "        w2 = np.random.rand(self.out_units, hidden_units) - 0.5\n",
    "        b1 = np.zeros((hidden_units, 1))\n",
    "        b2 = np.zeros((self.out_units, 1))\n",
    "        \n",
    "        self.weights = [w1, w2]\n",
    "        self.bias = [b1, b2]\n",
    "        \n",
    "        # Initialize batchwise layer outputs as empty\n",
    "        self.linear1 = []\n",
    "        self.relu1 = []\n",
    "        self.eps = 0.00\n",
    "        self.linear2 = []\n",
    "        \n",
    "        # Initialize batchwise gradients as empty\n",
    "        self.allgrad_weight1 = []\n",
    "        self.allgrad_weight2 = []\n",
    "        self.allgrad_bias1 = []\n",
    "        self.allgrad_bias2 = []\n",
    "    \n",
    "    # Feedforward for entire batch\n",
    "    def forward(self, data, save = True):\n",
    "        self.linear1 = []\n",
    "        self.relu1 = []\n",
    "        self.linear2 = []\n",
    "        for idx in range(data.shape[0]):\n",
    "            x = data[idx, ::]\n",
    "            x = x.reshape(self.in_units, 1)\n",
    "            self._forward(x, idx, save)\n",
    "        return np.array(self.linear2)\n",
    "    \n",
    "    # Feedforward for a single data point\n",
    "    def _forward(self, x, idx, save = True):\n",
    "\n",
    "        linear1 = np.dot(self.weights[0], x) + self.bias[0]\n",
    "        relu1 = leaky_relu(linear1, self.eps)\n",
    "        linear2 = np.dot(self.weights[1], relu1) + self.bias[1]\n",
    "        \n",
    "        self.linear2.append(linear2)\n",
    "        self.linear1.append(linear1)\n",
    "        self.relu1.append(relu1)\n",
    "        \n",
    "        if self.debug and idx == 0:\n",
    "            print(\"\\n---- PRINT FORWARD DATA ----\\n\")\n",
    "            print(\"x = \", x, x.shape)\n",
    "            print(\"weights1 = \", self.weights[0], self.weights[0].shape)\n",
    "            print(\"linear1 = \", linear1, linear1.shape)\n",
    "            print(\"relu1 = \", relu1, relu1.shape)\n",
    "            print(\"weights2 = \", self.weights[1], self.weights[1].shape)\n",
    "            print(\"linear2 = \", linear2, linear2.shape)\n",
    "        \n",
    "        return linear2\n",
    "        \n",
    "    # Backprop for entire batch\n",
    "    def backward(self, L, data, labels):\n",
    "        if (data.shape[0] != labels.shape[0]):\n",
    "            print(\"Data and labels shapes mismatch\")\n",
    "            return None\n",
    "        \n",
    "        self.allgrad_weight1 = []\n",
    "        self.allgrad_weight2 = []\n",
    "        self.allgrad_bias1 = []\n",
    "        self.allgrad_bias2 = []\n",
    "        for idx in range(data.shape[0]):\n",
    "            x = data[idx, ::]\n",
    "            x = x.reshape(self.in_units, 1)\n",
    "            y = labels[idx]\n",
    "            self._backward(L, x, y, idx)\n",
    "\n",
    "        self.grad_weights = [np.mean(self.allgrad_weight1),\n",
    "                             np.mean(self.allgrad_weight2)]\n",
    "        self.grad_bias = [np.mean(self.allgrad_bias1),\n",
    "                          np.mean(self.allgrad_bias2)]\n",
    "        \n",
    "    # Backprop for a single data point\n",
    "    def _backward(self, L, x, y, idx):\n",
    "        eps = 0.01\n",
    "        grad_bias2 = sigmoid(self.linear2[idx]) - y\n",
    "#         grad_bias2 = 2*(y - self.linear2[idx])\n",
    "        grad_weight2 = np.multiply(grad_bias2, self.relu1[idx])\n",
    "        grad_relu1 = grad_bias2 * self.weights[1]\n",
    "        grad_linear1 = grad_relu1.T\n",
    "        grad_linear1[np.where(self.relu1[idx] <= 0)] *= self.eps\n",
    "        grad_weight1 = np.dot(grad_linear1, x.T)\n",
    "        grad_bias1 = grad_linear1\n",
    "            \n",
    "        self.allgrad_weight1.append(grad_weight1)\n",
    "        self.allgrad_weight2.append(grad_weight2)\n",
    "        self.allgrad_bias1.append(grad_bias1)\n",
    "        self.allgrad_bias2.append(grad_bias2)\n",
    "        \n",
    "        if (self.debug and idx == 0):\n",
    "            print(\"\\n---- PRINT BACKWARD DATA ----\\n\")\n",
    "            print(\"linear2 = \", self.linear2[idx])\n",
    "            print(\"r:\", r, \"y:\", y)\n",
    "            print(\"weight2:\", self.weights[1])\n",
    "            print(\"grad_bias2:\", grad_bias2)\n",
    "            print(\"grad_weight2:\", grad_weight2)\n",
    "            print(\"weight1:\", self.weights[0])\n",
    "            print(\"grad_relu1:\", grad_relu1)\n",
    "            print(\"grad_linear1:\", grad_linear1)\n",
    "            print(\"grad_weight1:\", grad_weight1)\n",
    "            print(\"grad_bias1:\", grad_bias1)\n",
    "    \n",
    "    # Update mini batch weights\n",
    "    def update_weights(self, lr = None):\n",
    "        if lr is not None:\n",
    "            self.lr = lr\n",
    "        self.weights[0] -= (self.lr * self.grad_weights[0])\n",
    "        self.weights[1] -= (self.lr * self.grad_weights[1])\n",
    "        self.bias[0] -= (self.lr * self.grad_bias[0])\n",
    "        self.bias[1] -= (self.lr * self.grad_bias[1])\n",
    "        \n",
    "    # Predict labels\n",
    "    def predict(self, data):\n",
    "        out = self.forward(data, save = False)\n",
    "        out[out >= 0] = 1\n",
    "        out[out < 0] = 0\n",
    "        return out\n",
    "    \n",
    "    # Compute accuracy\n",
    "    def accuracy(self, data, labels):\n",
    "        predicted_labels = self.predict(data).reshape(-1, 1)\n",
    "        matches = np.where(predicted_labels == labels)\n",
    "        return np.sum(labels == predicted_labels) / labels.shape[0] * 100.0"
   ]
  },
  {
   "cell_type": "code",
   "execution_count": 548,
   "metadata": {},
   "outputs": [],
   "source": [
    "def categorical_cross_entropy(data, labels, out):\n",
    "    n = data.shape[0]\n",
    "    eps = 0.01\n",
    "    L = - np.multiply(labels, np.log(sigmoid(out)))\n",
    "    L = L - np.multiply(1.0 - labels, np.log(1.0 - sigmoid(out)))\n",
    "    L = np.sum(L)/n\n",
    "    return L"
   ]
  },
  {
   "cell_type": "code",
   "execution_count": 549,
   "metadata": {},
   "outputs": [],
   "source": [
    "def quadratic(data, labels, out):\n",
    "    L = np.square(labels - out)\n",
    "    L = L / data.shape[0]\n",
    "    return L"
   ]
  },
  {
   "cell_type": "code",
   "execution_count": 550,
   "metadata": {},
   "outputs": [],
   "source": [
    "# Train an epoch\n",
    "def train_cce(net, epoch, data, labels, batch_size, \n",
    "              adaptive_lr = False, debug = False):\n",
    "    train_n = data.shape[0]\n",
    "    train_idx = np.arange(train_n)\n",
    "    np.random.shuffle(train_idx)\n",
    "    \n",
    "    train_loss = []\n",
    "    train_acc = []\n",
    "    for i in range(0, train_n, batch_size):\n",
    "        batch_idx = train_idx[i:i + batch_size]\n",
    "        batch_X = data[batch_idx, ::]\n",
    "        batch_y = labels[batch_idx, ::]\n",
    "        \n",
    "        # Feedforward\n",
    "        a = net.forward(batch_X)\n",
    "        loss = categorical_cross_entropy(batch_X, batch_y, a.reshape(batch_size, 1))\n",
    "#         loss = quadratic(batch_X, batch_y, a.reshape(batch_size, 1))\n",
    "        train_loss.append(loss)\n",
    "        acc = net.accuracy(batch_X, batch_y)\n",
    "        train_acc.append(acc)\n",
    "        net.backward(loss, batch_X, batch_y)\n",
    "        if adaptive_lr:\n",
    "            lr = np.exp(-epoch * 0.001)\n",
    "        else:\n",
    "            lr = None\n",
    "        net.update_weights(lr)\n",
    "    \n",
    "    if debug:\n",
    "        print(\"Epoch %d, Train loss: %.4f\" %(epoch, np.mean(train_loss)))\n",
    "        print(\"Epoch %d, Train Accuracy: %.4f\" %(epoch, np.mean(train_acc)))"
   ]
  },
  {
   "cell_type": "code",
   "execution_count": 551,
   "metadata": {},
   "outputs": [],
   "source": [
    "# Test validation data\n",
    "def test_cce(net, test_data, test_labels, batch_size, debug = True):\n",
    "    test_n = test_data.shape[0]\n",
    "    test_idx = np.arange(test_n)\n",
    "    test_loss = []\n",
    "    test_acc = []\n",
    "    for i in range(0, test_n, batch_size):\n",
    "        batch_idx = test_idx[i:i + batch_size]\n",
    "        batch_X = test_data[batch_idx, :]\n",
    "        batch_y = test_labels[batch_idx, ::]\n",
    "        a = net.forward(batch_X)\n",
    "        loss = categorical_cross_entropy(batch_X, batch_y, a.reshape(batch_size, 1))\n",
    "        test_loss.append(loss)\n",
    "        acc = net.accuracy(batch_X, batch_y)\n",
    "        test_acc.append(acc)\n",
    "        if debug:\n",
    "            pass\n",
    "#             print(\"Batch %d: %d/%d Accuracy: %f\" %(i/batch_size, i, test_n, acc)) \n",
    "\n",
    "    if debug:\n",
    "        print(\"Test loss:\", np.mean(test_loss))\n",
    "        print(\"Accuracy:\", np.mean(test_acc))"
   ]
  },
  {
   "cell_type": "code",
   "execution_count": null,
   "metadata": {},
   "outputs": [
    {
     "name": "stdout",
     "output_type": "stream",
     "text": [
      "Random seed: 6524\n",
      "Split (train/test): (4750/250)\n"
     ]
    }
   ],
   "source": [
    "# Random initialization that works for network with 3 hidden units\n",
    "seed = int(np.random.rand(1) * 10000)\n",
    "seed = 6524\n",
    "print(\"Random seed:\", seed)\n",
    "np.random.seed(seed)\n",
    "\n",
    "# Network parameters\n",
    "batch_size = 50\n",
    "num_epochs = 10\n",
    "hidden_units = 3\n",
    "\n",
    "# Initialize network\n",
    "net3_cce = Network_cce(hidden_units = hidden_units, lr = 0.1,\n",
    "                       out_units = 1, batch_size = batch_size, \n",
    "                       debug = False)\n",
    "\n",
    "# Split Data into training and test sets\n",
    "data, labels, test_data, test_labels = split_data(X, y)\n",
    "\n",
    "# Train the network for 'num_epochs'\n",
    "for epoch in range(num_epochs):\n",
    "    train_cce(net3_cce, epoch, data, labels, batch_size, debug = False)\n",
    "    \n",
    "test_cce(net3_cce, test_data, test_labels, batch_size, debug = True)"
   ]
  },
  {
   "cell_type": "code",
   "execution_count": null,
   "metadata": {
    "scrolled": false
   },
   "outputs": [],
   "source": [
    "n = 500\n",
    "idx = np.linspace(-0.5, 1.5, n)\n",
    "x1, x2 = np.meshgrid(idx, idx)\n",
    "new_X = np.zeros((n*n, 2))\n",
    "new_X[:, 0] = x1.flatten()\n",
    "new_X[:, 1] = x2.flatten()\n",
    "\n",
    "new_y = net3_cce.predict(new_X)\n",
    "\n",
    "plot_boundary(new_X, new_y)"
   ]
  },
  {
   "cell_type": "code",
   "execution_count": 459,
   "metadata": {
    "scrolled": false
   },
   "outputs": [
    {
     "name": "stdout",
     "output_type": "stream",
     "text": [
      "Random seed: 3581\n",
      "Split (train/test): (4500/500)\n",
      "Test loss: 0.5917829153853772\n",
      "Accuracy: 91.6\n"
     ]
    }
   ],
   "source": [
    "# Random initialization that works for network with 3 hidden units\n",
    "seed = int(np.random.rand(1) * 10000)\n",
    "# seed = 6524\n",
    "# seed = 5792\n",
    "# seed = 6257\n",
    "# seed = 2013\n",
    "# seed = 9928\n",
    "seed = 3581\n",
    "print(\"Random seed:\", seed)\n",
    "np.random.seed(seed)\n",
    "\n",
    "# Network parameters\n",
    "batch_size = 100\n",
    "num_epochs = 10\n",
    "hidden_units = 16\n",
    "\n",
    "# Initialize network\n",
    "net16_cce = Network_cce(hidden_units = hidden_units, lr = 0.2, \n",
    "              out_units = 1, batch_size = batch_size, debug = False)\n",
    "\n",
    "# Split Data into training and test sets\n",
    "data, labels, test_data, test_labels = split_data(X, y)\n",
    "\n",
    "# Train the network for 'num_epochs'\n",
    "for epoch in range(num_epochs):\n",
    "    train(net16_cce, epoch, data, labels, batch_size, debug = False)\n",
    "    \n",
    "test(net16_cce, test_data, test_labels, batch_size, debug = True)"
   ]
  },
  {
   "cell_type": "code",
   "execution_count": 460,
   "metadata": {},
   "outputs": [
    {
     "data": {
      "image/png": "[encoded data removed]",
      "text/plain": [
       "<matplotlib.figure.Figure at 0x1180a9780>"
      ]
     },
     "metadata": {},
     "output_type": "display_data"
    }
   ],
   "source": [
    "n = 500\n",
    "idx = np.linspace(-0.5, 1.5, n)\n",
    "x1, x2 = np.meshgrid(idx, idx)\n",
    "new_X = np.zeros((n*n, 2))\n",
    "new_X[:, 0] = x1.flatten()\n",
    "new_X[:, 1] = x2.flatten()\n",
    "\n",
    "new_y = net16_cce.predict(new_X)\n",
    "\n",
    "plot_boundary(new_X, new_y)"
   ]
  },
  {
   "cell_type": "code",
   "execution_count": 464,
   "metadata": {
    "scrolled": false
   },
   "outputs": [
    {
     "name": "stdout",
     "output_type": "stream",
     "text": [
      "Random seed: 8122\n",
      "Split (train/test): (4750/250)\n",
      "Epoch 0, Train loss: 1.1482\n",
      "Epoch 0, Train Accuracy: 32.7579\n",
      "Test loss: 0.8951070910662763\n",
      "Accuracy: 27.6\n",
      "Epoch 1, Train loss: 0.8540\n",
      "Epoch 1, Train Accuracy: 26.5895\n",
      "Test loss: 0.8140424720117364\n",
      "Accuracy: 29.2\n",
      "Epoch 2, Train loss: 0.7904\n",
      "Epoch 2, Train Accuracy: 29.4947\n",
      "Test loss: 0.7687065222086682\n",
      "Accuracy: 28.8\n",
      "Epoch 3, Train loss: 0.7583\n",
      "Epoch 3, Train Accuracy: 29.6842\n",
      "Test loss: 0.744976294741244\n",
      "Accuracy: 30.8\n",
      "Epoch 4, Train loss: 0.7391\n",
      "Epoch 4, Train Accuracy: 30.6737\n",
      "Test loss: 0.7307091424805192\n",
      "Accuracy: 30.4\n",
      "Epoch 5, Train loss: 0.7269\n",
      "Epoch 5, Train Accuracy: 30.8211\n",
      "Test loss: 0.7200071223890248\n",
      "Accuracy: 34.0\n",
      "Epoch 6, Train loss: 0.7193\n",
      "Epoch 6, Train Accuracy: 33.1368\n",
      "Test loss: 0.7144162115448214\n",
      "Accuracy: 32.4\n",
      "Epoch 7, Train loss: 0.7143\n",
      "Epoch 7, Train Accuracy: 37.7053\n",
      "Test loss: 0.7110551510276644\n",
      "Accuracy: 31.2\n",
      "Epoch 8, Train loss: 0.7111\n",
      "Epoch 8, Train Accuracy: 36.1053\n",
      "Test loss: 0.7082122248944568\n",
      "Accuracy: 53.2\n",
      "Epoch 9, Train loss: 0.7089\n",
      "Epoch 9, Train Accuracy: 42.3368\n",
      "Test loss: 0.7064374008478649\n",
      "Accuracy: 49.6\n",
      "Epoch 10, Train loss: 0.7071\n",
      "Epoch 10, Train Accuracy: 47.1579\n",
      "Test loss: 0.7062254652708246\n",
      "Accuracy: 36.0\n",
      "Epoch 11, Train loss: 0.7063\n",
      "Epoch 11, Train Accuracy: 38.5895\n",
      "Test loss: 0.7044655858443238\n",
      "Accuracy: 47.6\n",
      "Epoch 12, Train loss: 0.7052\n",
      "Epoch 12, Train Accuracy: 44.8632\n",
      "Test loss: 0.7042160028103627\n",
      "Accuracy: 38.8\n",
      "Epoch 13, Train loss: 0.7046\n",
      "Epoch 13, Train Accuracy: 38.9684\n",
      "Test loss: 0.7030118637441122\n",
      "Accuracy: 52.8\n",
      "Epoch 14, Train loss: 0.7040\n",
      "Epoch 14, Train Accuracy: 48.5263\n",
      "Test loss: 0.7029049717213329\n",
      "Accuracy: 34.0\n",
      "Epoch 15, Train loss: 0.7034\n",
      "Epoch 15, Train Accuracy: 45.2211\n",
      "Test loss: 0.70250595105551\n",
      "Accuracy: 32.4\n",
      "Test loss: 0.70250595105551\n",
      "Accuracy: 32.4\n"
     ]
    }
   ],
   "source": [
    "# Random initialization that works for network with 3 hidden units\n",
    "seed = int(np.random.rand(1) * 10000)\n",
    "# seed = 8128\n",
    "# seed = 7900\n",
    "# seed = 2247\n",
    "# seed = 9928\n",
    "# seed = 3581\n",
    "print(\"Random seed:\", seed)\n",
    "np.random.seed(seed)\n",
    "\n",
    "# Network parameters\n",
    "batch_size = 50\n",
    "num_epochs = 10\n",
    "hidden_units = 512\n",
    "\n",
    "# Initialize network\n",
    "net512_cce = Network_cce(hidden_units = hidden_units, lr = 0.1, \n",
    "              out_units = 1, batch_size = batch_size, debug = False)\n",
    "\n",
    "# Split Data into training and test sets\n",
    "data, labels, test_data, test_labels = split_data(X, y)\n",
    "\n",
    "# Train the network for 'num_epochs'\n",
    "for epoch in range(num_epochs):\n",
    "    train(net512_cce, epoch, data, labels, batch_size, debug = True)\n",
    "    test(net512_cce, test_data, test_labels, batch_size, debug = True)\n",
    "    \n",
    "test(net512_cce, test_data, test_labels, batch_size, debug = True)"
   ]
  },
  {
   "cell_type": "code",
   "execution_count": 466,
   "metadata": {},
   "outputs": [
    {
     "data": {
      "image/png": "[encoded data removed]",
      "text/plain": [
       "<matplotlib.figure.Figure at 0x120ec0b38>"
      ]
     },
     "metadata": {},
     "output_type": "display_data"
    }
   ],
   "source": [
    "n = 10\n",
    "idx = np.linspace(-0.5, 1.5, n)\n",
    "x1, x2 = np.meshgrid(idx, idx)\n",
    "new_X = np.zeros((n*n, 2))\n",
    "new_X[:, 0] = x1.flatten()\n",
    "new_X[:, 1] = x2.flatten()\n",
    "\n",
    "new_y = net512_cce.predict(new_X)\n",
    "\n",
    "plot_boundary(new_X, new_y)"
   ]
  },
  {
   "cell_type": "code",
   "execution_count": 467,
   "metadata": {},
   "outputs": [],
   "source": [
    "data = pd.DataFrame(np.zeros((6000, 4)), columns=['x1', 'x2', 'x3', 'y'])\n",
    "\n",
    "# Let's make up some noisy XOR data to use to build our binary classifier\n",
    "for i in range(len(data.index)):\n",
    "    x1 = 1.0 * random.randint(0, 1)\n",
    "    x2 = 1.0 * random.randint(0, 1)\n",
    "    x3 = 1.0 * random.randint(0, 1)\n",
    "    xor = 1.0 * np.logical_xor(np.logical_xor(x1 == 1, x2 == 1), x3 == 1)\n",
    "    x1 = x1 + 0.15 * np.random.normal()\n",
    "    x2 = x2 + 0.15 * np.random.normal()\n",
    "    x3 = x3 + 0.15 * np.random.normal()\n",
    "    data.iloc[i,0] = x1\n",
    "    data.iloc[i,1] = x2\n",
    "    data.iloc[i,2] = x2\n",
    "    data.iloc[i,3] = xor\n",
    "        \n",
    "data.head()\n",
    "\n",
    "# set X (training data) and y (target variable)\n",
    "cols = data.shape[1]\n",
    "Xf = data.iloc[:, 0:cols - 1]\n",
    "yf = data.iloc[:, cols - 1:cols]\n",
    "\n",
    "# The cost function is expecting numpy matrices so we need to convert X and y before we can use them.  \n",
    "Xf = np.matrix(Xf.values)\n",
    "yf = np.matrix(yf.values)"
   ]
  },
  {
   "cell_type": "code",
   "execution_count": 471,
   "metadata": {},
   "outputs": [
    {
     "name": "stdout",
     "output_type": "stream",
     "text": [
      "Random seed: 9391\n",
      "Split (train/test): (5000/1000)\n",
      "(5000, 3) (1000, 3)\n",
      "Epoch 0, Train loss: 0.6932\n",
      "Epoch 0, Train Accuracy: 51.1000\n",
      "Test loss: 0.6948787631170269\n",
      "Accuracy: 49.4\n",
      "Epoch 1, Train loss: 0.6932\n",
      "Epoch 1, Train Accuracy: 51.3000\n",
      "Test loss: 0.6948262861849428\n",
      "Accuracy: 49.4\n",
      "Epoch 2, Train loss: 0.6931\n",
      "Epoch 2, Train Accuracy: 51.5000\n",
      "Test loss: 0.6955928401929163\n",
      "Accuracy: 49.4\n",
      "Epoch 3, Train loss: 0.6932\n",
      "Epoch 3, Train Accuracy: 51.1600\n",
      "Test loss: 0.6948470234211009\n",
      "Accuracy: 49.4\n",
      "Epoch 4, Train loss: 0.6930\n",
      "Epoch 4, Train Accuracy: 51.2800\n",
      "Test loss: 0.6939374030993845\n",
      "Accuracy: 49.7\n",
      "Epoch 5, Train loss: 0.6931\n",
      "Epoch 5, Train Accuracy: 51.1000\n",
      "Test loss: 0.6930292237901453\n",
      "Accuracy: 49.8\n",
      "Epoch 6, Train loss: 0.6932\n",
      "Epoch 6, Train Accuracy: 51.5000\n",
      "Test loss: 0.694451556036586\n",
      "Accuracy: 49.4\n",
      "Epoch 7, Train loss: 0.6931\n",
      "Epoch 7, Train Accuracy: 50.9000\n",
      "Test loss: 0.694037818942207\n",
      "Accuracy: 49.6\n",
      "Epoch 8, Train loss: 0.6931\n",
      "Epoch 8, Train Accuracy: 51.2200\n",
      "Test loss: 0.6939460415028409\n",
      "Accuracy: 49.6\n",
      "Epoch 9, Train loss: 0.6928\n",
      "Epoch 9, Train Accuracy: 51.6600\n",
      "Test loss: 0.6930106599915878\n",
      "Accuracy: 49.9\n",
      "Test loss: 0.6930106599915878\n",
      "Accuracy: 49.9\n"
     ]
    }
   ],
   "source": [
    "# Random initialization that works for network with 3 hidden units\n",
    "seed = int(np.random.rand(1) * 10000)\n",
    "# seed = 6524\n",
    "print(\"Random seed:\", seed)\n",
    "np.random.seed(seed)\n",
    "\n",
    "# Network parameters\n",
    "batch_size = 50\n",
    "num_epochs = 10\n",
    "hidden_units = 3\n",
    "\n",
    "# Initialize network\n",
    "net3_f = Network(in_units = Xf.shape[1], hidden_units = hidden_units, \n",
    "                     out_units = yf.shape[1], lr = 0.2, \n",
    "                     batch_size = batch_size, debug = False)\n",
    "\n",
    "# Split Data into training and test sets\n",
    "data, labels, test_data, test_labels = split_data(Xf, yf, test_split = 20)\n",
    "print(data.shape, test_data.shape)\n",
    "\n",
    "# Train the network for 'num_epochs'\n",
    "for epoch in range(num_epochs):\n",
    "    train(net3_f, epoch, data, labels, batch_size, debug = True)\n",
    "    test(net3_f, test_data, test_labels, batch_size, debug = True)\n",
    "    \n",
    "test(net3_f, test_data, test_labels, batch_size, debug = True)"
   ]
  }
 ],
 "metadata": {
  "kernelspec": {
   "display_name": "Python 3",
   "language": "python",
   "name": "python3"
  },
  "language_info": {
   "codemirror_mode": {
    "name": "ipython",
    "version": 3
   },
   "file_extension": ".py",
   "mimetype": "text/x-python",
   "name": "python",
   "nbconvert_exporter": "python",
   "pygments_lexer": "ipython3",
   "version": "3.5.4"
  }
 },
 "nbformat": 4,
 "nbformat_minor": 2
}
