{
 "cells": [
  {
   "cell_type": "markdown",
   "metadata": {},
   "source": [
    "# Deep Learning for Computer Vision:  Assignment 4"
   ]
  },
  {
   "cell_type": "markdown",
   "metadata": {},
   "source": [
    "## Computer Science: COMS W 4995 006"
   ]
  },
  {
   "cell_type": "markdown",
   "metadata": {},
   "source": [
    "### Due: March 20, 2018\n",
    "\n",
    "### Problem"
   ]
  },
  {
   "cell_type": "markdown",
   "metadata": {},
   "source": [
    "In this notebook we provide three networks for classifying handwritten digits from the MNIST dataset. The networks are implemented and tested using the Tensorflow framework. The third and final network is a convolutional neural network (CNN aka ConvNet) which achieves 99.25% accuracy on this dataset. \n",
    "\n",
    "Your task is to re-implement all three networks using the Keras wrapper around Tensorflow OR\n",
    "re-implement using Pytorch. You will likely find several Keras or Pytorch implementations on the internet. It is ok to study these. However, you must not cut and paste this code into your assignment--you must write this yourself. Furthermore, you need to comment every line of code and succintly explain what it is doing! \n",
    "\n",
    "Here is what is required:\n",
    "\n",
    "a) A FULLY commented re-implementation of the ConvNet below using the Keras wrapper on Tensorflow OR Pytorch.\n",
    "\n",
    "b) your network trained on the same MNIST data as used here.\n",
    "\n",
    "c) an evaluation of the accuracy on the MNIST test set.\n",
    "\n",
    "d) plots of 10 randomly selected digits from the test set along with the correct label and the assigned label.\n",
    "\n",
    "e) have your training record a log of the data using the Keras API and then use Tensorboard (a command line tool) to display plots of the validation loss and validation accuracy. you can zip up a screenshot of this with your notebook before submission.\n",
    "\n",
    "f) have your training continually save the best model so far (as determined by the validation loss) using the Keras API or Pytorch.\n",
    "\n",
    "g) after training, load the saved weights using the best model so far. re-run you accuracy evaluation using these saved weights.\n",
    "\n",
    "Below we include the Tensorflow examples shown in class."
   ]
  },
  {
   "cell_type": "markdown",
   "metadata": {},
   "source": [
    "### A Simple Convolutional Neural Network in Tensorflow"
   ]
  },
  {
   "cell_type": "markdown",
   "metadata": {},
   "source": [
    "This notebook covers a python and tensorflow-based solution to the handwritten digits recognition problem. It is based on tensorflow tutorials and Yann LeCun's early work on CNN's. This toturial compares a simple softmax regressor, a multi-layer perceptron (MLP), and a simple convolutional neural network (CNN)."
   ]
  },
  {
   "cell_type": "markdown",
   "metadata": {},
   "source": [
    "Load in the MNIST digit dataset directly from tensorflow examples."
   ]
  },
  {
   "cell_type": "code",
   "execution_count": 1,
   "metadata": {},
   "outputs": [
    {
     "name": "stdout",
     "output_type": "stream",
     "text": [
      "Extracting MNIST_data/train-images-idx3-ubyte.gz\n",
      "Extracting MNIST_data/train-labels-idx1-ubyte.gz\n",
      "Extracting MNIST_data/t10k-images-idx3-ubyte.gz\n",
      "Extracting MNIST_data/t10k-labels-idx1-ubyte.gz\n"
     ]
    }
   ],
   "source": [
    "from tensorflow.examples.tutorials.mnist import input_data\n",
    "mnist = input_data.read_data_sets('MNIST_data', one_hot=True)"
   ]
  },
  {
   "cell_type": "markdown",
   "metadata": {},
   "source": [
    "The MNIST data is split into three parts: 55,000 data points of training data (mnist.train), 10,000 points of test data (mnist.test), and 5,000 points of validation data (mnist.validation). "
   ]
  },
  {
   "cell_type": "markdown",
   "metadata": {},
   "source": [
    "Let's import tensorflow and begin an interactive session."
   ]
  },
  {
   "cell_type": "code",
   "execution_count": 2,
   "metadata": {
    "collapsed": true
   },
   "outputs": [],
   "source": [
    "import tensorflow as tf\n",
    "sess = tf.InteractiveSession()"
   ]
  },
  {
   "cell_type": "markdown",
   "metadata": {},
   "source": [
    "## Softmax Regression Model on the MNIST Digits Data"
   ]
  },
  {
   "cell_type": "markdown",
   "metadata": {},
   "source": [
    "We need to create placeholders for the data. Data will be dumped here when it is batched from the MNIST dataset."
   ]
  },
  {
   "cell_type": "code",
   "execution_count": 3,
   "metadata": {
    "collapsed": true
   },
   "outputs": [],
   "source": [
    "x = tf.placeholder(tf.float32, shape=[None, 784])\n",
    "y_ = tf.placeholder(tf.float32, shape=[None, 10])"
   ]
  },
  {
   "cell_type": "markdown",
   "metadata": {},
   "source": [
    "Now let's see what this data looks like."
   ]
  },
  {
   "cell_type": "code",
   "execution_count": 4,
   "metadata": {},
   "outputs": [
    {
     "data": {
      "image/png": "[encoded data removed]",
      "text/plain": [
       "<matplotlib.figure.Figure at 0x10dae8ed0>"
      ]
     },
     "metadata": {},
     "output_type": "display_data"
    },
    {
     "data": {
      "image/png": "[encoded data removed]",
      "text/plain": [
       "<matplotlib.figure.Figure at 0x113a93fd0>"
      ]
     },
     "metadata": {},
     "output_type": "display_data"
    },
    {
     "data": {
      "image/png": "[encoded data removed]",
      "text/plain": [
       "<matplotlib.figure.Figure at 0x113c36bd0>"
      ]
     },
     "metadata": {},
     "output_type": "display_data"
    },
    {
     "data": {
      "image/png": "[encoded data removed]",
      "text/plain": [
       "<matplotlib.figure.Figure at 0x113ccc2d0>"
      ]
     },
     "metadata": {},
     "output_type": "display_data"
    }
   ],
   "source": [
    "import matplotlib.pyplot as plt\n",
    "import numpy as np\n",
    "\n",
    "for i in range(4):\n",
    "    batch = mnist.test.next_batch(1)\n",
    "    image = np.asarray(batch[0]).reshape((28, 28))\n",
    "    label = batch[1]\n",
    "    \n",
    "    plt.imshow(image)\n",
    "    plt.axis(\"off\")\n",
    "    plt.show()"
   ]
  },
  {
   "cell_type": "markdown",
   "metadata": {},
   "source": [
    "We are first going to do softmax logistic regression. This is a linear layer followed by softmax. Note there are NO hidden layers here. Also note that the digit images (28x28 grayscale images) are reshaped into a 784 element vector. "
   ]
  },
  {
   "cell_type": "markdown",
   "metadata": {},
   "source": [
    "Below we create the parameters (weights) for our linear layer."
   ]
  },
  {
   "cell_type": "code",
   "execution_count": 5,
   "metadata": {
    "collapsed": true
   },
   "outputs": [],
   "source": [
    "W = tf.Variable(tf.zeros([784,10]))\n",
    "b = tf.Variable(tf.zeros([10]))"
   ]
  },
  {
   "cell_type": "markdown",
   "metadata": {},
   "source": [
    "We then use tensorflows initializer to initialize these weights."
   ]
  },
  {
   "cell_type": "code",
   "execution_count": 6,
   "metadata": {
    "collapsed": true
   },
   "outputs": [],
   "source": [
    "sess.run(tf.global_variables_initializer())"
   ]
  },
  {
   "cell_type": "markdown",
   "metadata": {},
   "source": [
    "We create our linear layer as a function of the input and the weights."
   ]
  },
  {
   "cell_type": "code",
   "execution_count": 7,
   "metadata": {
    "collapsed": true
   },
   "outputs": [],
   "source": [
    "y_regressor = tf.matmul(x,W) + b"
   ]
  },
  {
   "cell_type": "markdown",
   "metadata": {},
   "source": [
    "Below we create our loss function. Note that the cross entropy is $ H_{\\hat{y}}(y) = -\\sum_i \\hat{y}_{i} \\, \\log(y_{i})$ where $\\hat{y}$ is the true probability distribution and is expressed as a one-hot vector, $y$ is the estimated probability distribution, and $i$ indexes elements of these two vectors. Also note that this reduces to $ H_{\\hat{y}}(y) = -\\, \\log(y_{i^*})$ where $i^*$ is the correct label. And if we sum this over all of our samples indexed by $j$, then $H_{\\hat{y}}(y) = -\\sum_j  \\log(y^{(j)}_{i^*})$. This is precisely the same loss function as we used before, but we called the MLE loss. They are one and the same."
   ]
  },
  {
   "cell_type": "code",
   "execution_count": 8,
   "metadata": {
    "collapsed": true
   },
   "outputs": [],
   "source": [
    "cross_entropy = tf.reduce_mean(\n",
    "    tf.nn.softmax_cross_entropy_with_logits(labels=y_, logits=y_regressor))"
   ]
  },
  {
   "cell_type": "markdown",
   "metadata": {},
   "source": [
    "Now we tell tf to use gradient descent with a step size of 0.5 and to minimize the cross entropy."
   ]
  },
  {
   "cell_type": "code",
   "execution_count": 9,
   "metadata": {
    "collapsed": true
   },
   "outputs": [],
   "source": [
    "train_step = tf.train.GradientDescentOptimizer(0.5).minimize(cross_entropy)"
   ]
  },
  {
   "cell_type": "markdown",
   "metadata": {},
   "source": [
    "We train by grabbing mini-batches with 100 samples each and pushing these through the network to update our weights (W and b)."
   ]
  },
  {
   "cell_type": "code",
   "execution_count": 10,
   "metadata": {
    "collapsed": true
   },
   "outputs": [],
   "source": [
    "for _ in range(1000):\n",
    "  batch = mnist.train.next_batch(100)\n",
    "  train_step.run(feed_dict={x: batch[0], y_: batch[1]})"
   ]
  },
  {
   "cell_type": "markdown",
   "metadata": {},
   "source": [
    "We define how to compute correct predicitions."
   ]
  },
  {
   "cell_type": "code",
   "execution_count": 11,
   "metadata": {
    "collapsed": true
   },
   "outputs": [],
   "source": [
    "correct_prediction = tf.equal(tf.argmax(y_regressor,1), tf.argmax(y_,1))"
   ]
  },
  {
   "cell_type": "markdown",
   "metadata": {},
   "source": [
    "And from these correct predictions how to compute the accuracy."
   ]
  },
  {
   "cell_type": "code",
   "execution_count": 12,
   "metadata": {
    "collapsed": true
   },
   "outputs": [],
   "source": [
    "accuracy = tf.reduce_mean(tf.cast(correct_prediction, tf.float32))"
   ]
  },
  {
   "cell_type": "code",
   "execution_count": 13,
   "metadata": {},
   "outputs": [
    {
     "name": "stdout",
     "output_type": "stream",
     "text": [
      "0.9192\n"
     ]
    }
   ],
   "source": [
    "print(accuracy.eval(feed_dict={x: mnist.test.images, y_: mnist.test.labels}))"
   ]
  },
  {
   "cell_type": "markdown",
   "metadata": {},
   "source": [
    "Let's print out some test images and the corresponsing predictions made by the network. But first, let's add an output to the computation graph that computes the softmax probabilities."
   ]
  },
  {
   "cell_type": "code",
   "execution_count": 14,
   "metadata": {},
   "outputs": [],
   "source": [
    "y_probs_regressor = tf.nn.softmax(logits=y_regressor, name=None)"
   ]
  },
  {
   "cell_type": "code",
   "execution_count": 15,
   "metadata": {
    "scrolled": false
   },
   "outputs": [
    {
     "data": {
      "image/png": "[encoded data removed]",
      "text/plain": [
       "<matplotlib.figure.Figure at 0x12772b290>"
      ]
     },
     "metadata": {},
     "output_type": "display_data"
    },
    {
     "name": "stdout",
     "output_type": "stream",
     "text": [
      "Label =  [[ 0.  0.  0.  0.  1.  0.  0.  0.  0.  0.]]\n",
      "Class probabilities =  [[  1.67203823e-03   6.03468334e-06   6.42732251e-03   1.87764294e-04\n",
      "    9.26438749e-01   4.59894276e-04   3.28759407e-03   1.33758076e-02\n",
      "    5.87336766e-03   4.22714762e-02]]\n"
     ]
    },
    {
     "data": {
      "image/png": "[encoded data removed]",
      "text/plain": [
       "<matplotlib.figure.Figure at 0x11058bad0>"
      ]
     },
     "metadata": {},
     "output_type": "display_data"
    },
    {
     "name": "stdout",
     "output_type": "stream",
     "text": [
      "Label =  [[ 0.  1.  0.  0.  0.  0.  0.  0.  0.  0.]]\n",
      "Class probabilities =  [[  9.20873049e-07   9.87897158e-01   2.22241855e-03   1.86755520e-03\n",
      "    3.91291178e-05   9.39880556e-05   3.30834628e-05   3.73039884e-03\n",
      "    3.64026078e-03   4.75243636e-04]]\n"
     ]
    },
    {
     "data": {
      "image/png": "[encoded data removed]",
      "text/plain": [
       "<matplotlib.figure.Figure at 0x11ed9c910>"
      ]
     },
     "metadata": {},
     "output_type": "display_data"
    },
    {
     "name": "stdout",
     "output_type": "stream",
     "text": [
      "Label =  [[ 0.  0.  0.  0.  1.  0.  0.  0.  0.  0.]]\n",
      "Class probabilities =  [[  5.94127778e-06   1.63856862e-06   2.03961849e-06   2.16156419e-04\n",
      "    9.74607527e-01   5.81776584e-03   5.42712551e-05   1.18222029e-03\n",
      "    1.06608802e-02   7.45144626e-03]]\n"
     ]
    },
    {
     "data": {
      "image/png": "[encoded data removed]",
      "text/plain": [
       "<matplotlib.figure.Figure at 0x11ed6d950>"
      ]
     },
     "metadata": {},
     "output_type": "display_data"
    },
    {
     "name": "stdout",
     "output_type": "stream",
     "text": [
      "Label =  [[ 0.  0.  0.  0.  0.  0.  0.  0.  0.  1.]]\n",
      "Class probabilities =  [[  1.32794867e-06   3.03926598e-03   1.02855719e-03   3.06596723e-03\n",
      "    1.28692212e-02   9.07216594e-03   2.42878319e-04   1.96316512e-03\n",
      "    6.66321721e-03   9.62054253e-01]]\n"
     ]
    },
    {
     "data": {
      "image/png": "[encoded data removed]",
      "text/plain": [
       "<matplotlib.figure.Figure at 0x11edb4c90>"
      ]
     },
     "metadata": {},
     "output_type": "display_data"
    },
    {
     "name": "stdout",
     "output_type": "stream",
     "text": [
      "Label =  [[ 0.  0.  0.  0.  0.  1.  0.  0.  0.  0.]]\n",
      "Class probabilities =  [[  8.77247099e-03   5.61122533e-06   5.13427751e-03   1.86741403e-07\n",
      "    6.87260833e-03   3.76259210e-03   9.73673403e-01   4.59226328e-07\n",
      "    1.65836595e-03   1.20098288e-04]]\n"
     ]
    }
   ],
   "source": [
    "for i in range(5):\n",
    "    batch = mnist.test.next_batch(1)\n",
    "    image = np.asarray(batch[0]).reshape((28, 28))\n",
    "    label = batch[1]\n",
    "    \n",
    "    plt.imshow(image)\n",
    "    plt.axis(\"off\")\n",
    "    plt.show()\n",
    "    print \"Label = \", label\n",
    "    print \"Class probabilities = \", y_probs_regressor.eval(feed_dict={\n",
    "        x: batch[0], y_: batch[1]})"
   ]
  },
  {
   "cell_type": "markdown",
   "metadata": {},
   "source": [
    "## Softmax Multi-Layer Perceptron on the MNIST Digits Data"
   ]
  },
  {
   "cell_type": "markdown",
   "metadata": {},
   "source": [
    "Here we define both weight and bias variables and how they are to be initialized. Note that the weights are are distributed according to a standard normal distribution (mean = 0, std = 0.1). This random initialization helps avoid hidden units get stuck together, as units that start with the same value will be updated identically in the non-convolutional layers. In contrast, the bias variables are set to a small positive number--this is help prevent hidden units from starting out and getting stuck in the zero part of the ReLU. "
   ]
  },
  {
   "cell_type": "code",
   "execution_count": 16,
   "metadata": {
    "collapsed": true
   },
   "outputs": [],
   "source": [
    "def weight_variable(shape):\n",
    "  initial = tf.truncated_normal(shape, stddev=0.1)\n",
    "  return tf.Variable(initial)\n",
    "\n",
    "def bias_variable(shape):\n",
    "  initial = tf.constant(0.1, shape=shape)\n",
    "  return tf.Variable(initial)"
   ]
  },
  {
   "cell_type": "markdown",
   "metadata": {},
   "source": [
    "Next we create placeholders for the training data."
   ]
  },
  {
   "cell_type": "code",
   "execution_count": 17,
   "metadata": {
    "collapsed": true
   },
   "outputs": [],
   "source": [
    "x = tf.placeholder(tf.float32, shape=[None, 784])\n",
    "y_ = tf.placeholder(tf.float32, shape=[None, 10])"
   ]
  },
  {
   "cell_type": "markdown",
   "metadata": {},
   "source": [
    "We create the first and only fully connected hidden layer."
   ]
  },
  {
   "cell_type": "code",
   "execution_count": 18,
   "metadata": {},
   "outputs": [],
   "source": [
    "W_h = weight_variable([784, 512])\n",
    "b_h = bias_variable([512])\n",
    "h = tf.nn.relu(tf.matmul(x, W_h) + b_h)"
   ]
  },
  {
   "cell_type": "markdown",
   "metadata": {},
   "source": [
    "We create the output layer."
   ]
  },
  {
   "cell_type": "code",
   "execution_count": 19,
   "metadata": {
    "collapsed": true
   },
   "outputs": [],
   "source": [
    "W_out = weight_variable([512, 10])\n",
    "b_out = bias_variable([10])\n",
    "y_MLP = tf.matmul(h, W_out) + b_out"
   ]
  },
  {
   "cell_type": "markdown",
   "metadata": {},
   "source": [
    "We again use cross entropy loss on a softmax distribution on the outputs."
   ]
  },
  {
   "cell_type": "code",
   "execution_count": 20,
   "metadata": {
    "collapsed": true
   },
   "outputs": [],
   "source": [
    "cross_entropy = tf.reduce_mean(\n",
    "    tf.nn.softmax_cross_entropy_with_logits(labels=y_, logits=y_MLP))"
   ]
  },
  {
   "cell_type": "markdown",
   "metadata": {},
   "source": [
    "For training we choose an Adam learning rate and update rule. We then run this for 20,000 iterations and evaluate our accuracy after training. Note this softmax MLP network does quite a bit bettter than our softmax regressor. The non-linear layer really helps makes sense of the data! But we can do better still..."
   ]
  },
  {
   "cell_type": "code",
   "execution_count": 21,
   "metadata": {
    "scrolled": false
   },
   "outputs": [
    {
     "name": "stdout",
     "output_type": "stream",
     "text": [
      "step 0, training accuracy 0.2\n",
      "step 1000, training accuracy 0.9\n",
      "step 2000, training accuracy 0.9\n",
      "step 3000, training accuracy 0.98\n",
      "step 4000, training accuracy 0.98\n",
      "step 5000, training accuracy 0.94\n",
      "step 6000, training accuracy 0.96\n",
      "step 7000, training accuracy 1\n",
      "step 8000, training accuracy 0.96\n",
      "step 9000, training accuracy 1\n",
      "step 10000, training accuracy 0.98\n",
      "step 11000, training accuracy 1\n",
      "step 12000, training accuracy 0.94\n",
      "step 13000, training accuracy 0.98\n",
      "step 14000, training accuracy 1\n",
      "step 15000, training accuracy 0.96\n",
      "step 16000, training accuracy 0.96\n",
      "step 17000, training accuracy 0.98\n",
      "step 18000, training accuracy 1\n",
      "step 19000, training accuracy 0.96\n",
      "test accuracy 0.9779\n"
     ]
    }
   ],
   "source": [
    "train_step = tf.train.AdamOptimizer(1e-4).minimize(cross_entropy)\n",
    "correct_prediction = tf.equal(tf.argmax(y_MLP,1), tf.argmax(y_,1))\n",
    "accuracy = tf.reduce_mean(tf.cast(correct_prediction, tf.float32))\n",
    "sess.run(tf.global_variables_initializer())\n",
    "for i in range(20000):\n",
    "  batch = mnist.train.next_batch(50)\n",
    "  if i%1000 == 0:\n",
    "    train_accuracy = accuracy.eval(feed_dict={\n",
    "        x:batch[0], y_: batch[1]})\n",
    "    print(\"step %d, training accuracy %g\"%(i, train_accuracy))\n",
    "  train_step.run(feed_dict={x: batch[0], y_: batch[1]})\n",
    "\n",
    "print(\"test accuracy %g\"%accuracy.eval(feed_dict={\n",
    "    x: mnist.test.images, y_: mnist.test.labels}))"
   ]
  },
  {
   "cell_type": "markdown",
   "metadata": {},
   "source": [
    "## A Simple Convolutional Neural Network: LeNet"
   ]
  },
  {
   "cell_type": "markdown",
   "metadata": {},
   "source": [
    "Here we make our first CNN. It's quite simple network, but it's surprisingly good at this handwritten digit recognition task. This a variant on Yann LeCun's CNN network that really helped to move deep learning forward."
   ]
  },
  {
   "cell_type": "markdown",
   "metadata": {},
   "source": [
    "We define both weight and bias variables and how they are to be initialized. Note that the weights are are distributed according to a standard normal distribution (mean = 0, std = 0.1). This random initialization helps avoid hidden units get stuck together, as units that start with the same value will be updated identically in the non-convolutional layers. In contrast, the bias variables are set to a small positive number--this is help prevent hidden units from starting out and getting stuck in the zero part of the ReLu. "
   ]
  },
  {
   "cell_type": "code",
   "execution_count": 22,
   "metadata": {
    "collapsed": true
   },
   "outputs": [],
   "source": [
    "def weight_variable(shape):\n",
    "  initial = tf.truncated_normal(shape, stddev=0.1)\n",
    "  return tf.Variable(initial)\n",
    "\n",
    "def bias_variable(shape):\n",
    "  initial = tf.constant(0.1, shape=shape)\n",
    "  return tf.Variable(initial)"
   ]
  },
  {
   "cell_type": "markdown",
   "metadata": {},
   "source": [
    "Next we define how the convolution is to be computed and the extent and type of pooling. The convolution will use a 5x5 kernel and will pad the image with zeros around the edges and use a stride of 1 pixel so that the resulting image (after convolution) has the same size as the original input image. The network will learn the weights for a stack of 32 separate kernels along with 32 bias variables. Finally, after the ReLu is performed the result will be under go 2x2 max pooling, thus halfing both dimensions of the image. The choices for the stride, padding, and pooling are not parameters that the network needs to estimate. Rather these are termed \"hyperparamters\" that are usually set by the network designer."
   ]
  },
  {
   "cell_type": "code",
   "execution_count": 23,
   "metadata": {
    "collapsed": true
   },
   "outputs": [],
   "source": [
    "def conv2d(x, W):\n",
    "  return tf.nn.conv2d(x, W, strides=[1, 1, 1, 1], padding='SAME')\n",
    "\n",
    "def max_pool_2x2(x):\n",
    "  return tf.nn.max_pool(x, ksize=[1, 2, 2, 1],\n",
    "                        strides=[1, 2, 2, 1], padding='SAME')"
   ]
  },
  {
   "cell_type": "markdown",
   "metadata": {},
   "source": [
    "This creates the weight and bias variables for the first convolutional layer as described above. Note the output has depth 32, so there will be 32 feature images after this layer."
   ]
  },
  {
   "cell_type": "code",
   "execution_count": 24,
   "metadata": {
    "collapsed": true
   },
   "outputs": [],
   "source": [
    "W_conv1 = weight_variable([5, 5, 1, 32])\n",
    "b_conv1 = bias_variable([32])"
   ]
  },
  {
   "cell_type": "markdown",
   "metadata": {},
   "source": [
    "Unlike for our softmax regressor above, here we need keep the images as images and not collapse these into vectors; this allows us to perform the 2D convolution."
   ]
  },
  {
   "cell_type": "code",
   "execution_count": 25,
   "metadata": {
    "collapsed": true
   },
   "outputs": [],
   "source": [
    "x_image = tf.reshape(x, [-1,28,28,1])"
   ]
  },
  {
   "cell_type": "markdown",
   "metadata": {},
   "source": [
    "Finally, we define are first layer of our CNN!"
   ]
  },
  {
   "cell_type": "code",
   "execution_count": 26,
   "metadata": {
    "collapsed": true
   },
   "outputs": [],
   "source": [
    "h_conv1 = tf.nn.relu(conv2d(x_image, W_conv1) + b_conv1)\n",
    "h_pool1 = max_pool_2x2(h_conv1)"
   ]
  },
  {
   "cell_type": "markdown",
   "metadata": {},
   "source": [
    "And wasting no time, we define are second layer. The second layer will have to process 32 feature images coming out of the first layer. Note that the images input to this layer have $\\frac{1}{4}$ the number of pixels as the original input images due to the 2x2 pooling in the previous layer. Note that convolution layer NOT fully connected as our previous hidden layers have been. A unit in the output layer has a limited \"receptive field.\" Its connections to the input layer are spatially limited by the kernel (or filter) size. Also, because of weight sharing in convolutional layers, the number of parameters for a convolutional is the size of the kernel x the depth of the input layer x depth of the output layer + depth of the output layer. So for the second layer of our ConvNet, we have 5 x 5 x 32 x 64 + 64 = 51,264 parameters. "
   ]
  },
  {
   "cell_type": "code",
   "execution_count": 27,
   "metadata": {
    "collapsed": true
   },
   "outputs": [],
   "source": [
    "W_conv2 = weight_variable([5, 5, 32, 64])\n",
    "b_conv2 = bias_variable([64])\n",
    "\n",
    "h_conv2 = tf.nn.relu(conv2d(h_pool1, W_conv2) + b_conv2)\n",
    "h_pool2 = max_pool_2x2(h_conv2)"
   ]
  },
  {
   "cell_type": "markdown",
   "metadata": {},
   "source": [
    "After the pooling stage of our second convolutional layer, we have 64 7x7 \"feature\" images. In one penultimate fully connected hidden layer, we are going to map these feature imges to a 1024 dimensional feature space. Note we need to flatten these feature images to do this."
   ]
  },
  {
   "cell_type": "code",
   "execution_count": 28,
   "metadata": {
    "collapsed": true
   },
   "outputs": [],
   "source": [
    "W_fc1 = weight_variable([7 * 7 * 64, 1024])\n",
    "b_fc1 = bias_variable([1024])\n",
    "\n",
    "h_pool2_flat = tf.reshape(h_pool2, [-1, 7*7*64])\n",
    "h_fc1 = tf.nn.relu(tf.matmul(h_pool2_flat, W_fc1) + b_fc1)"
   ]
  },
  {
   "cell_type": "markdown",
   "metadata": {},
   "source": [
    "Dropout is added here, although it is not really needed for such small network."
   ]
  },
  {
   "cell_type": "code",
   "execution_count": 29,
   "metadata": {
    "collapsed": true
   },
   "outputs": [],
   "source": [
    "keep_prob = tf.placeholder(tf.float32)\n",
    "h_fc1_drop = tf.nn.dropout(h_fc1, keep_prob)"
   ]
  },
  {
   "cell_type": "markdown",
   "metadata": {},
   "source": [
    "We have a final linear output layer mapping features to scores topped off with a softmax cross entropy loss function, as explained earlier."
   ]
  },
  {
   "cell_type": "code",
   "execution_count": 30,
   "metadata": {},
   "outputs": [],
   "source": [
    "W_fc2 = weight_variable([1024, 10])\n",
    "b_fc2 = bias_variable([10])\n",
    "\n",
    "y_conv = tf.matmul(h_fc1_drop, W_fc2) + b_fc2"
   ]
  },
  {
   "cell_type": "code",
   "execution_count": 31,
   "metadata": {
    "collapsed": true
   },
   "outputs": [],
   "source": [
    "cross_entropy = tf.reduce_mean(\n",
    "    tf.nn.softmax_cross_entropy_with_logits(labels=y_, logits=y_conv))"
   ]
  },
  {
   "cell_type": "markdown",
   "metadata": {},
   "source": [
    "For training we choose an Adam learning rate and update rule. We then run this for 20,000 iterations and evaluate our accuracy after training."
   ]
  },
  {
   "cell_type": "code",
   "execution_count": 32,
   "metadata": {},
   "outputs": [
    {
     "name": "stdout",
     "output_type": "stream",
     "text": [
      "step 0, training accuracy 0.16\n",
      "step 1000, training accuracy 0.94\n",
      "step 2000, training accuracy 1\n",
      "step 3000, training accuracy 0.98\n",
      "step 4000, training accuracy 1\n",
      "step 5000, training accuracy 0.96\n",
      "step 6000, training accuracy 0.98\n",
      "step 7000, training accuracy 1\n",
      "step 8000, training accuracy 1\n",
      "step 9000, training accuracy 0.98\n",
      "step 10000, training accuracy 1\n",
      "step 11000, training accuracy 1\n",
      "step 12000, training accuracy 1\n",
      "step 13000, training accuracy 1\n",
      "step 14000, training accuracy 1\n",
      "step 15000, training accuracy 1\n",
      "step 16000, training accuracy 1\n",
      "step 17000, training accuracy 1\n",
      "step 18000, training accuracy 1\n",
      "step 19000, training accuracy 1\n",
      "test accuracy 0.9925\n"
     ]
    }
   ],
   "source": [
    "train_step = tf.train.AdamOptimizer(1e-4).minimize(cross_entropy)\n",
    "correct_prediction = tf.equal(tf.argmax(y_conv,1), tf.argmax(y_,1))\n",
    "accuracy = tf.reduce_mean(tf.cast(correct_prediction, tf.float32))\n",
    "sess.run(tf.global_variables_initializer())\n",
    "for i in range(20000):\n",
    "  batch = mnist.train.next_batch(50)\n",
    "  if i%1000 == 0:\n",
    "    train_accuracy = accuracy.eval(feed_dict={\n",
    "        x:batch[0], y_: batch[1], keep_prob: 1.0})\n",
    "    print(\"step %d, training accuracy %g\"%(i, train_accuracy))\n",
    "  train_step.run(feed_dict={x: batch[0], y_: batch[1], keep_prob: 0.5})\n",
    "\n",
    "print(\"test accuracy %g\"%accuracy.eval(feed_dict={\n",
    "    x: mnist.test.images, y_: mnist.test.labels, keep_prob: 1.0}))"
   ]
  },
  {
   "cell_type": "markdown",
   "metadata": {},
   "source": [
    "We add an output to compuational graph that computes the label probabilities."
   ]
  },
  {
   "cell_type": "code",
   "execution_count": 33,
   "metadata": {
    "collapsed": true
   },
   "outputs": [],
   "source": [
    "y_probs = tf.nn.softmax(logits=y_conv, name=None)"
   ]
  },
  {
   "cell_type": "code",
   "execution_count": 34,
   "metadata": {},
   "outputs": [
    {
     "name": "stdout",
     "output_type": "stream",
     "text": [
      "test accuracy 0.9925\n"
     ]
    }
   ],
   "source": [
    "print(\"test accuracy %g\"%accuracy.eval(feed_dict={\n",
    "    x: mnist.test.images, y_: mnist.test.labels, keep_prob: 1.0}))"
   ]
  },
  {
   "cell_type": "markdown",
   "metadata": {},
   "source": [
    "Next we step through some test examples and see how well the network is doing."
   ]
  },
  {
   "cell_type": "code",
   "execution_count": 35,
   "metadata": {},
   "outputs": [
    {
     "data": {
      "image/png": "[encoded data removed]",
      "text/plain": [
       "<matplotlib.figure.Figure at 0x11d599f10>"
      ]
     },
     "metadata": {},
     "output_type": "display_data"
    },
    {
     "name": "stdout",
     "output_type": "stream",
     "text": [
      "Label =  [[ 0.  0.  0.  0.  0.  0.  0.  0.  0.  1.]]\n",
      "Class probabilities =  [[  5.28820287e-14   1.61565119e-12   1.47112888e-12   1.99402633e-10\n",
      "    8.20477112e-07   1.07506337e-09   4.57562201e-15   8.61227306e-07\n",
      "    3.80472631e-09   9.99998331e-01]]\n"
     ]
    },
    {
     "data": {
      "image/png": "[encoded data removed]",
      "text/plain": [
       "<matplotlib.figure.Figure at 0x11ec3dcd0>"
      ]
     },
     "metadata": {},
     "output_type": "display_data"
    },
    {
     "name": "stdout",
     "output_type": "stream",
     "text": [
      "Label =  [[ 1.  0.  0.  0.  0.  0.  0.  0.  0.  0.]]\n",
      "Class probabilities =  [[  1.00000000e+00   3.50560683e-12   1.00434594e-09   1.73949210e-14\n",
      "    8.60713218e-16   3.75027960e-12   9.13440157e-11   2.25712261e-11\n",
      "    1.23941948e-12   4.15561162e-11]]\n"
     ]
    },
    {
     "data": {
      "image/png": "[encoded data removed]",
      "text/plain": [
       "<matplotlib.figure.Figure at 0x1274c8090>"
      ]
     },
     "metadata": {},
     "output_type": "display_data"
    },
    {
     "name": "stdout",
     "output_type": "stream",
     "text": [
      "Label =  [[ 0.  0.  0.  0.  0.  0.  1.  0.  0.  0.]]\n",
      "Class probabilities =  [[  1.41643053e-09   7.71405238e-14   1.62943230e-15   5.57100261e-15\n",
      "    2.53674198e-13   1.26207560e-11   1.00000000e+00   4.33625261e-15\n",
      "    3.95802037e-11   7.02078399e-16]]\n"
     ]
    },
    {
     "data": {
      "image/png": "[encoded data removed]",
      "text/plain": [
       "<matplotlib.figure.Figure at 0x1277466d0>"
      ]
     },
     "metadata": {},
     "output_type": "display_data"
    },
    {
     "name": "stdout",
     "output_type": "stream",
     "text": [
      "Label =  [[ 0.  0.  0.  0.  0.  0.  0.  0.  0.  1.]]\n",
      "Class probabilities =  [[  3.76756785e-12   1.12312442e-11   3.20851019e-11   2.01345451e-09\n",
      "    2.59802891e-05   6.02736749e-09   2.61297559e-12   4.99466495e-08\n",
      "    6.30753760e-09   9.99974012e-01]]\n"
     ]
    },
    {
     "data": {
      "image/png": "[encoded data removed]",
      "text/plain": [
       "<matplotlib.figure.Figure at 0x12778c250>"
      ]
     },
     "metadata": {},
     "output_type": "display_data"
    },
    {
     "name": "stdout",
     "output_type": "stream",
     "text": [
      "Label =  [[ 1.  0.  0.  0.  0.  0.  0.  0.  0.  0.]]\n",
      "Class probabilities =  [[  1.00000000e+00   1.98105139e-12   1.07032493e-12   2.90848210e-14\n",
      "    8.34232247e-15   6.83068185e-12   1.36369707e-08   4.16134821e-10\n",
      "    5.86183532e-12   1.50796278e-10]]\n"
     ]
    }
   ],
   "source": [
    "for i in range(5):\n",
    "    batch = mnist.test.next_batch(1)\n",
    "    image = np.asarray(batch[0]).reshape((28, 28))\n",
    "    label = batch[1]\n",
    "    \n",
    "    plt.imshow(image)\n",
    "    plt.axis(\"off\")\n",
    "    plt.show()\n",
    "    print \"Label = \", label\n",
    "    print \"Class probabilities = \", y_probs.eval(feed_dict={\n",
    "        x: batch[0], y_: batch[1], keep_prob: 1.0})"
   ]
  },
  {
   "cell_type": "code",
   "execution_count": 2,
   "metadata": {},
   "outputs": [],
   "source": [
    "from __future__ import print_function\n",
    "import numpy as np\n",
    "import os\n",
    "\n",
    "import tensorflow as tf\n",
    "import keras\n",
    "from keras.layers import Dense, Conv2D\n",
    "from keras.layers import Activation\n",
    "from keras.layers import MaxPooling2D, Dropout\n",
    "from keras.layers import Input, Flatten\n",
    "from keras.optimizers import SGD, Adam\n",
    "from keras.callbacks import ModelCheckpoint, TensorBoard\n",
    "from keras import backend as K\n",
    "from keras.models import Model, load_model\n"
   ]
  },
  {
   "cell_type": "code",
   "execution_count": 3,
   "metadata": {},
   "outputs": [],
   "source": [
    "num_classes = 10"
   ]
  },
  {
   "cell_type": "markdown",
   "metadata": {},
   "source": [
    "### Load Data"
   ]
  },
  {
   "cell_type": "code",
   "execution_count": 7,
   "metadata": {},
   "outputs": [
    {
     "name": "stdout",
     "output_type": "stream",
     "text": [
      "Extracting MNIST_data/train-images-idx3-ubyte.gz\n",
      "Extracting MNIST_data/train-labels-idx1-ubyte.gz\n",
      "Extracting MNIST_data/t10k-images-idx3-ubyte.gz\n",
      "Extracting MNIST_data/t10k-labels-idx1-ubyte.gz\n"
     ]
    }
   ],
   "source": [
    "from tensorflow.examples.tutorials.mnist import input_data\n",
    "mnist = input_data.read_data_sets('MNIST_data', one_hot=True)\n",
    "rows = cols = 28\n",
    "channels = 1"
   ]
  },
  {
   "cell_type": "code",
   "execution_count": 8,
   "metadata": {},
   "outputs": [],
   "source": [
    "def write_log(callback, names, logs, batch_no):\n",
    "    for name, value in zip(names, logs):\n",
    "        summary = tf.Summary()\n",
    "        summary_value = summary.value.add()\n",
    "        summary_value.simple_value = value\n",
    "        summary_value.tag = name\n",
    "        callback.writer.add_summary(summary, batch_no)\n",
    "        callback.writer.flush()"
   ]
  },
  {
   "cell_type": "code",
   "execution_count": 9,
   "metadata": {},
   "outputs": [],
   "source": [
    "train_data = mnist.train.images.reshape(-1, rows, cols, 1)\n",
    "train_labels = mnist.train.labels\n",
    "val_data = mnist.validation.images.reshape(-1, rows, cols, 1)\n",
    "val_labels = mnist.validation.labels\n",
    "test_data = mnist.test.images.reshape(-1, rows, cols, 1)\n",
    "test_labels = mnist.test.labels"
   ]
  },
  {
   "cell_type": "markdown",
   "metadata": {},
   "source": [
    "## (Keras Implementation) Softmax Regression Model on the MNIST Digits Data"
   ]
  },
  {
   "cell_type": "code",
   "execution_count": 54,
   "metadata": {
    "scrolled": false
   },
   "outputs": [
    {
     "name": "stdout",
     "output_type": "stream",
     "text": [
      "_________________________________________________________________\n",
      "Layer (type)                 Output Shape              Param #   \n",
      "=================================================================\n",
      "input_14 (InputLayer)        (None, 28, 28, 1)         0         \n",
      "_________________________________________________________________\n",
      "flatten_14 (Flatten)         (None, 784)               0         \n",
      "_________________________________________________________________\n",
      "dense_19 (Dense)             (None, 10)                7850      \n",
      "=================================================================\n",
      "Total params: 7,850\n",
      "Trainable params: 7,850\n",
      "Non-trainable params: 0\n",
      "_________________________________________________________________\n",
      "./logs/softmax_regr/\n",
      "Train on 55000 samples, validate on 5000 samples\n",
      "Epoch 1/18\n",
      "53400/55000 [============================>.] - ETA: 0s - loss: 0.3999 - acc: 0.8854Epoch 00000: val_loss improved from inf to 0.29680, saving model to saved_models/softmax_regr_model.h5\n",
      "55000/55000 [==============================] - 2s - loss: 0.3992 - acc: 0.8856 - val_loss: 0.2968 - val_acc: 0.9182\n",
      "Epoch 2/18\n",
      "54300/55000 [============================>.] - ETA: 0s - loss: 0.3110 - acc: 0.9111Epoch 00001: val_loss improved from 0.29680 to 0.27905, saving model to saved_models/softmax_regr_model.h5\n",
      "55000/55000 [==============================] - 2s - loss: 0.3104 - acc: 0.9113 - val_loss: 0.2790 - val_acc: 0.9206\n",
      "Epoch 3/18\n",
      "53900/55000 [============================>.] - ETA: 0s - loss: 0.2945 - acc: 0.9167Epoch 00002: val_loss improved from 0.27905 to 0.27102, saving model to saved_models/softmax_regr_model.h5\n",
      "55000/55000 [==============================] - 2s - loss: 0.2948 - acc: 0.9167 - val_loss: 0.2710 - val_acc: 0.9266\n",
      "Epoch 4/18\n",
      "54500/55000 [============================>.] - ETA: 0s - loss: 0.2860 - acc: 0.9194Epoch 00003: val_loss improved from 0.27102 to 0.27017, saving model to saved_models/softmax_regr_model.h5\n",
      "55000/55000 [==============================] - 2s - loss: 0.2864 - acc: 0.9195 - val_loss: 0.2702 - val_acc: 0.9224\n",
      "Epoch 5/18\n",
      "54600/55000 [============================>.] - ETA: 0s - loss: 0.2813 - acc: 0.9206Epoch 00004: val_loss did not improve\n",
      "55000/55000 [==============================] - 2s - loss: 0.2813 - acc: 0.9206 - val_loss: 0.2705 - val_acc: 0.9250\n",
      "Epoch 6/18\n",
      "54100/55000 [============================>.] - ETA: 0s - loss: 0.2777 - acc: 0.9224Epoch 00005: val_loss improved from 0.27017 to 0.26663, saving model to saved_models/softmax_regr_model.h5\n",
      "55000/55000 [==============================] - 1s - loss: 0.2780 - acc: 0.9224 - val_loss: 0.2666 - val_acc: 0.9260\n",
      "Epoch 7/18\n",
      "53800/55000 [============================>.] - ETA: 0s - loss: 0.2751 - acc: 0.9236Epoch 00006: val_loss improved from 0.26663 to 0.26292, saving model to saved_models/softmax_regr_model.h5\n",
      "55000/55000 [==============================] - 2s - loss: 0.2742 - acc: 0.9238 - val_loss: 0.2629 - val_acc: 0.9276\n",
      "Epoch 8/18\n",
      "54800/55000 [============================>.] - ETA: 0s - loss: 0.2710 - acc: 0.9243Epoch 00007: val_loss did not improve\n",
      "55000/55000 [==============================] - 2s - loss: 0.2709 - acc: 0.9244 - val_loss: 0.2696 - val_acc: 0.9252\n",
      "Epoch 9/18\n",
      "54400/55000 [============================>.] - ETA: 0s - loss: 0.2685 - acc: 0.9249Epoch 00008: val_loss did not improve\n",
      "55000/55000 [==============================] - 2s - loss: 0.2695 - acc: 0.9247 - val_loss: 0.2701 - val_acc: 0.9254\n",
      "Epoch 10/18\n",
      "54700/55000 [============================>.] - ETA: 0s - loss: 0.2677 - acc: 0.9253Epoch 00009: val_loss did not improve\n",
      "55000/55000 [==============================] - 2s - loss: 0.2675 - acc: 0.9253 - val_loss: 0.2680 - val_acc: 0.9256\n",
      "Epoch 11/18\n",
      "54500/55000 [============================>.] - ETA: 0s - loss: 0.2660 - acc: 0.9266Epoch 00010: val_loss did not improve\n",
      "55000/55000 [==============================] - 2s - loss: 0.2660 - acc: 0.9265 - val_loss: 0.2675 - val_acc: 0.9276\n",
      "Epoch 12/18\n",
      "53700/55000 [============================>.] - ETA: 0s - loss: 0.2636 - acc: 0.9266Epoch 00011: val_loss did not improve\n",
      "55000/55000 [==============================] - 2s - loss: 0.2637 - acc: 0.9267 - val_loss: 0.2701 - val_acc: 0.9256\n",
      "Epoch 13/18\n",
      "53300/55000 [============================>.] - ETA: 0s - loss: 0.2640 - acc: 0.9263Epoch 00012: val_loss did not improve\n",
      "55000/55000 [==============================] - 1s - loss: 0.2630 - acc: 0.9266 - val_loss: 0.2641 - val_acc: 0.9272\n",
      "Epoch 14/18\n",
      "54500/55000 [============================>.] - ETA: 0s - loss: 0.2612 - acc: 0.9266Epoch 00013: val_loss did not improve\n",
      "55000/55000 [==============================] - 1s - loss: 0.2615 - acc: 0.9265 - val_loss: 0.2718 - val_acc: 0.9232\n",
      "Epoch 15/18\n",
      "53900/55000 [============================>.] - ETA: 0s - loss: 0.2601 - acc: 0.9271Epoch 00014: val_loss did not improve\n",
      "55000/55000 [==============================] - 1s - loss: 0.2607 - acc: 0.9269 - val_loss: 0.2689 - val_acc: 0.9284\n",
      "Epoch 16/18\n",
      "53900/55000 [============================>.] - ETA: 0s - loss: 0.2592 - acc: 0.9272Epoch 00015: val_loss did not improve\n",
      "55000/55000 [==============================] - 2s - loss: 0.2593 - acc: 0.9273 - val_loss: 0.2647 - val_acc: 0.9282\n",
      "Epoch 17/18\n",
      "54700/55000 [============================>.] - ETA: 0s - loss: 0.2589 - acc: 0.9273Epoch 00016: val_loss did not improve\n",
      "55000/55000 [==============================] - 2s - loss: 0.2589 - acc: 0.9273 - val_loss: 0.2653 - val_acc: 0.9288\n",
      "Epoch 18/18\n",
      "53700/55000 [============================>.] - ETA: 0s - loss: 0.2579 - acc: 0.9280Epoch 00017: val_loss did not improve\n",
      "55000/55000 [==============================] - 2s - loss: 0.2574 - acc: 0.9282 - val_loss: 0.2765 - val_acc: 0.9214\n",
      " 9792/10000 [============================>.] - ETA: 0sTest loss: 0.28554793046\n",
      "Test accuracy: 0.9194\n"
     ]
    }
   ],
   "source": [
    "save_dir = \"saved_models/\"\n",
    "model_name = \"softmax_regr\"\n",
    "if not os.path.isdir(save_dir):\n",
    "    os.makedirs(save_dir)\n",
    "modelpath = os.path.join(save_dir, model_name + \"_model.h5\")\n",
    "weightpath = os.path.join(save_dir, model_name + \"_weight.h5\")\n",
    "\n",
    "# Network parameters for learning rate, batch size,\n",
    "# number of epochs\n",
    "lr = 0.5\n",
    "batch_size = 100\n",
    "epochs = 18\n",
    "\n",
    "# Define expected input shape\n",
    "input_shape = (rows, cols, channels)\n",
    "inputs = Input(shape = input_shape)\n",
    "\n",
    "# Flatten input to a vector\n",
    "x = Flatten()(inputs)\n",
    "\n",
    "# Fully connected layer with units = 10\n",
    "# equivalent to the number of classes\n",
    "# Apply softmax activation to all\n",
    "outputs = Dense(10, activation = 'softmax', \n",
    "                kernel_initializer = 'zeros')(x)\n",
    "\n",
    "# Define mode\n",
    "model = Model(inputs = inputs, outputs = outputs)\n",
    "# Specify categorical crossentropy loss with\n",
    "# Stochastic gradient descent (learning rate = 0.5)\n",
    "model.compile(loss = 'categorical_crossentropy',\n",
    "              optimizer = SGD(lr = 0.5),\n",
    "              metrics = ['accuracy'])\n",
    "model.summary()\n",
    "\n",
    "# Callback to save logs for tensorboard\n",
    "log_dir = \"./logs/\" + model_name + \"/\"\n",
    "print(log_dir)\n",
    "tensorboard = TensorBoard(log_dir = log_dir, batch_size = batch_size)\n",
    "\n",
    "# Callback to save the best model\n",
    "checkpoint = ModelCheckpoint(filepath = modelpath,\n",
    "                             verbose = 1,\n",
    "                             save_best_only = True)\n",
    "\n",
    "callbacks = [tensorboard, checkpoint]\n",
    "\n",
    "# Fit training data with batch size of 100\n",
    "# Save model based on validation loss\n",
    "model.fit(train_data, train_labels,\n",
    "          batch_size = batch_size, epochs = epochs, \n",
    "          validation_data = (val_data, val_labels),\n",
    "          shuffle = True, callbacks = callbacks)\n",
    "\n",
    "# Evaluate Test data\n",
    "score = model.evaluate(test_data, test_labels, verbose = 1)\n",
    "print('Test loss:', score[0])\n",
    "print('Test accuracy:', score[1])"
   ]
  },
  {
   "cell_type": "code",
   "execution_count": 61,
   "metadata": {},
   "outputs": [
    {
     "data": {
      "image/png": "[encoded data removed]",
      "text/plain": [
       "<matplotlib.figure.Figure at 0x12360f150>"
      ]
     },
     "metadata": {},
     "output_type": "display_data"
    }
   ],
   "source": [
    "import matplotlib.pyplot as plt\n",
    "\n",
    "save_dir = \"saved_models/\"\n",
    "model_name = \"softmax_regr\"\n",
    "modelpath = os.path.join(save_dir, model_name + \"_model.h5\")\n",
    "\n",
    "model = load_model(modelpath)\n",
    "\n",
    "fig, ax = plt.subplots(2, 5, figsize = (16, 10))\n",
    "plt.suptitle(\"10 examples classified using \" + model_name,\n",
    "             fontsize = 25)\n",
    "for i in range(2):\n",
    "    for j in range(5):\n",
    "        sample = mnist.test.next_batch(1)\n",
    "        image = sample[0].reshape(rows, cols)\n",
    "        label = sample[1]\n",
    "        pred_label = model.predict(image.reshape(-1, rows, cols, 1))\n",
    "        label = np.argmax(label)\n",
    "        pred_label = np.argmax(pred_label)\n",
    "        ax[i][j].imshow(image, cmap = 'gray')\n",
    "        ax[i][j].set_title(\"Correct Label:\" + str(label) +\n",
    "                           \"\\nPredicted Label:\" + str(pred_label),\n",
    "                           fontsize = 16)\n",
    "\n",
    "plt.show()"
   ]
  },
  {
   "cell_type": "markdown",
   "metadata": {},
   "source": [
    "### (Keras Implementation) Softmax Multi-Layer Perceptron"
   ]
  },
  {
   "cell_type": "code",
   "execution_count": 57,
   "metadata": {
    "scrolled": false
   },
   "outputs": [
    {
     "name": "stdout",
     "output_type": "stream",
     "text": [
      "Seed: 321\n",
      "_________________________________________________________________\n",
      "Layer (type)                 Output Shape              Param #   \n",
      "=================================================================\n",
      "input_16 (InputLayer)        (None, 28, 28, 1)         0         \n",
      "_________________________________________________________________\n",
      "flatten_16 (Flatten)         (None, 784)               0         \n",
      "_________________________________________________________________\n",
      "dense_22 (Dense)             (None, 512)               401920    \n",
      "_________________________________________________________________\n",
      "dense_23 (Dense)             (None, 10)                5130      \n",
      "=================================================================\n",
      "Total params: 407,050\n",
      "Trainable params: 407,050\n",
      "Non-trainable params: 0\n",
      "_________________________________________________________________\n",
      "Train on 55000 samples, validate on 5000 samples\n",
      "Epoch 1/18\n",
      "54700/55000 [============================>.] - ETA: 0s - loss: 0.5422 - acc: 0.8418Epoch 00000: val_loss improved from inf to 0.26292, saving model to saved_models/softmax_mlp_model.h5\n",
      "55000/55000 [==============================] - 12s - loss: 0.5406 - acc: 0.8423 - val_loss: 0.2629 - val_acc: 0.9276\n",
      "Epoch 2/18\n",
      "54850/55000 [============================>.] - ETA: 0s - loss: 0.2433 - acc: 0.9321Epoch 00001: val_loss improved from 0.26292 to 0.19658, saving model to saved_models/softmax_mlp_model.h5\n",
      "55000/55000 [==============================] - 11s - loss: 0.2432 - acc: 0.9321 - val_loss: 0.1966 - val_acc: 0.9478\n",
      "Epoch 3/18\n",
      "54950/55000 [============================>.] - ETA: 0s - loss: 0.1889 - acc: 0.9479Epoch 00002: val_loss improved from 0.19658 to 0.16356, saving model to saved_models/softmax_mlp_model.h5\n",
      "55000/55000 [==============================] - 12s - loss: 0.1890 - acc: 0.9479 - val_loss: 0.1636 - val_acc: 0.9576\n",
      "Epoch 4/18\n",
      "54750/55000 [============================>.] - ETA: 0s - loss: 0.1562 - acc: 0.9566Epoch 00003: val_loss improved from 0.16356 to 0.14209, saving model to saved_models/softmax_mlp_model.h5\n",
      "55000/55000 [==============================] - 11s - loss: 0.1561 - acc: 0.9567 - val_loss: 0.1421 - val_acc: 0.9624\n",
      "Epoch 5/18\n",
      "54750/55000 [============================>.] - ETA: 0s - loss: 0.1324 - acc: 0.9639Epoch 00004: val_loss improved from 0.14209 to 0.12751, saving model to saved_models/softmax_mlp_model.h5\n",
      "55000/55000 [==============================] - 10s - loss: 0.1322 - acc: 0.9639 - val_loss: 0.1275 - val_acc: 0.9654\n",
      "Epoch 6/18\n",
      "54900/55000 [============================>.] - ETA: 0s - loss: 0.1143 - acc: 0.9688Epoch 00005: val_loss improved from 0.12751 to 0.11684, saving model to saved_models/softmax_mlp_model.h5\n",
      "55000/55000 [==============================] - 10s - loss: 0.1143 - acc: 0.9687 - val_loss: 0.1168 - val_acc: 0.9680\n",
      "Epoch 7/18\n",
      "54950/55000 [============================>.] - ETA: 0s - loss: 0.0999 - acc: 0.9730Epoch 00006: val_loss improved from 0.11684 to 0.10623, saving model to saved_models/softmax_mlp_model.h5\n",
      "55000/55000 [==============================] - 10s - loss: 0.0999 - acc: 0.9730 - val_loss: 0.1062 - val_acc: 0.9706\n",
      "Epoch 8/18\n",
      "54900/55000 [============================>.] - ETA: 0s - loss: 0.0878 - acc: 0.9764Epoch 00007: val_loss improved from 0.10623 to 0.09835, saving model to saved_models/softmax_mlp_model.h5\n",
      "55000/55000 [==============================] - 10s - loss: 0.0878 - acc: 0.9764 - val_loss: 0.0984 - val_acc: 0.9728\n",
      "Epoch 9/18\n",
      "54800/55000 [============================>.] - ETA: 0s - loss: 0.0777 - acc: 0.9797Epoch 00008: val_loss improved from 0.09835 to 0.09445, saving model to saved_models/softmax_mlp_model.h5\n",
      "55000/55000 [==============================] - 10s - loss: 0.0776 - acc: 0.9797 - val_loss: 0.0945 - val_acc: 0.9732\n",
      "Epoch 10/18\n",
      "54900/55000 [============================>.] - ETA: 0s - loss: 0.0693 - acc: 0.9816Epoch 00009: val_loss improved from 0.09445 to 0.09094, saving model to saved_models/softmax_mlp_model.h5\n",
      "55000/55000 [==============================] - 10s - loss: 0.0693 - acc: 0.9816 - val_loss: 0.0909 - val_acc: 0.9750\n",
      "Epoch 11/18\n",
      "54800/55000 [============================>.] - ETA: 0s - loss: 0.0617 - acc: 0.9842Epoch 00010: val_loss improved from 0.09094 to 0.08582, saving model to saved_models/softmax_mlp_model.h5\n",
      "55000/55000 [==============================] - 11s - loss: 0.0618 - acc: 0.9841 - val_loss: 0.0858 - val_acc: 0.9760\n",
      "Epoch 12/18\n",
      "54800/55000 [============================>.] - ETA: 0s - loss: 0.0554 - acc: 0.9862Epoch 00011: val_loss improved from 0.08582 to 0.08305, saving model to saved_models/softmax_mlp_model.h5\n",
      "55000/55000 [==============================] - 11s - loss: 0.0555 - acc: 0.9861 - val_loss: 0.0830 - val_acc: 0.9754\n",
      "Epoch 13/18\n",
      "54800/55000 [============================>.] - ETA: 0s - loss: 0.0497 - acc: 0.9880Epoch 00012: val_loss improved from 0.08305 to 0.07948, saving model to saved_models/softmax_mlp_model.h5\n",
      "55000/55000 [==============================] - 12s - loss: 0.0497 - acc: 0.9880 - val_loss: 0.0795 - val_acc: 0.9766\n",
      "Epoch 14/18\n",
      "54750/55000 [============================>.] - ETA: 0s - loss: 0.0446 - acc: 0.9896Epoch 00013: val_loss improved from 0.07948 to 0.07715, saving model to saved_models/softmax_mlp_model.h5\n",
      "55000/55000 [==============================] - 12s - loss: 0.0447 - acc: 0.9896 - val_loss: 0.0771 - val_acc: 0.9770\n",
      "Epoch 15/18\n",
      "54850/55000 [============================>.] - ETA: 0s - loss: 0.0403 - acc: 0.9906Epoch 00014: val_loss improved from 0.07715 to 0.07471, saving model to saved_models/softmax_mlp_model.h5\n",
      "55000/55000 [==============================] - 11s - loss: 0.0403 - acc: 0.9906 - val_loss: 0.0747 - val_acc: 0.9786\n",
      "Epoch 16/18\n",
      "54700/55000 [============================>.] - ETA: 0s - loss: 0.0363 - acc: 0.9919Epoch 00015: val_loss improved from 0.07471 to 0.07189, saving model to saved_models/softmax_mlp_model.h5\n",
      "55000/55000 [==============================] - 12s - loss: 0.0363 - acc: 0.9919 - val_loss: 0.0719 - val_acc: 0.9786\n",
      "Epoch 17/18\n",
      "54750/55000 [============================>.] - ETA: 0s - loss: 0.0328 - acc: 0.9931Epoch 00016: val_loss did not improve\n",
      "55000/55000 [==============================] - 12s - loss: 0.0327 - acc: 0.9930 - val_loss: 0.0735 - val_acc: 0.9774\n",
      "Epoch 18/18\n",
      "54750/55000 [============================>.] - ETA: 0s - loss: 0.0293 - acc: 0.9941Epoch 00017: val_loss improved from 0.07189 to 0.07110, saving model to saved_models/softmax_mlp_model.h5\n",
      "55000/55000 [==============================] - 11s - loss: 0.0294 - acc: 0.9941 - val_loss: 0.0711 - val_acc: 0.9794\n",
      " 9632/10000 [===========================>..] - ETA: 0sTest loss: 0.0731139129666\n",
      "Test accuracy: 0.9781\n"
     ]
    }
   ],
   "source": [
    "# Directory and filename for saving the best model\n",
    "save_dir = \"saved_models/\"\n",
    "model_name = \"softmax_mlp\"\n",
    "if not os.path.isdir(save_dir):\n",
    "    os.makedirs(save_dir)\n",
    "modelpath = os.path.join(save_dir, model_name + \"_model.h5\")\n",
    "\n",
    "# Optimization parameters for learning like learning rate,\n",
    "# batch size, epochs\n",
    "lr = 1e-4\n",
    "batch_size = 50\n",
    "epochs = 18\n",
    "seed = np.random.randint(1000)\n",
    "print(\"Seed: %d\" %seed)\n",
    "np.random.seed(seed)\n",
    "\n",
    "# Weight initializer based on normal distrubution of \n",
    "# mean 0, stddev 0.1 used for the layers\n",
    "weight_init = keras.initializers.RandomNormal(stddev = 0.1,\n",
    "                                              seed = seed)\n",
    "# Bias initializer to a constant 0.1 value used for the layers\n",
    "bias_init = keras.initializers.Constant(value = 0.1)\n",
    "\n",
    "# Specify input shape (doesn't change from before)\n",
    "inputs = Input(shape = input_shape)\n",
    "\n",
    "# Flatten input to a vector since this is an MLP\n",
    "x = Flatten()(inputs)\n",
    "# 512 fully connected units with ReLU activation\n",
    "x = Dense(512, activation = 'relu', \n",
    "          kernel_initializer = weight_init,\n",
    "          bias_initializer = bias_init)(x)\n",
    "# Output layer with units equal to the number of classes\n",
    "# Uses softmax activation for probability distribution\n",
    "outputs = Dense(num_classes, activation = 'softmax',\n",
    "          kernel_initializer = weight_init,\n",
    "          bias_initializer = bias_init)(x)\n",
    "# Define model\n",
    "model = Model(inputs = inputs, outputs = outputs)\n",
    "# Compile model by specifying loss and optimizer\n",
    "model.compile(loss = 'categorical_crossentropy',\n",
    "              optimizer = Adam(lr = lr),\n",
    "              metrics = ['accuracy'])\n",
    "model.summary()\n",
    "\n",
    "# Define log callback for tensorboard\n",
    "log_dir = \"./logs/\" + model_name + \"/\"\n",
    "tensorboard = TensorBoard(log_dir = log_dir, batch_size = batch_size)\n",
    "\n",
    "# Define callback for saving the best model\n",
    "checkpoint = ModelCheckpoint(filepath = modelpath,\n",
    "                             verbose = 1,\n",
    "                             save_best_only = True)\n",
    "\n",
    "callbacks = [tensorboard, checkpoint]\n",
    "\n",
    "# Fit training data and use validation loss for checkpoints\n",
    "model.fit(train_data, train_labels,\n",
    "          batch_size = batch_size, epochs = epochs, \n",
    "          validation_data = (val_data, val_labels),\n",
    "          shuffle = True, callbacks = callbacks)\n",
    "\n",
    "# Evaluate data on the test set\n",
    "score = model.evaluate(test_data, test_labels, verbose = 1)\n",
    "print('Test loss:', score[0])\n",
    "print('Test accuracy:', score[1])"
   ]
  },
  {
   "cell_type": "code",
   "execution_count": 62,
   "metadata": {},
   "outputs": [
    {
     "data": {
      "image/png": "[encoded data removed]",
      "text/plain": [
       "<matplotlib.figure.Figure at 0x123776fd0>"
      ]
     },
     "metadata": {},
     "output_type": "display_data"
    }
   ],
   "source": [
    "import matplotlib.pyplot as plt\n",
    "\n",
    "save_dir = \"saved_models/\"\n",
    "model_name = \"softmax_mlp\"\n",
    "modelpath = os.path.join(save_dir, model_name + \"_model.h5\")\n",
    "\n",
    "model = load_model(modelpath)\n",
    "\n",
    "fig, ax = plt.subplots(2, 5, figsize = (16, 10))\n",
    "plt.suptitle(\"10 examples classified using \" + model_name,\n",
    "             fontsize = 25)\n",
    "for i in range(2):\n",
    "    for j in range(5):\n",
    "        sample = mnist.test.next_batch(1)\n",
    "        image = sample[0].reshape(rows, cols)\n",
    "        label = sample[1]\n",
    "        pred_label = model.predict(image.reshape(-1, rows, cols, 1))\n",
    "        label = np.argmax(label)\n",
    "        pred_label = np.argmax(pred_label)\n",
    "        ax[i][j].imshow(image, cmap = 'gray')\n",
    "        ax[i][j].set_title(\"Correct Label:\" + str(label) +\n",
    "                           \"\\nPredicted Label:\" + str(pred_label),\n",
    "                           fontsize = 16)\n",
    "\n",
    "plt.show()"
   ]
  },
  {
   "cell_type": "markdown",
   "metadata": {},
   "source": [
    "### (Keras Implementation) Simple CNN: LeNet"
   ]
  },
  {
   "cell_type": "code",
   "execution_count": null,
   "metadata": {
    "scrolled": false
   },
   "outputs": [
    {
     "name": "stdout",
     "output_type": "stream",
     "text": [
      "Seed: 478\n",
      "_________________________________________________________________\n",
      "Layer (type)                 Output Shape              Param #   \n",
      "=================================================================\n",
      "input_18 (InputLayer)        (None, 28, 28, 1)         0         \n",
      "_________________________________________________________________\n",
      "conv2d_7 (Conv2D)            (None, 28, 28, 32)        832       \n",
      "_________________________________________________________________\n",
      "activation_7 (Activation)    (None, 28, 28, 32)        0         \n",
      "_________________________________________________________________\n",
      "max_pooling2d_7 (MaxPooling2 (None, 14, 14, 32)        0         \n",
      "_________________________________________________________________\n",
      "conv2d_8 (Conv2D)            (None, 14, 14, 64)        51264     \n",
      "_________________________________________________________________\n",
      "activation_8 (Activation)    (None, 14, 14, 64)        0         \n",
      "_________________________________________________________________\n",
      "max_pooling2d_8 (MaxPooling2 (None, 7, 7, 64)          0         \n",
      "_________________________________________________________________\n",
      "flatten_18 (Flatten)         (None, 3136)              0         \n",
      "_________________________________________________________________\n",
      "dense_26 (Dense)             (None, 1024)              3212288   \n",
      "_________________________________________________________________\n",
      "dropout_4 (Dropout)          (None, 1024)              0         \n",
      "_________________________________________________________________\n",
      "dense_27 (Dense)             (None, 10)                10250     \n",
      "=================================================================\n",
      "Total params: 3,274,634\n",
      "Trainable params: 3,274,634\n",
      "Non-trainable params: 0\n",
      "_________________________________________________________________\n",
      "Train on 55000 samples, validate on 5000 samples\n",
      "Epoch 1/18\n",
      "54950/55000 [============================>.] - ETA: 0s - loss: 0.9371 - acc: 0.8252Epoch 00000: val_loss improved from inf to 0.11519, saving model to saved_models/simple_cnn_model.h5\n",
      "55000/55000 [==============================] - 357s - loss: 0.9363 - acc: 0.8254 - val_loss: 0.1152 - val_acc: 0.9672\n",
      "Epoch 2/18\n",
      "38300/55000 [===================>..........] - ETA: 104s - loss: 0.1721 - acc: 0.9468"
     ]
    }
   ],
   "source": [
    "# Directory and filename for saving the best model\n",
    "save_dir = \"saved_models/\"\n",
    "model_name = \"simple_cnn\"\n",
    "if not os.path.isdir(save_dir):\n",
    "    os.makedirs(save_dir)\n",
    "modelpath = os.path.join(save_dir, model_name + \"_model.h5\")\n",
    "\n",
    "# Specify parameters like learning rate, batch size\n",
    "lr = 1e-4\n",
    "batch_size = 50\n",
    "\n",
    "seed = np.random.randint(1000)\n",
    "print(\"Seed: %d\" %seed)\n",
    "np.random.seed(seed)\n",
    "\n",
    "# Initializer for kernel from normal distribution with\n",
    "# mean 0 and stddev 0.1 for all layers\n",
    "weight_init = keras.initializers.RandomNormal(stddev = 0.1,\n",
    "                                              seed = seed)\n",
    "# Initiliazer for bias to constant value of 0.1 for all layers\n",
    "bias_init = keras.initializers.Constant(value = 0.1)\n",
    "\n",
    "# Input layer with input shape same as before\n",
    "inputs = Input(shape = input_shape)\n",
    "\n",
    "# LAYER 1\n",
    "\n",
    "# 32 2D Convolutional layers of size 5x5 each,\n",
    "# padded such that the convolutional output remains \n",
    "# of the same size as input (28x28)\n",
    "# Outputs a 28x28x32 tensor\n",
    "x = Conv2D(32, kernel_size = 5, padding = 'same',\n",
    "           kernel_initializer = weight_init,\n",
    "           bias_initializer = bias_init)(inputs)\n",
    "# Apply ReLU activation\n",
    "x = Activation('relu')(x)\n",
    "# Maxpooling within a 2x2 grid. Stride specifies the\n",
    "# no overlap constraint\n",
    "x = MaxPooling2D(pool_size = 2, strides = 2,\n",
    "                 padding='same')(x)\n",
    "\n",
    "# LAYER 2\n",
    "\n",
    "# 2D Covolutional layer with 64 kernels of size 5x5\n",
    "# padded such that output dimension is the same as input\n",
    "# Outputs a 28x28x64 tensor for each image\n",
    "x = Conv2D(64, kernel_size = 5, padding = 'same',\n",
    "           kernel_initializer = weight_init,\n",
    "           bias_initializer = bias_init)(x)\n",
    "# Apply ReLU activation\n",
    "x = Activation('relu')(x)\n",
    "# Maxpool same as in the first layer\n",
    "x = MaxPooling2D(pool_size = 2, strides = 2,\n",
    "                 padding='same')(x)\n",
    "\n",
    "# LAYER 3\n",
    "\n",
    "# Flatten to a network before using the fully connected layer\n",
    "x = Flatten()(x)\n",
    "# Fully connected layer of 1024 units with ReLU activation\n",
    "x = Dense(1024, activation = 'relu', \n",
    "          kernel_initializer = weight_init,\n",
    "          bias_initializer = bias_init)(x)\n",
    "# Add a dropout layer with 0.5 prob\n",
    "x = Dropout(0.5)(x)\n",
    "\n",
    "# OUTPU LAYER\n",
    "# Final fully connected layer with units equal to \n",
    "# number of classes. Output probability distribution\n",
    "# using softmax\n",
    "outputs = Dense(num_classes, activation = 'softmax',\n",
    "          kernel_initializer = weight_init,\n",
    "          bias_initializer = bias_init)(x)\n",
    "\n",
    "# Define model\n",
    "model = Model(inputs = inputs, outputs = outputs)\n",
    "# Compile model with the loss and optimizer\n",
    "model.compile(loss = 'categorical_crossentropy',\n",
    "              optimizer = Adam(lr = lr),\n",
    "              metrics = ['accuracy'])\n",
    "model.summary()\n",
    "\n",
    "# Define log callback for tensorboard\n",
    "log_dir = \"./logs/\" + model_name + \"/\"\n",
    "tensorboard = TensorBoard(log_dir = log_dir, batch_size = batch_size)\n",
    "\n",
    "# Define callback to save the best model\n",
    "checkpoint = ModelCheckpoint(filepath = modelpath,\n",
    "                             verbose = 1,\n",
    "                             save_best_only = True)\n",
    "\n",
    "callbacks = [tensorboard, checkpoint]\n",
    "\n",
    "# Fit using training data and use validation loss for checkpoint\n",
    "model.fit(train_data, train_labels,\n",
    "          batch_size = batch_size, epochs = epochs, \n",
    "          validation_data = (val_data, val_labels),\n",
    "          shuffle = True, callbacks = callbacks)\n",
    "\n",
    "# Evaluate on test data\n",
    "score = model.evaluate(test_data, test_labels, verbose = 1)\n",
    "print('Test loss:', score[0])\n",
    "print('Test accuracy:', score[1])"
   ]
  },
  {
   "cell_type": "code",
   "execution_count": null,
   "metadata": {},
   "outputs": [],
   "source": [
    "import matplotlib.pyplot as plt\n",
    "\n",
    "save_dir = \"saved_models/\"\n",
    "model_name = \"simple_cnn\"\n",
    "modelpath = os.path.join(save_dir, model_name + \"_model.h5\")\n",
    "\n",
    "model = load_model(modelpath)\n",
    "\n",
    "fig, ax = plt.subplots(2, 5, figsize = (16, 10))\n",
    "plt.suptitle(\"10 examples classified using \" + model_name,\n",
    "             fontsize = 25)\n",
    "for i in range(2):\n",
    "    for j in range(5):\n",
    "        sample = mnist.test.next_batch(1)\n",
    "        image = sample[0].reshape(rows, cols)\n",
    "        label = sample[1]\n",
    "        pred_label = model.predict(image.reshape(-1, rows, cols, 1))\n",
    "        label = np.argmax(label)\n",
    "        pred_label = np.argmax(pred_label)\n",
    "        ax[i][j].imshow(image, cmap = 'gray')\n",
    "        ax[i][j].set_title(\"Correct Label:\" + str(label) +\n",
    "                           \"\\nPredicted Label:\" + str(pred_label),\n",
    "                           fontsize = 16)\n",
    "\n",
    "plt.show()"
   ]
  },
  {
   "cell_type": "code",
   "execution_count": null,
   "metadata": {},
   "outputs": [],
   "source": [
    "save_dir = \"saved_models/\"\n",
    "model_name = \"softmax_regr\"\n",
    "modelpath = os.path.join(save_dir, model_name + \"_model.h5\")\n",
    "\n",
    "model = load_model(modelpath)\n",
    "score = model.evaluate(test_data, test_labels)\n",
    "print('Test loss:', score[0])\n",
    "print('Test accuracy:', score[1])"
   ]
  },
  {
   "cell_type": "code",
   "execution_count": null,
   "metadata": {},
   "outputs": [],
   "source": [
    "save_dir = \"saved_models/\"\n",
    "model_name = \"softmax_mlp\"\n",
    "modelpath = os.path.join(save_dir, model_name + \"_model.h5\")\n",
    "\n",
    "model = load_model(modelpath)\n",
    "score = model.evaluate(test_data, test_labels)\n",
    "print('Test loss:', score[0])\n",
    "print('Test accuracy:', score[1])"
   ]
  },
  {
   "cell_type": "code",
   "execution_count": null,
   "metadata": {},
   "outputs": [],
   "source": [
    "save_dir = \"saved_models/\"\n",
    "model_name = \"simple_cnn\"\n",
    "modelpath = os.path.join(save_dir, model_name + \"_model.h5\")\n",
    "\n",
    "model = load_model(modelpath)\n",
    "score = model.evaluate(test_data, test_labels)\n",
    "print('Test loss:', score[0])\n",
    "print('Test accuracy:', score[1])"
   ]
  }
 ],
 "metadata": {
  "kernelspec": {
   "display_name": "Python 2",
   "language": "python",
   "name": "python2"
  },
  "language_info": {
   "codemirror_mode": {
    "name": "ipython",
    "version": 2
   },
   "file_extension": ".py",
   "mimetype": "text/x-python",
   "name": "python",
   "nbconvert_exporter": "python",
   "pygments_lexer": "ipython2",
   "version": "2.7.14"
  }
 },
 "nbformat": 4,
 "nbformat_minor": 2
}
